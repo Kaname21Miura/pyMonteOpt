{
 "cells": [
  {
   "cell_type": "code",
   "execution_count": 1,
   "metadata": {},
   "outputs": [],
   "source": [
    "from pymopt.voxel import VoxelDicomModel\n",
    "from pymopt.optics import OBD\n",
    "import datetime\n",
    "\n",
    "dt_now = datetime.datetime.now()\n",
    "filehead = str(int(dt_now.strftime('%Y%m%d'))-int(2e7))+dt_now.strftime('_%H%M%S')"
   ]
  },
  {
   "cell_type": "code",
   "execution_count": 2,
   "metadata": {},
   "outputs": [
    {
     "name": "stdout",
     "output_type": "stream",
     "text": [
      "../result/201027_135950_dicom4skin16_binary\n"
     ]
    }
   ],
   "source": [
    "dicom_path = 'D:/DICOMfile4'\n",
    "save_path = '../result/'+filehead+'_dicom4skin20_binary'\n",
    "coment = 'change ma_skin 0.015, ms_skin 7.0'\n",
    "\n",
    "params = {\n",
    "    \"th_skin\": 2.,\n",
    "    \"th_ct\": 0.3,\n",
    "    \n",
    "    \"n_sp\": 1.0,\n",
    "    \"n_tr\": 1.54,\n",
    "    \"n_ct\": 1.56,\n",
    "    \"n_skin\": 1.375,\n",
    "    \"n_air\": 1.0,\n",
    "    \n",
    "    \"ma_sp\": 1e-08,\n",
    "    \"ma_tr\": 0.0173,\n",
    "    \"ma_ct\": 0.0173,\n",
    "    \"ma_skin\": 0.015,\n",
    "    \n",
    "    \"ms_sp\": 1e-08,\n",
    "    \"ms_tr\": 16.7825,\n",
    "    \"ms_ct\": 16.7825,\n",
    "    \"ms_skin\": 7.,#6.35595,\n",
    "    \n",
    "    \"g_sp\": 0.9,\n",
    "    \"g_tr\": 0.9375,\n",
    "    \"g_ct\": 0.9375,\n",
    "    \"g_skin\": 0.9\n",
    "}\n",
    "\n",
    "monte_params = {\n",
    "    'nPh':2e7,\n",
    "    'model_type':'binary',#'liner',\n",
    "    'd_beam':0,#0.39,\n",
    "    'fluence_mode':False,#'3D',\n",
    "    'nr':100,'nz':250,'dr':0.1,'dz':0.1,   \n",
    "}\n",
    "print(save_path)"
   ]
  },
  {
   "cell_type": "code",
   "execution_count": null,
   "metadata": {
    "scrolled": true
   },
   "outputs": [],
   "source": [
    "dcm = VoxelDicomModel()\n",
    "dcm.import_dicom(dicom_path)"
   ]
  },
  {
   "cell_type": "code",
   "execution_count": null,
   "metadata": {},
   "outputs": [],
   "source": [
    "dcm.rot180_y()\n",
    "dcm.display_cross_section(xx = 500,yy = 500,zz = 80,graph_type = 'ALL',cmap = 'gray')"
   ]
  },
  {
   "cell_type": "code",
   "execution_count": null,
   "metadata": {},
   "outputs": [],
   "source": [
    "trim_params = {\n",
    "    'int_pix':True,\n",
    "    'right': 0, \n",
    "    'left': 0,\n",
    "    'upper': 0,\n",
    "    'lower':0,\n",
    "    'top':173,\n",
    "    'bottom':0,\n",
    "    'cmap':'PiYG',\n",
    "}\n",
    "dcm.trim_area(**trim_params)"
   ]
  },
  {
   "cell_type": "code",
   "execution_count": null,
   "metadata": {},
   "outputs": [],
   "source": [
    "dcm.set_trim(cmap = 'gray')"
   ]
  },
  {
   "cell_type": "code",
   "execution_count": null,
   "metadata": {},
   "outputs": [],
   "source": [
    "dcm.set_params(params)\n",
    "dcm.set_monte_params(**monte_params)\n",
    "dcm.model.get_params()"
   ]
  },
  {
   "cell_type": "code",
   "execution_count": null,
   "metadata": {},
   "outputs": [],
   "source": [
    "dcm.build()\n",
    "dcm.display_cross_section(image = dcm.model.voxel_model,\n",
    "                          xx = 512,yy = 512,zz = 90,\n",
    "                          cmap = 'gray',hist_type = 'YZ')"
   ]
  },
  {
   "cell_type": "code",
   "execution_count": null,
   "metadata": {},
   "outputs": [],
   "source": [
    "dcm.start()"
   ]
  },
  {
   "cell_type": "code",
   "execution_count": null,
   "metadata": {},
   "outputs": [],
   "source": [
    "dcm.save_result(save_path,coment=coment)"
   ]
  },
  {
   "cell_type": "code",
   "execution_count": null,
   "metadata": {},
   "outputs": [],
   "source": [
    "obd = OBD()\n",
    "obd.set_monte_data(dcm.get_result())\n",
    "#obd.load_file(save_path)\n",
    "opt_params ={\n",
    "    'start':-10,'end':65,'split':1,\n",
    "    'outerD_1':50,'efl_1':100,'bfl_1':93.41,\n",
    "    'ct_1':10,'et_1':3.553,'r_1':51.68,'n_1':1.517,\n",
    "    'outerD_2' : 50,'efl_2' : 50,'bfl_2' : 43.28,\n",
    "    'ct_2':12,'et_2':3.01,'r_2':39.24,'n_2':1.758,\n",
    "    'slit_outerD':50,'slit_D':20,'slit_width':2,'slit_thickness':5,\n",
    "    'd_pd':3,\n",
    "}\n",
    "obd.set_params(opt_params)\n",
    "obd.start()\n",
    "obd.save_result(save_path)"
   ]
  },
  {
   "cell_type": "code",
   "execution_count": null,
   "metadata": {},
   "outputs": [],
   "source": []
  }
 ],
 "metadata": {
  "kernelspec": {
   "display_name": "Python 3",
   "language": "python",
   "name": "python3"
  },
  "language_info": {
   "codemirror_mode": {
    "name": "ipython",
    "version": 3
   },
   "file_extension": ".py",
   "mimetype": "text/x-python",
   "name": "python",
   "nbconvert_exporter": "python",
   "pygments_lexer": "ipython3",
   "version": "3.7.6"
  },
  "toc": {
   "base_numbering": 1,
   "nav_menu": {},
   "number_sections": true,
   "sideBar": true,
   "skip_h1_title": false,
   "title_cell": "Table of Contents",
   "title_sidebar": "Contents",
   "toc_cell": false,
   "toc_position": {},
   "toc_section_display": true,
   "toc_window_display": false
  }
 },
 "nbformat": 4,
 "nbformat_minor": 4
}
