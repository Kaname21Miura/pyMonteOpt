{
 "cells": [
  {
   "cell_type": "code",
   "execution_count": 1,
   "metadata": {},
   "outputs": [],
   "source": [
    "from pymopt.voxcel import VoxcelPlateModel\n",
    "\n",
    "from scipy import stats\n",
    "import numpy as np\n",
    "\n",
    "import matplotlib.pyplot as plt\n",
    "import seaborn as sns\n",
    "sns.set_style(\"ticks\", {'grid.linestyle': '--'})\n",
    "import warnings\n",
    "warnings.filterwarnings('ignore')"
   ]
  },
  {
   "cell_type": "code",
   "execution_count": 12,
   "metadata": {},
   "outputs": [],
   "source": [
    "def radialDistance(p,w,nn,dr):\n",
    "    alpha = np.array([(i)*dr for i in range(nn+1)])\n",
    "    da = np.array([2*np.pi*(i+0.5)*dr**2 for i in range(nn)])\n",
    "    r = np.sqrt(p[0]**2+p[1]**2)\n",
    "    Rdr = []\n",
    "    for i in range(nn):\n",
    "        index = np.where((alpha[i]<r)&(alpha[i+1]>=r))[0]\n",
    "        Rdr.append(w[index].sum())\n",
    "    Rdr = np.array(Rdr)/(da*nPh)\n",
    "    return alpha[:-1],Rdr\n",
    "\n",
    "def AngularyResolved(v,w,nn):\n",
    "    da = np.pi/(2*nn)\n",
    "    alpha = np.array([(i+0.5)*da for i in range(nn+1)])\n",
    "    alpha2 = np.array([(i)*da for i in range(nn+1)])\n",
    "    do = 4*np.pi*np.sin(alpha)*np.sin(da/2)\n",
    "    at = np.arccos(np.sign(v[2])*(v[2]))\n",
    "    Rda = []\n",
    "    for i in range(nn):\n",
    "        index = np.where((alpha2[i]<at)&(alpha2[i+1]>=at))[0]\n",
    "        Rda.append(w[index].sum())\n",
    "    Rda = np.array(Rda)/(do[:-1]*nPh)\n",
    "    return alpha[:-1],Rda"
   ]
  },
  {
   "cell_type": "markdown",
   "metadata": {},
   "source": [
    "# Computation Results of single-solidmodel and mcml"
   ]
  },
  {
   "cell_type": "markdown",
   "metadata": {},
   "source": [
    "## Total diffuse reflectance and total transmittance"
   ]
  },
  {
   "cell_type": "markdown",
   "metadata": {},
   "source": [
    "### slab of turbid medium"
   ]
  },
  {
   "cell_type": "code",
   "execution_count": 20,
   "metadata": {},
   "outputs": [
    {
     "name": "stdout",
     "output_type": "stream",
     "text": [
      "Model Size: 48 Mbyte\n",
      "\n",
      "###### Start ######\n",
      "\n",
      "Progress: 34.126 [％]\n",
      "Calculation time: 0 minutes 2 seconds.\n",
      "\n",
      "Progress: 64.187 [％]\n",
      "Calculation time: 0 minutes 3 seconds.\n",
      "\n",
      "Progress: 84.75 [％]\n",
      "Calculation time: 0 minutes 4 seconds.\n",
      "\n",
      "Progress: 96.439 [％]\n",
      "Calculation time: 0 minutes 5 seconds.\n",
      "\n",
      "Progress: 99.802 [％]\n",
      "Calculation time: 0 minutes 6 seconds.\n",
      "\n",
      "Progress: 99.999 [％]\n",
      "Calculation time: 0 minutes 6 seconds.\n",
      "\n",
      "\n",
      "###### Finish ######\n",
      "Maximum step number: 76\n",
      "######\n",
      "Mean Rd 0.091141\n",
      "Mean Tt 0.627561\n",
      "\n",
      "Calculation time: 0 minutes 6 seconds.\n"
     ]
    }
   ],
   "source": [
    "\n",
    "nPh = 500000\n",
    "params = {\n",
    "    'thickness':[0.02],\n",
    "    'ms':[90],\n",
    "    'ma':[10],\n",
    "    'g':[0.75],\n",
    "    'n':[1.],\n",
    "    'n_air':1.,\n",
    "    'xy_size':4,\n",
    "    'voxcel_space':0.002,\n",
    "}\n",
    "model = VoxcelPlateModel(nPh = nPh)\n",
    "model.built(**params)\n",
    "model = model.start()\n"
   ]
  },
  {
   "cell_type": "markdown",
   "metadata": {},
   "source": [
    "### Semi-infinite turbid medium that has mismatched refractive index with the ambient medium"
   ]
  },
  {
   "cell_type": "code",
   "execution_count": 21,
   "metadata": {},
   "outputs": [
    {
     "name": "stdout",
     "output_type": "stream",
     "text": [
      "Model Size: 1 Mbyte\n",
      "\n",
      "###### Start ######\n",
      "\n",
      "Progress: 5.374 [％]\n",
      "Calculation time: 0 minutes 0 seconds.\n",
      "\n",
      "Progress: 13.504 [％]\n",
      "Calculation time: 0 minutes 0 seconds.\n",
      "\n",
      "Progress: 24.055 [％]\n",
      "Calculation time: 0 minutes 0 seconds.\n",
      "\n",
      "Progress: 35.085 [％]\n",
      "Calculation time: 0 minutes 0 seconds.\n",
      "\n",
      "Progress: 43.493 [％]\n",
      "Calculation time: 0 minutes 1 seconds.\n",
      "\n",
      "Progress: 50.554 [％]\n",
      "Calculation time: 0 minutes 2 seconds.\n",
      "\n",
      "Progress: 99.634 [％]\n",
      "Calculation time: 0 minutes 3 seconds.\n",
      "\n",
      "\n",
      "###### Finish ######\n",
      "Maximum step number: 175\n",
      "######\n",
      "Mean Rd 0.208608\n",
      "Mean Tt 0.000000\n",
      "\n",
      "Calculation time: 0 minutes 3 seconds.\n"
     ]
    }
   ],
   "source": [
    "nPh = 100000\n",
    "params = {\n",
    "    'thickness':[10],\n",
    "    'ms':[90],\n",
    "    'ma':[10],\n",
    "    'g':[0.],\n",
    "    'n':[1.5],\n",
    "    'n_air':1.,\n",
    "    'xy_size':10,\n",
    "    'voxcel_space':0.1,\n",
    "}\n",
    "\n",
    "model = VoxcelPlateModel(nPh = nPh)\n",
    "model.built(**params)\n",
    "model = model.start()"
   ]
  },
  {
   "cell_type": "markdown",
   "metadata": {},
   "source": [
    "## Angularly resolved diffuse reflectance and transmittance"
   ]
  },
  {
   "cell_type": "code",
   "execution_count": null,
   "metadata": {},
   "outputs": [],
   "source": [
    "\n",
    "nPh = 500000\n",
    "params = {\n",
    "    'thickness':[0.02],\n",
    "    'ms':[90],\n",
    "    'ma':[10],\n",
    "    'g':[0.75],\n",
    "    'n':[1.],\n",
    "    'n_air':1.,\n",
    "    'xy_size':4,\n",
    "    'voxcel_space':0.002,\n",
    "}\n",
    "\n",
    "model = VoxcelPlateModel(nPh = nPh)\n",
    "model.built(**params)\n",
    "model = model.start()\n",
    "\n",
    "rez = model.getResult()\n",
    "v_result = rez[\"v\"]\n",
    "w_result = rez[\"w\"]\n",
    "Tt_index = np.where(v_result[2]>0)[0]\n",
    "Rd_index = np.where(v_result[2]<0)[0]"
   ]
  },
  {
   "cell_type": "code",
   "execution_count": null,
   "metadata": {},
   "outputs": [],
   "source": [
    "print('Trancemittance')\n",
    "nn = 30\n",
    "alpha,Tta = AngularyResolved(v_result[:,Tt_index],w_result[Tt_index],nn)\n",
    "\n",
    "plt.figure(figsize=(5,4),dpi=90)\n",
    "plt.plot(alpha/np.pi,Tta,'.')\n",
    "plt.xlabel('Exit Angle α [rad/π]')\n",
    "plt.ylabel('Tt(α) [/sr]')\n",
    "plt.xlim(0,0.5)\n",
    "plt.ylim(0,0.8)\n",
    "plt.show()"
   ]
  },
  {
   "cell_type": "code",
   "execution_count": null,
   "metadata": {},
   "outputs": [],
   "source": [
    "print('Refrected')\n",
    "nn = 30\n",
    "alpha,Rda = AngularyResolved(v_result[:,Rd_index],w_result[Rd_index],nn)\n",
    "\n",
    "plt.figure(figsize=(5,4),dpi=90)\n",
    "plt.plot(alpha/np.pi,Rda,'.')\n",
    "plt.xlabel('Exit Angle α [rad/π]')\n",
    "plt.ylabel('Rd(α) [/sr]')\n",
    "plt.xlim(0,0.5)\n",
    "plt.ylim(0,0.025)\n",
    "plt.show()"
   ]
  },
  {
   "cell_type": "code",
   "execution_count": null,
   "metadata": {},
   "outputs": [],
   "source": [
    "df_ = pa.DataFrame(np.array([alpha/np.pi,Rda,Tta]).T,columns = ['Angle','Rd','Tt'])\n",
    "df_.to_csv('result/angle.csv',index=None)"
   ]
  },
  {
   "cell_type": "markdown",
   "metadata": {},
   "source": [
    "## Radially resolved diffuse reflectance"
   ]
  },
  {
   "cell_type": "code",
   "execution_count": null,
   "metadata": {},
   "outputs": [],
   "source": [
    "nPh = 500000\n",
    "params = {\n",
    "    'thickness':[10],\n",
    "    'ms':[100],\n",
    "    'ma':[0.1],\n",
    "    'g':[0.9],\n",
    "    'n':[1.],\n",
    "    'n_air':1.,\n",
    "    'xy_size':10,\n",
    "    'voxcel_space':0.1,\n",
    "}\n",
    "\n",
    "model = VoxcelPlateModel(nPh = nPh)\n",
    "model.built(**params)\n",
    "model = model.start()\n",
    "\n",
    "rezA = model.getResult()\n",
    "p_resultA = rezA[\"p\"]\n",
    "v_resultA = rezA[\"v\"]\n",
    "w_resultA = rezA[\"w\"]\n",
    "Tt_indexA = np.where(v_resultA[2]>0)[0]\n",
    "Rd_indexA = np.where(v_resultA[2]<0)[0]"
   ]
  },
  {
   "cell_type": "code",
   "execution_count": null,
   "metadata": {},
   "outputs": [],
   "source": [
    "nPh = 500000\n",
    "params = {\n",
    "    'thickness':[10],\n",
    "    'ms':[10],\n",
    "    'ma':[0.1],\n",
    "    'g':[0.],\n",
    "    'n':[1.],\n",
    "    'n_air':1.,\n",
    "    'xy_size':10,\n",
    "    'voxcel_space':0.1,\n",
    "}\n",
    "\n",
    "model = VoxcelPlateModel(nPh = nPh)\n",
    "model.built(**params)\n",
    "model = model.start()\n",
    "\n",
    "rezB = model.getResult()\n",
    "p_resultB = rezB[\"p\"]\n",
    "v_resultB = rezB[\"v\"]\n",
    "w_resultB = rezB[\"w\"]\n",
    "Tt_indexB = np.where(v_resultB[2]>0)[0]\n",
    "Rd_indexB = np.where(v_resultB[2]<0)[0]"
   ]
  },
  {
   "cell_type": "code",
   "execution_count": null,
   "metadata": {},
   "outputs": [],
   "source": [
    "nn = 200\n",
    "dr = 0.005\n",
    "\n",
    "alphaA,RdrA = radialDistance(p_resultA[:,Rd_indexA],w_resultA[Rd_indexA],nn,dr)\n",
    "alphaB,RdrB = radialDistance(p_resultB[:,Rd_indexB],w_resultB[Rd_indexB],nn,dr)"
   ]
  },
  {
   "cell_type": "code",
   "execution_count": null,
   "metadata": {},
   "outputs": [],
   "source": [
    "\n",
    "plt.figure(figsize=(5,4),dpi=90)\n",
    "plt.plot(alphaA,RdrA,'-',c = 'red',label = 'A: g = 0.9')\n",
    "plt.plot(alphaB,RdrB,'-',c = 'blue',label = \"B: g = 0.0\")\n",
    "plt.yscale('log')\n",
    "plt.xlim(0,1)\n",
    "plt.legend()\n",
    "plt.xlabel('r [cm]')\n",
    "plt.ylabel('Rd $[cm^{-2}]$')\n",
    "plt.show()"
   ]
  },
  {
   "cell_type": "code",
   "execution_count": null,
   "metadata": {},
   "outputs": [],
   "source": [
    "plt.figure(figsize=(5,4),dpi=90)\n",
    "plt.plot(alphaA,(RdrB-RdrA)/RdrA,'-',c = 'red',label = '(B-A) / A')\n",
    "plt.xlim(0,1)\n",
    "plt.ylim(-0.5,2)\n",
    "plt.legend()\n",
    "plt.xlabel('r [cm]')\n",
    "plt.ylabel('Relative Error')\n",
    "plt.show()"
   ]
  },
  {
   "cell_type": "code",
   "execution_count": null,
   "metadata": {},
   "outputs": [],
   "source": [
    "df_ = pa.DataFrame(np.array([alphaA,RdrA,RdrB]).T,columns = ['r cm','A_Rd','B_Rd'])\n",
    "df_.to_csv('result/equivalent.csv',index=None)"
   ]
  },
  {
   "cell_type": "code",
   "execution_count": null,
   "metadata": {},
   "outputs": [],
   "source": []
  },
  {
   "cell_type": "code",
   "execution_count": null,
   "metadata": {},
   "outputs": [],
   "source": []
  },
  {
   "cell_type": "code",
   "execution_count": null,
   "metadata": {},
   "outputs": [],
   "source": [
    "###### まだ　##### Fluenceのパラメーターはどうやっていれる？？"
   ]
  },
  {
   "cell_type": "markdown",
   "metadata": {},
   "source": [
    "## Depth resolved internal fluence"
   ]
  },
  {
   "cell_type": "code",
   "execution_count": null,
   "metadata": {},
   "outputs": [],
   "source": [
    "nPh = 10000\n",
    "\n",
    "nr = 500\n",
    "nz = 200\n",
    "dr = 0.01\n",
    "dz = 0.01\n",
    "\n",
    "\n",
    "print(\"######  n = 1.  ######\")\n",
    "thickness=[200]\n",
    "ms = [100]\n",
    "ma = [0.1]\n",
    "g = [0.9]\n",
    "n = [1.]\n",
    "n_air = 1.\n",
    "\n",
    "model = SolidPlateModel(thickness,ma,ms,g,n,n_air)\n",
    "fluence = IntarnalFluence(nr,nz,dr,dz)\n",
    "monte = MonteCalroPh(model,fluence)\n",
    "p_resultA,v_resultA,w_resultA,trace = monte.startMonteCalro(nPh)\n",
    "fluenceA = fluence.Arz\n",
    "Tt_index = np.where(v_resultA[2]>0)[0]\n",
    "Rd_index = np.where(v_resultA[2]<0)[0]\n",
    "print('######')\n",
    "print('Mean Tt %0.6f'%(w_resultA[Tt_index].sum()/nPh))\n",
    "print('Mean Rd %0.6f'%(w_resultA[Rd_index].sum()/nPh))\n",
    "print()\n",
    "\n",
    "\n",
    "print(\"######  n = 1.37  ######\")\n",
    "thickness=[200]\n",
    "ms = [100]\n",
    "ma = [0.1]\n",
    "g = [0.9]\n",
    "n = [1.37]\n",
    "n_air = 1.\n",
    "\n",
    "model = SolidPlateModel(thickness,ma,ms,g,n,n_air)\n",
    "fluence = IntarnalFluence(nr,nz,dr,dz)\n",
    "monte = MonteCalroPh(model,fluence)\n",
    "p_resultB,v_resultB,w_resultB,trace = monte.startMonteCalro(nPh)\n",
    "fluenceB = fluence.Arz\n",
    "Tt_index = np.where(v_resultB[2]>0)[0]\n",
    "Rd_index = np.where(v_resultB[2]<0)[0]\n",
    "print('######')\n",
    "print('Mean Tt %0.6f'%(w_resultB[Tt_index].sum()/nPh))\n",
    "print('Mean Rd %0.6f'%(w_resultB[Rd_index].sum()/nPh))\n",
    "print()"
   ]
  },
  {
   "cell_type": "code",
   "execution_count": null,
   "metadata": {},
   "outputs": [],
   "source": [
    "da = np.array([2*np.pi*(i+0.5)*dr**2 for i in range(nr)])\n",
    "aaa = ma[0]*nPh*dz\n",
    "phi_zA = (fluenceA.T/aaa).T.sum(0)\n",
    "phi_zB = (fluenceB.T/aaa).T.sum(0)\n",
    "\n",
    "plt.figure(figsize=(5,4),dpi=100)\n",
    "plt.plot(fluence.getArrayZ(),phi_zA,c = 'red',label = 'n = 1.0')\n",
    "plt.plot(fluence.getArrayZ(),phi_zB,c = 'blue',label = 'n = 1.37')\n",
    "plt.xlabel('Z [cm]')\n",
    "plt.ylabel('Fluence [-]')\n",
    "plt.legend()\n",
    "plt.yscale('log')\n",
    "plt.xlim(0,1)\n",
    "plt.ylim(0.5,10)\n",
    "plt.show()"
   ]
  },
  {
   "cell_type": "code",
   "execution_count": null,
   "metadata": {},
   "outputs": [],
   "source": [
    "df_ = pa.DataFrame(np.array([fluence.getArrayZ(),phi_zA,phi_zB]).T,columns = ['z cm','n_1','n_1.37'])\n",
    "df_.to_csv('result/fluence_z.csv',index=None)"
   ]
  },
  {
   "cell_type": "markdown",
   "metadata": {},
   "source": [
    "# Multi-layered Tissues"
   ]
  },
  {
   "cell_type": "markdown",
   "metadata": {},
   "source": [
    "## Refrective and transmittnace rate"
   ]
  },
  {
   "cell_type": "code",
   "execution_count": 16,
   "metadata": {
    "scrolled": true
   },
   "outputs": [
    {
     "name": "stdout",
     "output_type": "stream",
     "text": [
      "Model Size: 809 Mbyte\n",
      "\n",
      "###### Start ######\n",
      "\n",
      "Progress: 0.202 [％]\n",
      "Calculation time: 0 minutes 0 seconds.\n",
      "\n",
      "Progress: 0.699 [％]\n",
      "Calculation time: 0 minutes 1 seconds.\n",
      "\n",
      "Progress: 2.339 [％]\n",
      "Calculation time: 0 minutes 3 seconds.\n",
      "\n",
      "Progress: 9.686 [％]\n",
      "Calculation time: 0 minutes 9 seconds.\n",
      "\n",
      "Progress: 30.326 [％]\n",
      "Calculation time: 0 minutes 22 seconds.\n",
      "\n",
      "Progress: 59.759 [％]\n",
      "Calculation time: 0 minutes 38 seconds.\n",
      "\n",
      "Progress: 86.796 [％]\n",
      "Calculation time: 0 minutes 55 seconds.\n",
      "\n",
      "Progress: 98.888 [％]\n",
      "Calculation time: 1 minutes 6 seconds.\n",
      "\n",
      "Progress: 99.995 [％]\n",
      "Calculation time: 1 minutes 11 seconds.\n",
      "\n",
      "\n",
      "###### Finish ######\n",
      "Maximum step number: 711\n",
      "######\n",
      "Mean Rd 0.242254\n",
      "Mean Tt 0.080423\n",
      "\n",
      "Calculation time: 1 minutes 12 seconds.\n"
     ]
    }
   ],
   "source": [
    "nPh = 100000\n",
    "model = VoxcelPlateModel(nPh = nPh)\n",
    "params = {\n",
    "    'thickness':[0.1,0.1,0.2],\n",
    "    'ms':[100,10,10],\n",
    "    'ma':[1,1,2],\n",
    "    'g':[0.9,0,0.7],\n",
    "    'n':[1.37,1.37,1.37],\n",
    "    'n_air':1.,\n",
    "    'xy_size':4,\n",
    "    'voxcel_space':0.002,\n",
    "}\n",
    "model.built(**params)\n",
    "model = model.start()\n",
    "\n",
    "rez = model.getResult()\n",
    "p_result = rez[\"p\"]\n",
    "v_result = rez[\"v\"]\n",
    "w_result = rez[\"w\"]\n",
    "\n",
    "Tt_index = np.where(v_result[2]>0)[0]\n",
    "Rd_index = np.where(v_result[2]<0)[0]"
   ]
  },
  {
   "cell_type": "code",
   "execution_count": 17,
   "metadata": {},
   "outputs": [
    {
     "data": {
      "image/png": "[encoded data removed]",
      "text/plain": [
       "<Figure size 500x400 with 1 Axes>"
      ]
     },
     "metadata": {},
     "output_type": "display_data"
    },
    {
     "data": {
      "image/png": "[encoded data removed]",
      "text/plain": [
       "<Figure size 500x400 with 1 Axes>"
      ]
     },
     "metadata": {},
     "output_type": "display_data"
    }
   ],
   "source": [
    "nn = 100\n",
    "dr = 0.005\n",
    "\n",
    "alphaRd,Rd = radialDistance(p_result[:,Rd_index],w_result[Rd_index],nn,dr)\n",
    "alphaTt,Tt = radialDistance(p_result[:,Tt_index],w_result[Tt_index],nn,dr)\n",
    "\n",
    "plt.figure(figsize=(5,4),dpi=100)\n",
    "plt.plot(alphaRd,Rd,'-',c = 'red')\n",
    "plt.yscale('log')\n",
    "plt.xlim(0,0.5)\n",
    "plt.ylim(10**-2,10**2)\n",
    "plt.xlabel('r [cm]')\n",
    "plt.ylabel('Rd $[cm^{-2}]$')\n",
    "plt.show()\n",
    "\n",
    "plt.figure(figsize=(5,4),dpi=100)\n",
    "plt.plot(alphaTt,Tt,'-',c = 'blue')\n",
    "plt.yscale('log')\n",
    "plt.xlim(0,0.5)\n",
    "plt.ylim(10**-2,1)\n",
    "plt.xlabel('r [cm]')\n",
    "plt.ylabel('Tt $[cm^{-2}]$')\n",
    "plt.show()"
   ]
  },
  {
   "cell_type": "code",
   "execution_count": null,
   "metadata": {},
   "outputs": [],
   "source": [
    "df_ = pa.DataFrame(np.array([alphaRd,Rd,Tt]).T,columns = ['r cm','Rd','Tt'])\n",
    "df_.to_csv('result/multi_rt_test.csv',index=None)"
   ]
  }
 ],
 "metadata": {
  "kernelspec": {
   "display_name": "Python 3",
   "language": "python",
   "name": "python3"
  },
  "language_info": {
   "codemirror_mode": {
    "name": "ipython",
    "version": 3
   },
   "file_extension": ".py",
   "mimetype": "text/x-python",
   "name": "python",
   "nbconvert_exporter": "python",
   "pygments_lexer": "ipython3",
   "version": "3.7.6"
  },
  "toc": {
   "base_numbering": 1,
   "nav_menu": {},
   "number_sections": true,
   "sideBar": true,
   "skip_h1_title": false,
   "title_cell": "Table of Contents",
   "title_sidebar": "Contents",
   "toc_cell": false,
   "toc_position": {},
   "toc_section_display": true,
   "toc_window_display": false
  }
 },
 "nbformat": 4,
 "nbformat_minor": 4
}
