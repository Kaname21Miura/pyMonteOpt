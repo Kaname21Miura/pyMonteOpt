{
 "cells": [
  {
   "cell_type": "markdown",
   "metadata": {},
   "source": [
    "# フルネルの式では角度に対してどの程度反射により減光されるのか"
   ]
  },
  {
   "cell_type": "markdown",
   "metadata": {},
   "source": [
    "### フルネルの式 0.01°"
   ]
  },
  {
   "cell_type": "code",
   "execution_count": 2,
   "metadata": {},
   "outputs": [
    {
     "data": {
      "text/plain": [
       "0.027777777777777755"
      ]
     },
     "execution_count": 2,
     "metadata": {},
     "output_type": "execute_result"
    }
   ],
   "source": [
    "import numpy as np\n",
    "ni = 1\n",
    "nt = 1.4\n",
    "ai = 0.01/180\n",
    "at = np.arcsin(np.sin(ai)*ni/nt)\n",
    "Rfres = ((np.sin(ai-at)/np.sin(ai+at))**2+(np.tan(ai-at)/np.tan(ai+at))**2)/2\n",
    "Rfres"
   ]
  },
  {
   "cell_type": "markdown",
   "metadata": {},
   "source": [
    "### Wang の photon weight 初期条件"
   ]
  },
  {
   "cell_type": "code",
   "execution_count": 9,
   "metadata": {},
   "outputs": [
    {
     "data": {
      "text/plain": [
       "0.027777777777777766"
      ]
     },
     "execution_count": 9,
     "metadata": {},
     "output_type": "execute_result"
    }
   ],
   "source": [
    "Rsp = ((ni-nt)/(ni+nt))**2\n",
    "Rsp"
   ]
  },
  {
   "cell_type": "markdown",
   "metadata": {},
   "source": [
    "### 透過判別でどれだけ減るか"
   ]
  },
  {
   "cell_type": "code",
   "execution_count": 13,
   "metadata": {},
   "outputs": [
    {
     "data": {
      "text/plain": [
       "0.0278325"
      ]
     },
     "execution_count": 13,
     "metadata": {},
     "output_type": "execute_result"
    }
   ],
   "source": [
    "np.count_nonzero(Rfres>=np.random.rand(int(1e7)))/1e7"
   ]
  },
  {
   "cell_type": "markdown",
   "metadata": {},
   "source": [
    "### フルネルの式 30°"
   ]
  },
  {
   "cell_type": "code",
   "execution_count": 14,
   "metadata": {},
   "outputs": [
    {
     "data": {
      "text/plain": [
       "0.02778833340245436"
      ]
     },
     "execution_count": 14,
     "metadata": {},
     "output_type": "execute_result"
    }
   ],
   "source": [
    "ai = 30/180\n",
    "at = np.arcsin(np.sin(ai)*ni/nt)\n",
    "Rfres = ((np.sin(ai-at)/np.sin(ai+at))**2+(np.tan(ai-at)/np.tan(ai+at))**2)/2\n",
    "Rfres"
   ]
  },
  {
   "cell_type": "markdown",
   "metadata": {},
   "source": [
    "# コードのチェック"
   ]
  },
  {
   "cell_type": "code",
   "execution_count": 1,
   "metadata": {},
   "outputs": [],
   "source": [
    "from pymopt.voxel import VoxelPlateModel\n",
    "\n",
    "from scipy import stats\n",
    "import numpy as np\n",
    "import pandas as pa\n",
    "import time\n",
    "\n",
    "import matplotlib.pyplot as plt\n",
    "import seaborn as sns\n",
    "sns.set_style(\"ticks\", {'grid.linestyle': '--'})\n",
    "import warnings\n",
    "warnings.filterwarnings('ignore')"
   ]
  },
  {
   "cell_type": "code",
   "execution_count": 2,
   "metadata": {},
   "outputs": [],
   "source": [
    "def radialDistance(p,w,nn,dr,nPh):\n",
    "    alpha = np.array([(i)*dr for i in range(nn+1)])\n",
    "    da = np.array([2*np.pi*(i+0.5)*dr**2 for i in range(nn)])\n",
    "    r = np.sqrt(p[0]**2+p[1]**2)\n",
    "    Rdr = []\n",
    "    for i in range(nn):\n",
    "        index = np.where((alpha[i]<r)&(alpha[i+1]>=r))[0]\n",
    "        Rdr.append(w[index].sum())\n",
    "    Rdr = np.array(Rdr)/(da*nPh)\n",
    "    return alpha[:-1],Rdr\n",
    "\n",
    "def AngularyResolved(v,w,nn,nPh):\n",
    "    da = np.pi/(2*nn)\n",
    "    alpha = np.array([(i+0.5)*da for i in range(nn+1)])\n",
    "    alpha2 = np.array([(i)*da for i in range(nn+1)])\n",
    "    do = 4*np.pi*np.sin(alpha)*np.sin(da/2)\n",
    "    at = np.arccos(np.sign(v[2])*(v[2]))\n",
    "    Rda = []\n",
    "    for i in range(nn):\n",
    "        index = np.where((alpha2[i]<at)&(alpha2[i+1]>=at))[0]\n",
    "        Rda.append(w[index].sum())\n",
    "    Rda = np.array(Rda)/(do[:-1]*nPh)\n",
    "    return alpha[:-1],Rda"
   ]
  },
  {
   "cell_type": "code",
   "execution_count": 3,
   "metadata": {},
   "outputs": [
    {
     "name": "stdout",
     "output_type": "stream",
     "text": [
      "Memory area size for voxel storage: 1.061 Mbyte\n",
      "\n",
      "###### Start ######\n",
      "\n",
      "Progress: 5.404 [％]\n",
      "Calculation time: 0 minutes 0.634 seconds.\n",
      "\n",
      "Progress: 13.482 [％]\n",
      "Calculation time: 0 minutes 1.247 seconds.\n",
      "\n",
      "Progress: 24.378 [％]\n",
      "Calculation time: 0 minutes 2.274 seconds.\n",
      "\n",
      "Progress: 37.22 [％]\n",
      "Calculation time: 0 minutes 3.922 seconds.\n",
      "\n",
      "Progress: 50.282 [％]\n",
      "Calculation time: 0 minutes 6.601 seconds.\n",
      "\n",
      "Progress: 62.273 [％]\n",
      "Calculation time: 0 minutes 10.587 seconds.\n",
      "\n",
      "Progress: 99.719 [％]\n",
      "Calculation time: 0 minutes 13.444 seconds.\n",
      "\n",
      "\n",
      "###### Finish ######\n",
      "Maximum step number: 197\n",
      "######\n",
      "Mean Rd 0.220299\n",
      "Mean Tt 0.000000\n",
      "\n",
      "Calculation time: 0 minutes 13.547 seconds.\n",
      "13.564865112304688 sec\n"
     ]
    }
   ],
   "source": [
    "nPh = 500000\n",
    "params = {\n",
    "    'thickness':[10],\n",
    "    'ms':[90],\n",
    "    'ma':[10],\n",
    "    'g':[0.],\n",
    "    'n':[1.5],\n",
    "    'n_air':1.,\n",
    "    'xy_size':[10,10],\n",
    "    'voxel_space':0.1,\n",
    "}\n",
    "\n",
    "model = VoxelPlateModel(\n",
    "    nPh = nPh,\n",
    "    beam_angle = 30/180,\n",
    "    initial_refrect_by_angle = False\n",
    ")\n",
    "\n",
    "model.build(**params)\n",
    "start = time.time()\n",
    "model = model.start()\n",
    "print('%s sec'%(time.time()-start))\n",
    "\n",
    "rez = model.get_result()\n",
    "p_result = rez[\"p\"]\n",
    "v_result = rez[\"v\"]\n",
    "w_result = rez[\"w\"]\n",
    "\n",
    "Tt_index = np.where(v_result[2]>0)[0]\n",
    "Rd_index = np.where(v_result[2]<0)[0]"
   ]
  },
  {
   "cell_type": "code",
   "execution_count": 4,
   "metadata": {},
   "outputs": [
    {
     "name": "stdout",
     "output_type": "stream",
     "text": [
      "Memory area size for voxel storage: 1.061 Mbyte\n",
      "\n",
      "###### Start ######\n",
      "\n",
      "Progress: 9.21 [％]\n",
      "Calculation time: 0 minutes 0.605 seconds.\n",
      "\n",
      "Progress: 17.019 [％]\n",
      "Calculation time: 0 minutes 1.221 seconds.\n",
      "\n",
      "Progress: 27.466 [％]\n",
      "Calculation time: 0 minutes 2.219 seconds.\n",
      "\n",
      "Progress: 39.687 [％]\n",
      "Calculation time: 0 minutes 3.845 seconds.\n",
      "\n",
      "Progress: 52.206 [％]\n",
      "Calculation time: 0 minutes 6.307 seconds.\n",
      "\n",
      "Progress: 63.684 [％]\n",
      "Calculation time: 0 minutes 10.212 seconds.\n",
      "\n",
      "Progress: 99.72 [％]\n",
      "Calculation time: 0 minutes 13.075 seconds.\n",
      "\n",
      "\n",
      "###### Finish ######\n",
      "Maximum step number: 197\n",
      "######\n",
      "Mean Rd 0.260510\n",
      "Mean Tt 0.000000\n",
      "\n",
      "Calculation time: 0 minutes 13.237 seconds.\n",
      "13.284356117248535 sec\n"
     ]
    }
   ],
   "source": [
    "nPh = 500000\n",
    "params = {\n",
    "    'thickness':[10],\n",
    "    'ms':[90],\n",
    "    'ma':[10],\n",
    "    'g':[0.],\n",
    "    'n':[1.5],\n",
    "    'n_air':1.,\n",
    "    'xy_size':[10,10],\n",
    "    'voxel_space':0.1,\n",
    "}\n",
    "\n",
    "model = VoxelPlateModel(\n",
    "    nPh = nPh,\n",
    "    beam_angle = 30/180,\n",
    "    initial_refrect_by_angle = True\n",
    ")\n",
    "\n",
    "model.build(**params)\n",
    "start = time.time()\n",
    "model = model.start()\n",
    "print('%s sec'%(time.time()-start))\n",
    "\n",
    "rez2 = model.get_result()\n",
    "p_result2 = rez2[\"p\"]\n",
    "v_result2 = rez2[\"v\"]\n",
    "w_result2 = rez2[\"w\"]\n",
    "\n",
    "Tt_index2 = np.where(v_result2[2]>0)[0]\n",
    "Rd_index2 = np.where(v_result2[2]<0)[0]"
   ]
  },
  {
   "cell_type": "code",
   "execution_count": 5,
   "metadata": {},
   "outputs": [
    {
     "name": "stdout",
     "output_type": "stream",
     "text": [
      "Memory area size for voxel storage: 1.061 Mbyte\n",
      "\n",
      "###### Start ######\n",
      "\n",
      "Progress: 5.372 [％]\n",
      "Calculation time: 0 minutes 0.586 seconds.\n",
      "\n",
      "Progress: 13.525 [％]\n",
      "Calculation time: 0 minutes 1.189 seconds.\n",
      "\n",
      "Progress: 24.376 [％]\n",
      "Calculation time: 0 minutes 2.178 seconds.\n",
      "\n",
      "Progress: 37.031 [％]\n",
      "Calculation time: 0 minutes 3.808 seconds.\n",
      "\n",
      "Progress: 50.115 [％]\n",
      "Calculation time: 0 minutes 6.397 seconds.\n",
      "\n",
      "Progress: 62.083 [％]\n",
      "Calculation time: 0 minutes 10.374 seconds.\n",
      "\n",
      "Progress: 99.711 [％]\n",
      "Calculation time: 0 minutes 13.249 seconds.\n",
      "\n",
      "\n",
      "###### Finish ######\n",
      "Maximum step number: 219\n",
      "######\n",
      "Mean Rd 0.219741\n",
      "Mean Tt 0.000000\n",
      "\n",
      "Calculation time: 0 minutes 13.465 seconds.\n",
      "13.48197889328003 sec\n"
     ]
    }
   ],
   "source": [
    "nPh = 500000\n",
    "params = {\n",
    "    'thickness':[10],\n",
    "    'ms':[90],\n",
    "    'ma':[10],\n",
    "    'g':[0.],\n",
    "    'n':[1.5],\n",
    "    'n_air':1.,\n",
    "    'xy_size':[10,10],\n",
    "    'voxel_space':0.1,\n",
    "}\n",
    "\n",
    "model = VoxelPlateModel(\n",
    "    nPh = nPh,\n",
    "    beam_angle = 0/180,\n",
    "    initial_refrect_by_angle = False\n",
    ")\n",
    "\n",
    "model.build(**params)\n",
    "start = time.time()\n",
    "model = model.start()\n",
    "print('%s sec'%(time.time()-start))\n",
    "\n",
    "rez3 = model.get_result()\n",
    "p_result3 = rez3[\"p\"]\n",
    "v_result3 = rez3[\"v\"]\n",
    "w_result3 = rez3[\"w\"]\n",
    "\n",
    "Tt_index3 = np.where(v_result3[2]>0)[0]\n",
    "Rd_index3 = np.where(v_result3[2]<0)[0]"
   ]
  },
  {
   "cell_type": "code",
   "execution_count": 6,
   "metadata": {},
   "outputs": [
    {
     "name": "stdout",
     "output_type": "stream",
     "text": [
      "Refrected\n"
     ]
    },
    {
     "data": {
      "image/png": "[encoded data removed]",
      "text/plain": [
       "<Figure size 450x360 with 1 Axes>"
      ]
     },
     "metadata": {},
     "output_type": "display_data"
    }
   ],
   "source": [
    "print('Refrected')\n",
    "nn = 50\n",
    "alpha,Rda = AngularyResolved(v_result[:,Rd_index],w_result[Rd_index],nn,nPh)\n",
    "alpha,Rda2 = AngularyResolved(v_result2[:,Rd_index2],w_result2[Rd_index2],nn,nPh)\n",
    "alpha,Rda3 = AngularyResolved(v_result3[:,Rd_index3],w_result3[Rd_index3],nn,nPh)\n",
    "\n",
    "plt.figure(figsize=(5,4),dpi=90)\n",
    "plt.plot(alpha/np.pi,Rda,'s',label = 'Subtract reflectance from the initial photon weight')\n",
    "plt.plot(alpha/np.pi,Rda2,'o',label = 'Invert vector with initial photon weight set to 1')\n",
    "plt.plot(alpha/np.pi,Rda3,'x',label = 'Zero degree incident')\n",
    "plt.xlabel('Exit Angle α [rad/π]')\n",
    "plt.ylabel('Rd(α) [/sr]')\n",
    "plt.legend()\n",
    "plt.yscale('log')\n",
    "#plt.xlim(0,0.5)\n",
    "#plt.ylim(0,0.025)\n",
    "plt.show()"
   ]
  },
  {
   "cell_type": "code",
   "execution_count": 7,
   "metadata": {},
   "outputs": [
    {
     "data": {
      "image/png": "[encoded data removed]",
      "text/plain": [
       "<Figure size 500x400 with 1 Axes>"
      ]
     },
     "metadata": {},
     "output_type": "display_data"
    }
   ],
   "source": [
    "nn = 30\n",
    "dr = 0.1/nn\n",
    "\n",
    "alphaRd,Rd = radialDistance(p_result[:,Rd_index],w_result[Rd_index],nn,dr,nPh = nPh)\n",
    "alphaRd,Rd2 = radialDistance(p_result2[:,Rd_index2],w_result2[Rd_index2],nn,dr,nPh = nPh)\n",
    "alphaRd,Rd3 = radialDistance(p_result3[:,Rd_index3],w_result3[Rd_index3],nn,dr,nPh = nPh)\n",
    "\n",
    "plt.figure(figsize=(5,4),dpi=100)\n",
    "plt.plot(alphaRd,Rd,'s',label = 'Subtract reflectance from the initial photon weight')\n",
    "plt.plot(alphaRd,Rd2,'o',label = 'Invert vector with initial photon weight set to 1')\n",
    "plt.plot(alphaRd,Rd3,'x',label = 'Zero degree incident')\n",
    "plt.yscale('log')\n",
    "plt.xlabel('r [cm]')\n",
    "plt.ylabel('Rd $[cm^{-2}]$')\n",
    "plt.legend()\n",
    "plt.show()\n"
   ]
  },
  {
   "cell_type": "code",
   "execution_count": null,
   "metadata": {},
   "outputs": [],
   "source": []
  }
 ],
 "metadata": {
  "kernelspec": {
   "display_name": "Python 3",
   "language": "python",
   "name": "python3"
  },
  "language_info": {
   "codemirror_mode": {
    "name": "ipython",
    "version": 3
   },
   "file_extension": ".py",
   "mimetype": "text/x-python",
   "name": "python",
   "nbconvert_exporter": "python",
   "pygments_lexer": "ipython3",
   "version": "3.8.5"
  }
 },
 "nbformat": 4,
 "nbformat_minor": 4
}
