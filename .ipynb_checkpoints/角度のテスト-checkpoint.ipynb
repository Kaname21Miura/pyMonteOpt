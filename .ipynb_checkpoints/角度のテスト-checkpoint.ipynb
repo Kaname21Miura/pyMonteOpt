{
 "cells": [
  {
   "cell_type": "markdown",
   "metadata": {},
   "source": [
    "### フルネルの式 0.01°"
   ]
  },
  {
   "cell_type": "code",
   "execution_count": 1,
   "metadata": {},
   "outputs": [
    {
     "data": {
      "text/plain": [
       "0.027777777777777755"
      ]
     },
     "execution_count": 1,
     "metadata": {},
     "output_type": "execute_result"
    }
   ],
   "source": [
    "import numpy as np\n",
    "ni = 1\n",
    "nt = 1.4\n",
    "ai = 0.01/180\n",
    "at = np.arcsin(np.sin(ai)*ni/nt)\n",
    "Rfres = ((np.sin(ai-at)/np.sin(ai+at))**2+(np.tan(ai-at)/np.tan(ai+at))**2)/2\n",
    "Rfres"
   ]
  },
  {
   "cell_type": "markdown",
   "metadata": {},
   "source": [
    "### Wang の photon weight 初期条件"
   ]
  },
  {
   "cell_type": "code",
   "execution_count": 2,
   "metadata": {},
   "outputs": [
    {
     "data": {
      "text/plain": [
       "0.027777777777777766"
      ]
     },
     "execution_count": 2,
     "metadata": {},
     "output_type": "execute_result"
    }
   ],
   "source": [
    "Rsp = ((ni-nt)/(ni+nt))**2\n",
    "Rsp"
   ]
  },
  {
   "cell_type": "markdown",
   "metadata": {},
   "source": [
    "### 透過判別でどれだけ減るか"
   ]
  },
  {
   "cell_type": "code",
   "execution_count": 3,
   "metadata": {},
   "outputs": [
    {
     "data": {
      "text/plain": [
       "0.0276518"
      ]
     },
     "execution_count": 3,
     "metadata": {},
     "output_type": "execute_result"
    }
   ],
   "source": [
    "np.count_nonzero(Rfres>=np.random.rand(int(1e7)))/1e7"
   ]
  },
  {
   "cell_type": "markdown",
   "metadata": {},
   "source": [
    "### フルネルの式 30°"
   ]
  },
  {
   "cell_type": "code",
   "execution_count": 4,
   "metadata": {},
   "outputs": [
    {
     "data": {
      "text/plain": [
       "0.02778833340245436"
      ]
     },
     "execution_count": 4,
     "metadata": {},
     "output_type": "execute_result"
    }
   ],
   "source": [
    "ai = 30/180\n",
    "at = np.arcsin(np.sin(ai)*ni/nt)\n",
    "Rfres = ((np.sin(ai-at)/np.sin(ai+at))**2+(np.tan(ai-at)/np.tan(ai+at))**2)/2\n",
    "Rfres"
   ]
  },
  {
   "cell_type": "markdown",
   "metadata": {},
   "source": [
    "# コードのチェック"
   ]
  },
  {
   "cell_type": "code",
   "execution_count": 1,
   "metadata": {},
   "outputs": [],
   "source": [
    "from pymopt.voxel import VoxelPlateModel\n",
    "\n",
    "from scipy import stats\n",
    "import numpy as np\n",
    "import pandas as pa\n",
    "import time\n",
    "\n",
    "import matplotlib.pyplot as plt\n",
    "import seaborn as sns\n",
    "sns.set_style(\"ticks\", {'grid.linestyle': '--'})\n",
    "import warnings\n",
    "warnings.filterwarnings('ignore')"
   ]
  },
  {
   "cell_type": "code",
   "execution_count": 2,
   "metadata": {},
   "outputs": [],
   "source": [
    "def radialDistance(p,w,nn,dr,nPh):\n",
    "    alpha = np.array([(i)*dr for i in range(nn+1)])\n",
    "    da = np.array([2*np.pi*(i+0.5)*dr**2 for i in range(nn)])\n",
    "    r = np.sqrt(p[0]**2+p[1]**2)\n",
    "    Rdr = []\n",
    "    for i in range(nn):\n",
    "        index = np.where((alpha[i]<r)&(alpha[i+1]>=r))[0]\n",
    "        Rdr.append(w[index].sum())\n",
    "    Rdr = np.array(Rdr)/(da*nPh)\n",
    "    return alpha[:-1],Rdr\n",
    "\n",
    "def AngularyResolved(v,w,nn,nPh):\n",
    "    da = np.pi/(2*nn)\n",
    "    alpha = np.array([(i+0.5)*da for i in range(nn+1)])\n",
    "    alpha2 = np.array([(i)*da for i in range(nn+1)])\n",
    "    do = 4*np.pi*np.sin(alpha)*np.sin(da/2)\n",
    "    at = np.arccos(np.sign(v[2])*(v[2]))\n",
    "    Rda = []\n",
    "    for i in range(nn):\n",
    "        index = np.where((alpha2[i]<at)&(alpha2[i+1]>=at))[0]\n",
    "        Rda.append(w[index].sum())\n",
    "    Rda = np.array(Rda)/(do[:-1]*nPh)\n",
    "    return alpha[:-1],Rda"
   ]
  },
  {
   "cell_type": "code",
   "execution_count": 6,
   "metadata": {},
   "outputs": [
    {
     "name": "stdout",
     "output_type": "stream",
     "text": [
      "Memory area size for voxel storage: 1.061 Mbyte\n",
      "\n",
      "###### Start ######\n",
      "\n",
      "Progress: 99.999 [％]\n",
      "Calculation time: 0 minutes 0.463 seconds.\n",
      "\n",
      "Progress: 99.999 [％]\n",
      "Calculation time: 0 minutes 0.472 seconds.\n",
      "\n",
      "Progress: 99.999 [％]\n",
      "Calculation time: 0 minutes 0.488 seconds.\n",
      "\n",
      "Progress: 99.999 [％]\n",
      "Calculation time: 0 minutes 0.519 seconds.\n",
      "\n",
      "Progress: 99.999 [％]\n",
      "Calculation time: 0 minutes 0.583 seconds.\n",
      "\n",
      "Progress: 99.999 [％]\n",
      "Calculation time: 0 minutes 0.710 seconds.\n",
      "\n",
      "Progress: 100.0 [％]\n",
      "Calculation time: 0 minutes 0.931 seconds.\n",
      "\n",
      "\n",
      "###### Finish ######\n",
      "Maximum step number: 131\n",
      "######\n",
      "Mean Rd 0.000000\n",
      "Mean Tt 0.959973\n",
      "\n",
      "Calculation time: 0 minutes 0.945 seconds.\n",
      "0.9627678394317627 sec\n"
     ]
    }
   ],
   "source": [
    "nPh = 500000\n",
    "params = {\n",
    "    'thickness':[10],\n",
    "    'ms':[90],\n",
    "    'ma':[10],\n",
    "    'g':[0.],\n",
    "    'n':[1.5],\n",
    "    'n_air':1.,\n",
    "    'xy_size':[10,10],\n",
    "    'voxel_space':0.1,\n",
    "}\n",
    "\n",
    "model = VoxelPlateModel(\n",
    "    nPh = nPh,\n",
    "    beam_angle = 30/180,\n",
    "    z_max_mode = True,\n",
    "    initial_refrect_by_angle = False\n",
    ")\n",
    "\n",
    "model.build(**params)\n",
    "start = time.time()\n",
    "model = model.start()\n",
    "print('%s sec'%(time.time()-start))\n",
    "\n",
    "rez = model.get_result()\n",
    "p_result = rez[\"p\"]\n",
    "v_result = rez[\"v\"]\n",
    "w_result = rez[\"w\"]\n",
    "\n",
    "Tt_index = np.where(v_result[2]>0)[0]\n",
    "Rd_index = np.where(v_result[2]<0)[0]"
   ]
  },
  {
   "cell_type": "code",
   "execution_count": 7,
   "metadata": {},
   "outputs": [
    {
     "data": {
      "image/png": "[encoded data removed]",
      "text/plain": [
       "<Figure size 432x288 with 1 Axes>"
      ]
     },
     "metadata": {},
     "output_type": "display_data"
    }
   ],
   "source": [
    "plt.plot(rez['z_max'])\n",
    "plt.show()"
   ]
  },
  {
   "cell_type": "code",
   "execution_count": 5,
   "metadata": {},
   "outputs": [
    {
     "data": {
      "text/plain": [
       "{'p': array([[ 0.00017155,  0.00041941,  0.00129584, ...,  0.00170755,\n",
       "         -0.00142731, -0.00910853],\n",
       "        [ 0.        ,  0.        ,  0.        , ...,  0.        ,\n",
       "          0.00978557, -0.00172143],\n",
       "        [ 0.001542  ,  0.003769  ,  0.011645  , ...,  0.015345  ,\n",
       "          0.000727  ,  0.007903  ]], dtype=float32),\n",
       " 'v': array([[ 0.11059742,  0.11059742,  0.11059742, ...,  0.11059742,\n",
       "         -0.14394544, -0.74775416],\n",
       "        [ 0.        ,  0.        ,  0.        , ...,  0.        ,\n",
       "          0.986869  , -0.14131875],\n",
       "        [ 0.9938653 ,  0.9938653 ,  0.9938653 , ...,  0.9938653 ,\n",
       "          0.07327674,  0.64876246]], dtype=float32),\n",
       " 'w': array([0.95998716, 0.95998716, 0.95998716, ..., 0.95998716, 0.86398846,\n",
       "        0.86398846], dtype=float32),\n",
       " 'nPh': 50000,\n",
       " 'z_max': array([0.001542, 0.003769, 0.011645, ..., 0.015345, 0.000727, 0.007903],\n",
       "       dtype=float32)}"
      ]
     },
     "execution_count": 5,
     "metadata": {},
     "output_type": "execute_result"
    }
   ],
   "source": [
    "rez"
   ]
  },
  {
   "cell_type": "code",
   "execution_count": 6,
   "metadata": {},
   "outputs": [
    {
     "data": {
      "text/plain": [
       "(16434,)"
      ]
     },
     "execution_count": 6,
     "metadata": {},
     "output_type": "execute_result"
    }
   ],
   "source": [
    "model.w.shape"
   ]
  },
  {
   "cell_type": "code",
   "execution_count": 6,
   "metadata": {},
   "outputs": [
    {
     "data": {
      "text/plain": [
       "(335361,)"
      ]
     },
     "execution_count": 6,
     "metadata": {},
     "output_type": "execute_result"
    }
   ],
   "source": [
    "model.z_max_result.shape"
   ]
  },
  {
   "cell_type": "code",
   "execution_count": 7,
   "metadata": {},
   "outputs": [
    {
     "data": {
      "text/plain": [
       "(3, 335361)"
      ]
     },
     "execution_count": 7,
     "metadata": {},
     "output_type": "execute_result"
    }
   ],
   "source": [
    "model.p_result.shape"
   ]
  },
  {
   "cell_type": "code",
   "execution_count": 4,
   "metadata": {},
   "outputs": [
    {
     "name": "stdout",
     "output_type": "stream",
     "text": [
      "Memory area size for voxel storage: 1.061 Mbyte\n",
      "\n",
      "###### Start ######\n",
      "\n",
      "Progress: 9.229 [％]\n",
      "Calculation time: 0 minutes 0.567 seconds.\n",
      "\n",
      "Progress: 17.034 [％]\n",
      "Calculation time: 0 minutes 1.130 seconds.\n",
      "\n",
      "Progress: 27.498 [％]\n",
      "Calculation time: 0 minutes 2.098 seconds.\n",
      "\n",
      "Progress: 39.604 [％]\n",
      "Calculation time: 0 minutes 3.961 seconds.\n",
      "\n",
      "Progress: 52.235 [％]\n",
      "Calculation time: 0 minutes 6.772 seconds.\n",
      "\n",
      "Progress: 63.738 [％]\n",
      "Calculation time: 0 minutes 10.667 seconds.\n",
      "\n",
      "Progress: 99.739 [％]\n",
      "Calculation time: 0 minutes 13.625 seconds.\n",
      "\n",
      "\n",
      "###### Finish ######\n",
      "Maximum step number: 197\n",
      "######\n",
      "Mean Rd 0.260629\n",
      "Mean Tt 0.000000\n",
      "\n",
      "Calculation time: 0 minutes 13.739 seconds.\n",
      "13.789403200149536 sec\n"
     ]
    }
   ],
   "source": [
    "nPh = 500000\n",
    "params = {\n",
    "    'thickness':[10],\n",
    "    'ms':[90],\n",
    "    'ma':[10],\n",
    "    'g':[0.],\n",
    "    'n':[1.5],\n",
    "    'n_air':1.,\n",
    "    'xy_size':[10,10],\n",
    "    'voxel_space':0.1,\n",
    "}\n",
    "\n",
    "model = VoxelPlateModel(\n",
    "    nPh = nPh,\n",
    "    beam_angle = 30/180,\n",
    "    initial_refrect_by_angle = True\n",
    ")\n",
    "\n",
    "model.build(**params)\n",
    "start = time.time()\n",
    "model = model.start()\n",
    "print('%s sec'%(time.time()-start))\n",
    "\n",
    "rez2 = model.get_result()\n",
    "p_result2 = rez2[\"p\"]\n",
    "v_result2 = rez2[\"v\"]\n",
    "w_result2 = rez2[\"w\"]\n",
    "\n",
    "Tt_index2 = np.where(v_result2[2]>0)[0]\n",
    "Rd_index2 = np.where(v_result2[2]<0)[0]"
   ]
  },
  {
   "cell_type": "code",
   "execution_count": 5,
   "metadata": {},
   "outputs": [
    {
     "name": "stdout",
     "output_type": "stream",
     "text": [
      "Memory area size for voxel storage: 1.061 Mbyte\n",
      "\n",
      "###### Start ######\n",
      "\n",
      "Progress: 5.359 [％]\n",
      "Calculation time: 0 minutes 0.615 seconds.\n",
      "\n",
      "Progress: 13.509 [％]\n",
      "Calculation time: 0 minutes 1.273 seconds.\n",
      "\n",
      "Progress: 24.346 [％]\n",
      "Calculation time: 0 minutes 2.394 seconds.\n",
      "\n",
      "Progress: 37.153 [％]\n",
      "Calculation time: 0 minutes 4.246 seconds.\n",
      "\n",
      "Progress: 50.085 [％]\n",
      "Calculation time: 0 minutes 7.144 seconds.\n",
      "\n",
      "Progress: 62.18 [％]\n",
      "Calculation time: 0 minutes 11.704 seconds.\n",
      "\n",
      "Progress: 99.73 [％]\n",
      "Calculation time: 0 minutes 14.920 seconds.\n",
      "\n",
      "\n",
      "###### Finish ######\n",
      "Maximum step number: 175\n",
      "######\n",
      "Mean Rd 0.219889\n",
      "Mean Tt 0.000000\n",
      "\n",
      "Calculation time: 0 minutes 15.058 seconds.\n",
      "15.077224016189575 sec\n"
     ]
    }
   ],
   "source": [
    "nPh = 500000\n",
    "params = {\n",
    "    'thickness':[10],\n",
    "    'ms':[90],\n",
    "    'ma':[10],\n",
    "    'g':[0.],\n",
    "    'n':[1.5],\n",
    "    'n_air':1.,\n",
    "    'xy_size':[10,10],\n",
    "    'voxel_space':0.1,\n",
    "}\n",
    "\n",
    "model = VoxelPlateModel(\n",
    "    nPh = nPh,\n",
    "    beam_angle = 0/180,\n",
    "    initial_refrect_by_angle = False\n",
    ")\n",
    "\n",
    "model.build(**params)\n",
    "start = time.time()\n",
    "model = model.start()\n",
    "print('%s sec'%(time.time()-start))\n",
    "\n",
    "rez3 = model.get_result()\n",
    "p_result3 = rez3[\"p\"]\n",
    "v_result3 = rez3[\"v\"]\n",
    "w_result3 = rez3[\"w\"]\n",
    "\n",
    "Tt_index3 = np.where(v_result3[2]>0)[0]\n",
    "Rd_index3 = np.where(v_result3[2]<0)[0]"
   ]
  },
  {
   "cell_type": "code",
   "execution_count": 6,
   "metadata": {},
   "outputs": [
    {
     "name": "stdout",
     "output_type": "stream",
     "text": [
      "Refrected\n"
     ]
    },
    {
     "data": {
      "image/png": "[encoded data removed]",
      "text/plain": [
       "<Figure size 450x360 with 1 Axes>"
      ]
     },
     "metadata": {},
     "output_type": "display_data"
    }
   ],
   "source": [
    "print('Refrected')\n",
    "nn = 50\n",
    "alpha,Rda = AngularyResolved(v_result[:,Rd_index],w_result[Rd_index],nn,nPh)\n",
    "alpha,Rda2 = AngularyResolved(v_result2[:,Rd_index2],w_result2[Rd_index2],nn,nPh)\n",
    "alpha,Rda3 = AngularyResolved(v_result3[:,Rd_index3],w_result3[Rd_index3],nn,nPh)\n",
    "\n",
    "plt.figure(figsize=(5,4),dpi=90)\n",
    "plt.plot(alpha/np.pi,Rda,'s',label = 'Subtract reflectance from the initial photon weight')\n",
    "plt.plot(alpha/np.pi,Rda2,'o',label = 'Invert vector with initial photon weight set to 1')\n",
    "plt.plot(alpha/np.pi,Rda3,'x',label = 'Zero degree incident')\n",
    "plt.xlabel('Exit Angle α [rad/π]')\n",
    "plt.ylabel('Rd(α) [/sr]')\n",
    "plt.legend()\n",
    "plt.yscale('log')\n",
    "#plt.xlim(0,0.5)\n",
    "#plt.ylim(0,0.025)\n",
    "plt.show()"
   ]
  },
  {
   "cell_type": "code",
   "execution_count": 9,
   "metadata": {},
   "outputs": [
    {
     "data": {
      "text/plain": [
       "0.10664873190514193"
      ]
     },
     "execution_count": 9,
     "metadata": {},
     "output_type": "execute_result"
    }
   ],
   "source": [
    "np.arctan(10/93.41)"
   ]
  },
  {
   "cell_type": "code",
   "execution_count": 7,
   "metadata": {},
   "outputs": [
    {
     "data": {
      "image/png": "[encoded data removed]",
      "text/plain": [
       "<Figure size 500x400 with 1 Axes>"
      ]
     },
     "metadata": {},
     "output_type": "display_data"
    }
   ],
   "source": [
    "nn = 30\n",
    "dr = 0.1/nn\n",
    "\n",
    "alphaRd,Rd = radialDistance(p_result[:,Rd_index],w_result[Rd_index],nn,dr,nPh = nPh)\n",
    "alphaRd,Rd2 = radialDistance(p_result2[:,Rd_index2],w_result2[Rd_index2],nn,dr,nPh = nPh)\n",
    "alphaRd,Rd3 = radialDistance(p_result3[:,Rd_index3],w_result3[Rd_index3],nn,dr,nPh = nPh)\n",
    "\n",
    "plt.figure(figsize=(5,4),dpi=100)\n",
    "plt.plot(alphaRd,Rd,'s',label = 'Subtract reflectance from the initial photon weight')\n",
    "plt.plot(alphaRd,Rd2,'o',label = 'Invert vector with initial photon weight set to 1')\n",
    "plt.plot(alphaRd,Rd3,'x',label = 'Zero degree incident')\n",
    "plt.yscale('log')\n",
    "plt.xlabel('r [cm]')\n",
    "plt.ylabel('Rd $[cm^{-2}]$')\n",
    "plt.legend()\n",
    "plt.show()\n"
   ]
  },
  {
   "cell_type": "markdown",
   "metadata": {},
   "source": [
    "# 光学系のテスト"
   ]
  },
  {
   "cell_type": "code",
   "execution_count": 2,
   "metadata": {
    "scrolled": true
   },
   "outputs": [
    {
     "name": "stdout",
     "output_type": "stream",
     "text": [
      "Memory area size for voxel storage: 8.242 Mbyte\n",
      "\n",
      "###### Start ######\n",
      "\n",
      "Progress: 3.21 [％]\n",
      "Calculation time: 0 minutes 1.028 seconds.\n",
      "\n",
      "Progress: 6.884 [％]\n",
      "Calculation time: 0 minutes 2.270 seconds.\n",
      "\n",
      "Progress: 15.102 [％]\n",
      "Calculation time: 0 minutes 4.632 seconds.\n",
      "\n",
      "Progress: 27.316 [％]\n",
      "Calculation time: 0 minutes 8.866 seconds.\n",
      "\n",
      "Progress: 41.288 [％]\n",
      "Calculation time: 0 minutes 16.060 seconds.\n",
      "\n",
      "Progress: 54.753 [％]\n",
      "Calculation time: 0 minutes 27.003 seconds.\n",
      "\n",
      "Progress: 66.317 [％]\n",
      "Calculation time: 0 minutes 42.630 seconds.\n",
      "\n",
      "Progress: 75.469 [％]\n",
      "Calculation time: 1 minutes 5.605 seconds.\n",
      "\n",
      "Progress: 82.413 [％]\n",
      "Calculation time: 1 minutes 40.825 seconds.\n",
      "\n",
      "Progress: 87.48 [％]\n",
      "Calculation time: 2 minutes 32.921 seconds.\n",
      "\n",
      "Progress: 91.094 [％]\n",
      "Calculation time: 3 minutes 50.196 seconds.\n",
      "\n",
      "Progress: 93.677 [％]\n",
      "Calculation time: 5 minutes 44.641 seconds.\n",
      "\n",
      "Progress: 95.525 [％]\n",
      "Calculation time: 8 minutes 48.103 seconds.\n",
      "\n",
      "Progress: 99.998 [％]\n",
      "Calculation time: 10 minutes 52.650 seconds.\n",
      "\n",
      "\n",
      "###### Finish ######\n",
      "Maximum step number: 20626\n",
      "######\n",
      "Mean Rd 0.811882\n",
      "Mean Tt 0.000000\n",
      "\n",
      "Calculation time: 11 minutes 14.080 seconds.\n",
      "674.1806931495667 sec\n"
     ]
    }
   ],
   "source": [
    "from pymopt.voxel import VoxelPlateModel\n",
    "\n",
    "from scipy import stats\n",
    "import numpy as np\n",
    "import pandas as pa\n",
    "import time\n",
    "\n",
    "import matplotlib.pyplot as plt\n",
    "import seaborn as sns\n",
    "sns.set_style(\"ticks\", {'grid.linestyle': '--'})\n",
    "import warnings\n",
    "warnings.filterwarnings('ignore')\n",
    "\n",
    "lamda = 850\n",
    "intra_p = 0.2\n",
    "ms = 0.016*(lamda*1e-3)**-2.4*1e3*intra_p\n",
    "\n",
    "nPh = 1e6\n",
    "params = {\n",
    "    'thickness':[200],\n",
    "    'ms':[ms],\n",
    "    'ma':[0.0042232],\n",
    "    'g':[0.607],\n",
    "    'n':[1.3276],\n",
    "    'n_air':1.,\n",
    "    'xy_size':[200,200],\n",
    "    'voxel_space':1,\n",
    "}\n",
    "\n",
    "model = VoxelPlateModel(\n",
    "    nPh = nPh,\n",
    "    beam_angle = 'lens_f',\n",
    "    wavelength = lamda,\n",
    "    beam_posision = 10,\n",
    "    lens_curvature_radius = 51.68,\n",
    "    grass_type = 'N-BK7',\n",
    "    initial_refrect_by_angle = True,\n",
    ")\n",
    "\n",
    "model.build(**params)\n",
    "start = time.time()\n",
    "model = model.start()\n",
    "print('%s sec'%(time.time()-start))\n",
    "\n",
    "rez3 = model.get_result()\n",
    "p_result3 = rez3[\"p\"]\n",
    "v_result3 = rez3[\"v\"]\n",
    "w_result3 = rez3[\"w\"]\n",
    "\n",
    "Tt_index3 = np.where(v_result3[2]>0)[0]\n",
    "Rd_index3 = np.where(v_result3[2]<0)[0]"
   ]
  },
  {
   "cell_type": "code",
   "execution_count": 3,
   "metadata": {},
   "outputs": [
    {
     "name": "stdout",
     "output_type": "stream",
     "text": [
      "Monte Carlo results saved in \n",
      "-> ../result/210625_anglyint_850nm_nPh1e6_intra_LID.pkl.bz2\n",
      "\n",
      "Calculation conditions are saved in\n",
      "-> ../result/210625_anglyint_850nm_nPh1e6_intra_info.json\n",
      "\n",
      "Calculation time: 0 minutes 2.973 seconds.\n"
     ]
    }
   ],
   "source": [
    "save_path = '../result/210625_anglyint_850nm_nPh1e6_intra'\n",
    "model.save_result(save_path,coment='test')"
   ]
  },
  {
   "cell_type": "code",
   "execution_count": 4,
   "metadata": {},
   "outputs": [
    {
     "data": {
      "text/plain": [
       "0.10007124427307124"
      ]
     },
     "execution_count": 4,
     "metadata": {},
     "output_type": "execute_result"
    }
   ],
   "source": [
    "model.beam_angle"
   ]
  },
  {
   "cell_type": "code",
   "execution_count": 5,
   "metadata": {},
   "outputs": [
    {
     "name": "stderr",
     "output_type": "stream",
     "text": [
      "100%|██████████| 260/260 [01:49<00:00,  2.38it/s]"
     ]
    },
    {
     "name": "stdout",
     "output_type": "stream",
     "text": [
      "Calculation time: 1 minutes 49.212 seconds.\n"
     ]
    },
    {
     "name": "stderr",
     "output_type": "stream",
     "text": [
      "\n"
     ]
    }
   ],
   "source": [
    "from pymopt.optics import SideOBD\n",
    "\n",
    "sobd = SideOBD()\n",
    "sobd.set_monte_data(model.get_result())\n",
    "#obd.load_file(save_path)\n",
    "opt_params ={\n",
    "    'start':-2.04,'end':62.96,'split':0.25,'wavelength':800,\n",
    "    'outerD_1':50,'efl_1':100,'bfl_1':93.41,\n",
    "    'ct_1':10,'et_1':3.553,'r_1':51.68,\n",
    "    'substrate_1':'N-BK7',\n",
    "    'outerD_2' : 50,'efl_2' : 50,'bfl_2' : 43.28,\n",
    "    'ct_2':12,'et_2':3.01,'r_2':39.24,\n",
    "    'substrate_2':'N-SF11',\n",
    "    'slit_outerD':50,'slit_D':20,'slit_width':2,'slit_thickness':5,\n",
    "    'd_pd':3,'ld_fix_part':True,\n",
    "    #'distance_2slits':37,'pd_poit_correction':0,\n",
    "}\n",
    "sobd.set_params(opt_params)\n",
    "sobd.start()\n",
    "res = sobd.get_result()"
   ]
  },
  {
   "cell_type": "code",
   "execution_count": 6,
   "metadata": {},
   "outputs": [
    {
     "data": {
      "image/png": "[encoded data removed]",
      "text/plain": [
       "<Figure size 432x288 with 1 Axes>"
      ]
     },
     "metadata": {},
     "output_type": "display_data"
    }
   ],
   "source": [
    "plt.plot(res.Z,res[\"log(int)\"])\n",
    "plt.show()"
   ]
  },
  {
   "cell_type": "code",
   "execution_count": null,
   "metadata": {},
   "outputs": [],
   "source": [
    "plt.plot(res.Z,res[\"int\"])\n",
    "plt.show()"
   ]
  },
  {
   "cell_type": "code",
   "execution_count": 32,
   "metadata": {},
   "outputs": [
    {
     "data": {
      "text/plain": [
       "1.1868238913561442"
      ]
     },
     "execution_count": 32,
     "metadata": {},
     "output_type": "execute_result"
    }
   ],
   "source": [
    "np.deg2rad(68)"
   ]
  },
  {
   "cell_type": "code",
   "execution_count": 35,
   "metadata": {},
   "outputs": [
    {
     "data": {
      "text/plain": [
       "1.1868238913561442"
      ]
     },
     "execution_count": 35,
     "metadata": {},
     "output_type": "execute_result"
    }
   ],
   "source": [
    "68*np.pi/(180)"
   ]
  },
  {
   "cell_type": "code",
   "execution_count": 50,
   "metadata": {},
   "outputs": [
    {
     "data": {
      "image/png": "[encoded data removed]",
      "text/plain": [
       "<Figure size 450x450 with 1 Axes>"
      ]
     },
     "metadata": {},
     "output_type": "display_data"
    }
   ],
   "source": [
    "import matplotlib.pyplot as plt\n",
    "import seaborn as sns\n",
    "sns.set_style(\"ticks\", {'grid.linestyle': '--'})\n",
    "\n",
    "angle =np.deg2rad(68)\n",
    "th = 5\n",
    "w = 6\n",
    "\n",
    "\n",
    "a1 = (1/np.tan(angle)-1\\\n",
    "/(np.sin(angle)*np.cos(angle)))\n",
    "b1 = w/np.cos(angle)\n",
    "a2 = (np.cos(angle)+1)/np.sin(angle)\n",
    "b2 = -w\n",
    "b3 = -w\n",
    "\n",
    "p = np.random.normal(0,10,(2,10000))\n",
    "\n",
    "index_ = np.where(\n",
    "    (p[1]>a1*p[0]+b1)|(p[1]<a2*p[0]+b2)|(p[1]<b3)\n",
    ")[0].tolist()\n",
    "cx = np.linspace(-9,9,100)\n",
    "cy = np.sqrt(9**2-cx**2)\n",
    "cx2 = np.linspace(-11,11,100)\n",
    "cy2 = np.sqrt(11**2-cx2**2)\n",
    "plt.figure(figsize=(5,5),dpi=90)\n",
    "plt.plot(p[0],p[1],'.')\n",
    "plt.plot(p[:,index_][0],p[:,index_][1],'.')\n",
    "plt.plot([-40,40],[0,0],'-',c = 'k')\n",
    "plt.plot([0,0],[-40,40],'-',c = 'k')\n",
    "plt.plot(cx,cy,'-',c = 'k')\n",
    "plt.plot(cx,-cy,'-',c = 'k')\n",
    "plt.plot(cx2,cy2,'-',c = 'k')\n",
    "plt.plot(cx2,-cy2,'-',c = 'k')\n",
    "plt.xlabel('X [mm]')\n",
    "plt.ylabel('Y [mm]')\n",
    "plt.show()\n"
   ]
  },
  {
   "cell_type": "code",
   "execution_count": 45,
   "metadata": {},
   "outputs": [],
   "source": [
    "cx = np.linspace(-9,9,20)\n",
    "cy = np.sqrt(9**2-cx**2)"
   ]
  },
  {
   "cell_type": "code",
   "execution_count": 25,
   "metadata": {},
   "outputs": [
    {
     "data": {
      "text/plain": [
       "(1000,)"
      ]
     },
     "execution_count": 25,
     "metadata": {},
     "output_type": "execute_result"
    }
   ],
   "source": [
    "p[0].shape"
   ]
  },
  {
   "cell_type": "code",
   "execution_count": 22,
   "metadata": {},
   "outputs": [
    {
     "data": {
      "text/plain": [
       "(array([  0,   1,   2,   9,  11,  12,  14,  22,  25,  27,  29,  31,  32,\n",
       "         33,  35,  37,  38,  40,  42,  44,  45,  46,  48,  50,  51,  52,\n",
       "         54,  57,  58,  59,  61,  62,  64,  66,  68,  71,  72,  75,  76,\n",
       "         77,  79,  80,  82,  84,  85,  86,  87,  90,  91,  93,  94,  97,\n",
       "        101, 102, 103, 104, 105, 106, 107, 108, 109, 111, 112, 116, 117,\n",
       "        118, 122, 124, 125, 128, 129, 130, 131, 132, 134, 136, 138, 140,\n",
       "        143, 146, 149, 156, 157, 158, 165, 168, 169, 171, 173, 174, 175,\n",
       "        178, 179, 184, 187, 188, 190, 191, 192, 194, 196, 198, 199, 200,\n",
       "        201, 202, 204, 205, 208, 210, 215, 216, 217, 218, 221, 222, 224,\n",
       "        226, 228, 229, 230, 232, 236, 240, 245, 247, 248, 249, 250, 252,\n",
       "        253, 257, 258, 259, 261, 262, 266, 273, 274, 275, 276, 280, 282,\n",
       "        283, 284, 288, 290, 292, 293, 295, 296, 297, 298, 299, 302, 304,\n",
       "        305, 306, 308, 309, 311, 313, 314, 316, 317, 319, 325, 326, 328,\n",
       "        329, 331, 335, 336, 338, 340, 344, 347, 348, 349, 355, 356, 357,\n",
       "        359, 360, 364, 365, 366, 367, 368, 369, 370, 373, 378, 379, 381,\n",
       "        384, 392, 395, 396, 397, 398, 400, 404, 407, 408, 409, 413, 415,\n",
       "        416, 417, 418, 420, 423, 424, 425, 426, 429, 431, 432, 434, 435,\n",
       "        437, 440, 441, 442, 443, 445, 446, 447, 449, 451, 452, 453, 455,\n",
       "        459, 460, 461, 464, 466, 467, 469, 470, 471, 473, 476, 477, 478,\n",
       "        479, 480, 481, 482, 486, 488, 489, 491, 492, 493, 495, 497, 498,\n",
       "        500, 501, 503, 504, 506, 508, 512, 513, 516, 518, 524, 525, 527,\n",
       "        528, 531, 533, 534, 535, 537, 538, 539, 540, 541, 542, 543, 544,\n",
       "        546, 547, 549, 552, 553, 555, 556, 559, 560, 561, 563, 564, 565,\n",
       "        566, 567, 568, 569, 571, 572, 576, 577, 578, 580, 581, 587, 588,\n",
       "        590, 591, 593, 597, 598, 599, 601, 602, 603, 606, 608, 609, 615,\n",
       "        616, 617, 618, 621, 622, 624, 625, 626, 628, 629, 631, 634, 637,\n",
       "        640, 642, 643, 644, 645, 646, 647, 648, 650, 654, 655, 657, 658,\n",
       "        660, 661, 664, 666, 667, 670, 673, 675, 676, 678, 679, 680, 682,\n",
       "        684, 685, 686, 687, 688, 690, 691, 692, 693, 694, 695, 697, 701,\n",
       "        704, 705, 706, 707, 709, 710, 712, 713, 714, 715, 716, 718, 719,\n",
       "        721, 722, 723, 725, 727, 733, 735, 736, 740, 741, 742, 744, 746,\n",
       "        748, 749, 751, 753, 755, 757, 758, 760, 762, 764, 766, 769, 773,\n",
       "        774, 775, 776, 779, 780, 781, 783, 784, 786, 788, 790, 793, 794,\n",
       "        796, 797, 801, 803, 804, 805, 810, 811, 812, 813, 814, 818, 822,\n",
       "        825, 827, 829, 830, 831, 832, 833, 835, 836, 838, 839, 843, 844,\n",
       "        846, 847, 848, 849, 850, 851, 858, 861, 862, 863, 864, 865, 867,\n",
       "        868, 869, 870, 872, 873, 875, 877, 878, 880, 881, 882, 884, 885,\n",
       "        888, 889, 890, 892, 894, 897, 899, 900, 903, 904, 905, 909, 910,\n",
       "        913, 915, 916, 917, 918, 919, 920, 922, 923, 925, 926, 929, 930,\n",
       "        931, 932, 935, 936, 938, 939, 941, 943, 945, 946, 947, 948, 949,\n",
       "        951, 952, 954, 955, 956, 957, 962, 963, 964, 965, 969, 974, 976,\n",
       "        977, 978, 982, 983, 984, 985, 987, 991, 992, 993, 994, 995, 998,\n",
       "        999]),)"
      ]
     },
     "execution_count": 22,
     "metadata": {},
     "output_type": "execute_result"
    }
   ],
   "source": [
    "index_ = np.where((p[1]>a2*p[0]+b2))\n",
    "index_"
   ]
  },
  {
   "cell_type": "code",
   "execution_count": null,
   "metadata": {},
   "outputs": [],
   "source": []
  }
 ],
 "metadata": {
  "kernelspec": {
   "display_name": "Python 3",
   "language": "python",
   "name": "python3"
  },
  "language_info": {
   "codemirror_mode": {
    "name": "ipython",
    "version": 3
   },
   "file_extension": ".py",
   "mimetype": "text/x-python",
   "name": "python",
   "nbconvert_exporter": "python",
   "pygments_lexer": "ipython3",
   "version": "3.8.5"
  }
 },
 "nbformat": 4,
 "nbformat_minor": 4
}
