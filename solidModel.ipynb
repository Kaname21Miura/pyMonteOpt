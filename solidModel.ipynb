{
 "cells": [
  {
   "cell_type": "code",
   "execution_count": 2,
   "metadata": {},
   "outputs": [],
   "source": [
    "import time\n",
    "#import cupy as cu\n",
    "import numpy as np\n",
    "import readDICOM as dcm\n",
    "import matplotlib.pyplot as plt\n",
    "import matplotlib\n",
    "from scipy import stats\n",
    "import warnings\n",
    "warnings.filterwarnings('ignore')\n",
    "import os\n",
    "workspace = os.getcwd()\n",
    "def calTime(end, start):\n",
    "    elapsed_time = end - start\n",
    "    q, mod = divmod(elapsed_time, 60)\n",
    "    if q < 60:\n",
    "        print('Calculation time: %d minutes %d seconds.' % (q, mod))\n",
    "    else:\n",
    "        q2, mod2 = divmod(q, 60)\n",
    "        print('Calculation time: %d h %d minutes.' % (q2, mod2))"
   ]
  },
  {
   "cell_type": "code",
   "execution_count": 40,
   "metadata": {},
   "outputs": [
    {
     "name": "stdout",
     "output_type": "stream",
     "text": [
      "[[ 0.  0.  0.  0.  0.  0.  0.  0.  0.  0.  0.  0.  0.  0.  0.  0.  0.  0.\n",
      "   0.  0.  0.  0.  0.  0.  0.  0.  0.  0.  0.  0.  0.  0.  0.  0.  0.  0.\n",
      "   0.  0.  0.  0.  0.  0.  0.  0.  0.  0.  0.  0.  0.  0.]\n",
      " [ 0.  0.  0.  0.  0.  0.  0.  0.  0.  0.  0.  0.  0.  0.  0.  0.  0.  0.\n",
      "   0.  0.  0.  0.  0.  0.  0.  0.  0.  0.  0.  0.  0.  0.  0.  0.  0.  0.\n",
      "   0.  0.  0.  0.  0.  0.  0.  0.  0.  0.  0.  0.  0.  0.]\n",
      " [-1. -1. -1. -1. -1. -1. -1. -1. -1. -1. -1. -1. -1. -1. -1. -1. -1. -1.\n",
      "  -1. -1. -1. -1. -1. -1. -1. -1. -1. -1. -1. -1. -1. -1. -1. -1. -1. -1.\n",
      "  -1. -1. -1. -1. -1. -1. -1. -1. -1. -1. -1. -1. -1. -1.]]\n"
     ]
    }
   ],
   "source": [
    "G = np.full(50, 0.93, dtype=\"float32\")\n",
    "v = np.array([np.zeros(50),np.zeros(50),-np.ones(50)])\n",
    "print(v)\n"
   ]
  },
  {
   "cell_type": "code",
   "execution_count": 1,
   "metadata": {},
   "outputs": [
    {
     "ename": "NameError",
     "evalue": "name 'vectorUpdate' is not defined",
     "output_type": "error",
     "traceback": [
      "\u001b[0;31m---------------------------------------------------------------------------\u001b[0m",
      "\u001b[0;31mNameError\u001b[0m                                 Traceback (most recent call last)",
      "\u001b[0;32m<ipython-input-1-331998950ad4>\u001b[0m in \u001b[0;36m<module>\u001b[0;34m\u001b[0m\n\u001b[0;32m----> 1\u001b[0;31m \u001b[0mv\u001b[0m \u001b[0;34m=\u001b[0m \u001b[0mvectorUpdate\u001b[0m\u001b[0;34m(\u001b[0m\u001b[0mv\u001b[0m\u001b[0;34m,\u001b[0m\u001b[0mG\u001b[0m\u001b[0;34m,\u001b[0m\u001b[0mf\u001b[0m\u001b[0;34m=\u001b[0m\u001b[0;34m\"float32\"\u001b[0m\u001b[0;34m)\u001b[0m\u001b[0;34m\u001b[0m\u001b[0;34m\u001b[0m\u001b[0m\n\u001b[0m\u001b[1;32m      2\u001b[0m \u001b[0mplt\u001b[0m\u001b[0;34m.\u001b[0m\u001b[0mplot\u001b[0m\u001b[0;34m(\u001b[0m\u001b[0mv\u001b[0m\u001b[0;34m[\u001b[0m\u001b[0;36m0\u001b[0m\u001b[0;34m]\u001b[0m\u001b[0;34m,\u001b[0m\u001b[0mv\u001b[0m\u001b[0;34m[\u001b[0m\u001b[0;36m1\u001b[0m\u001b[0;34m]\u001b[0m\u001b[0;34m,\u001b[0m\u001b[0;34m\".\"\u001b[0m\u001b[0;34m)\u001b[0m\u001b[0;34m\u001b[0m\u001b[0;34m\u001b[0m\u001b[0m\n\u001b[1;32m      3\u001b[0m \u001b[0mplt\u001b[0m\u001b[0;34m.\u001b[0m\u001b[0mshow\u001b[0m\u001b[0;34m(\u001b[0m\u001b[0;34m)\u001b[0m\u001b[0;34m\u001b[0m\u001b[0;34m\u001b[0m\u001b[0m\n",
      "\u001b[0;31mNameError\u001b[0m: name 'vectorUpdate' is not defined"
     ]
    }
   ],
   "source": [
    "v = vectorUpdate(v,G,f=\"float32\")\n",
    "plt.plot(v[0],v[1],\".\")\n",
    "plt.show()"
   ]
  },
  {
   "cell_type": "code",
   "execution_count": 125,
   "metadata": {},
   "outputs": [
    {
     "name": "stdout",
     "output_type": "stream",
     "text": [
      "hello world to 1 and 2\n"
     ]
    }
   ],
   "source": [
    "class Sampel():\n",
    "    def __init__(self):\n",
    "        pass\n",
    "    def AAA(self,x,y):\n",
    "        print(\"hello world to {} and {}\".format(x,y))\n",
    "\n",
    "class Sample2(): \n",
    "    def __init__(self,model1):\n",
    "        self.model = model1\n",
    "\n",
    "    def BBB(self,x,y):\n",
    "        #AAA(x,y) <-この中でAAAの関数を呼び出したいです#Class Sampelのインスタンス作成\n",
    "        self.model.AAA(x,y)\n",
    "    \n",
    "sample = Sample2(Sampel())\n",
    "sample.BBB(1,2)"
   ]
  },
  {
   "cell_type": "code",
   "execution_count": 5,
   "metadata": {},
   "outputs": [
    {
     "data": {
      "text/plain": [
       "[-1, 1, 2, 3]"
      ]
     },
     "execution_count": 5,
     "metadata": {},
     "output_type": "execute_result"
    }
   ],
   "source": [
    "[-1]+[1,2,3]"
   ]
  },
  {
   "cell_type": "markdown",
   "metadata": {},
   "source": [
    "# Zの方向に注意"
   ]
  },
  {
   "cell_type": "code",
   "execution_count": 316,
   "metadata": {},
   "outputs": [],
   "source": [
    "class MonteCalroPh():\n",
    "    def __init__(self,sample_model):\n",
    "        self.model = sample_model\n",
    "        self.vectorTh = 0.99999\n",
    "        \n",
    "    def generateInisalData(self,nPh,f_bit):\n",
    "        p = np.zeros((3,nPh),dtype = f_bit)\n",
    "        v = np.zeros((3,nPh),dtype = f_bit)\n",
    "        v[2] = 1\n",
    "        w = np.full(nPh,1-0.2).astype(f_bit)\n",
    "        return p,v,w\n",
    "    \n",
    "    ####### Mainの関数 #######\n",
    "    def startMonteCalro(self,nPh):\n",
    "\n",
    "        f_bit = \"float32\"\n",
    "        start_ = time.time()\n",
    "\n",
    "        #初期値の設定\n",
    "        p,v,w = self.generateInisalData(nPh,f_bit)\n",
    "\n",
    "        #結果保存用の配列を定義\n",
    "        v_result = np.empty((3,1)).astype(f_bit)\n",
    "        p_result = np.empty((3,1)).astype(f_bit)\n",
    "        w_result = np.empty(1).astype(f_bit)\n",
    "        count = 0\n",
    "        counter = 2\n",
    "\n",
    "        # Let's MonteCalro!\n",
    "        while(v != []):\n",
    "            p,v,w,result = self.stepMovement(p,v,w,f_bit)\n",
    "            if result[0][0].tolist() != []:\n",
    "                p_result = np.concatenate([p_result, result[0]],axis = 1)\n",
    "                v_result = np.concatenate([v_result, result[1]],axis = 1)\n",
    "                w_result = np.concatenate([w_result, result[2]])\n",
    "            count+=1\n",
    "            if count%counter==0:\n",
    "                counter*=2\n",
    "                print(\"Progress: %s [％]\"%round((1-w.size/nPh)*100,3))\n",
    "                calTime(time.time(), start_)\n",
    "                print()\n",
    "\n",
    "        #結果の表示\n",
    "        print(\"\")\n",
    "        print(\"###### Result ######\")\n",
    "        print(\"Maximum step number: %s\"%count)\n",
    "        print(\"Photon weight reduction late: %s ％\"%round((1-np.sum(w_result)/nPh)*100,3))\n",
    "        calTime(time.time(), start_)\n",
    "        v_result = v_result[:,1:]\n",
    "        p_result = p_result[:,1:]\n",
    "        w_result = w_result[1:]\n",
    "        return v_result,p_result,w_result\n",
    "    \n",
    "    #光の動きを制御する\n",
    "    def stepMovement(self,p,v,w,f=\"float32\"):\n",
    "        ## 光子の位置並びにベクトルを更新します。\n",
    "        #１stepで光子が進む予定の距離を定義\n",
    "        s = self.stepLength(p[0].size,f)\n",
    "        #境界を超える光子のindexを取得\n",
    "        pb_index,l,ma,mt,g = self.model.boundaryJudgment(p,v,s)\n",
    "        #光子位置を更新\n",
    "        p = self.positionUpdate(p,v,l)\n",
    "        \n",
    "        w = self.wUpdate(w,ma,mt,l*mt/s)        \n",
    "        w,p,v = self.photonVanishing(w,p,v)\n",
    "        \n",
    "        if pb_index != []:            \n",
    "            #境界上光子のベクトルの更新\n",
    "            v[:,pb_index] = self.updateOnBoundary(v[:,pb_index],p[:,pb_index],f)\n",
    "            #境界を超えない光子の位置,ベクトルを更新\n",
    "            pn_index = np.delete(np.arange(p[2].size),pb_index)\n",
    "            v[:,pn_index] = self.vectorUpdate(v[:,pn_index],g[pn_index],f)\n",
    "        else:#全ての光子が境界に乗っていない時\n",
    "            v= self.vectorUpdate(v,g,f)\n",
    "        p,v,w,result=self.model.borderOut(p,v,w)\n",
    "        return p,v,w,result\n",
    "\n",
    "    def photonVanishing(self,w,p,v):\n",
    "        #photn waight が0.0001以下\n",
    "        del_index = np.where(w<=0.0001)[0].tolist()\n",
    "        if del_index != []:\n",
    "            print(\"消失\")\n",
    "            w[del_index] = self.russianRoulette(w[del_index])\n",
    "            del_index = np.where(w==0)[0].tolist()\n",
    "            v = np.delete(v, del_index, axis = 1)\n",
    "            p = np.delete(p, del_index, axis = 1)\n",
    "            w = np.delete(w, del_index)\n",
    "        else:\n",
    "            pass\n",
    "        return w,p,v\n",
    "    \n",
    "    def russianRoulette(self,w,f=\"float32\"):\n",
    "        ## 確率的に光子を生き返らせます。\n",
    "        m = 10\n",
    "        ra = np.random.rand(w.size).astype(f)\n",
    "        index = np.where(ra>(1/m))[0].tolist()\n",
    "        w[index] = 0\n",
    "        index = np.where(ra<=(1/m))[0].tolist()\n",
    "        w[index] = w[index]*m\n",
    "        return w\n",
    "    \n",
    "    #境界におけるベクトル,位置,番地の更新\n",
    "    def updateOnBoundary(self,v,p,f=\"float32\"):\n",
    "        ## 境界面上にある光子の更新はこの関数で定義されます。\n",
    "        ## ここでは、透過判別や反射、屈折の計算を行います。\n",
    "        #境界を超える前後の屈折率を取得  \n",
    "        ni,nt = self.model.getNiNt(p,v)\n",
    "        #境界前後で屈折率が変化する場合のindex\n",
    "        pb_index = np.where(ni!=nt)[0]\n",
    "        if pb_index != []: \n",
    "            #透過判別\n",
    "            #入射角の計算\n",
    "            ai = self.model.getIncidentAngle(v[:,pb_index])\n",
    "            #全反射するときのインデックスを取得\n",
    "            sub_index = np.where(ai>=np.arcsin(nt[pb_index]/ni[pb_index]))[0].tolist()\n",
    "            #屈折角の計算\n",
    "            ##(ai,at)=(0,0)の時は透過させ方向ベクトルは変化させない\n",
    "            at = np.arcsin(ni[pb_index]*np.sin(ai)/nt[pb_index])\n",
    "            Ra = np.random.rand(ai.size)-0.5*(np.add((np.sin(ai-at)/np.sin(ai+at))**2,\n",
    "                                                     (np.tan(ai-at)/np.tan(ai+at))**2))\n",
    "            #全反射はRaを強制的に0以下にし反射させる\n",
    "            Ra[sub_index] = -1\n",
    "\n",
    "            #透過と反射のindexを取得\n",
    "            vl_index = pb_index[np.where(Ra<=0)[0].tolist()].tolist()#反射\n",
    "            sub_index = np.where(Ra>0)[0].tolist()\n",
    "            vt_index = pb_index[sub_index].tolist()#透過\n",
    "            at = at[sub_index]\n",
    "            #ベクトルを更新\n",
    "            v = self.model.boundaryVectorUpdate(v,at,vl_index,vt_index)\n",
    "        return v\n",
    "\n",
    "    def vectorUpdate(self,v,G,f=\"float32\"):\n",
    "        index = np.where(G==0.0)[0]\n",
    "        cosTh = np.empty_like(G)\n",
    "        if index != []:\n",
    "            rand_num = np.random.rand(G.size).astype(f)\n",
    "            cosTh[index] = 2*rand_num[index]-1\n",
    "            index = np.where(G!=0)[0]\n",
    "            if index != []:\n",
    "                cosTh[index] = ((1+G[index]**2\\\n",
    "                                 -((1-G[index]**2)/(1-G[index]+2*G[index]*rand_num[index]))**2)/(2*G[index]))\n",
    "        else:\n",
    "            #cos(theta)とsin(theta)と求める\n",
    "            cosTh = ((1+G**2-((1-G**2)/(1-G+2*G*np.random.rand(G.size).astype(f)))**2)/(2*G))\n",
    "        sinTh = np.sqrt(1-np.square(cosTh))\n",
    "        #cos(fai)とsin(fai)と求める\n",
    "        Fi = 2*np.pi*np.random.rand(G.size).astype(f)\n",
    "        cosFi = np.cos(Fi)\n",
    "        sinFi = np.sin(Fi)\n",
    "        #Zが１かそれ以外で分離\n",
    "        th = self.vectorTh\n",
    "        v1_index = np.where(np.abs(v[2])<=th)[0].tolist()\n",
    "        v2_index = np.where(np.abs(v[2])>th)[0].tolist()\n",
    "        v1 = v[:,v1_index]\n",
    "        \n",
    "        cosTh1 = cosTh[v1_index]; sinTh1 = sinTh[v1_index]\n",
    "        cosFi1 = cosFi[v1_index]; sinFi1 = sinFi[v1_index]\n",
    "        v2 = v[2][np.abs(v[2])>th]\n",
    "        cosTh2 = cosTh[v2_index]; sinTh2 = sinTh[v2_index]\n",
    "\n",
    "        #v1ベクトルの更新\n",
    "        A = np.reciprocal(np.sqrt(1-v1[2]**2))\n",
    "        B = A*v1\n",
    "        B[2] = np.negative(np.reciprocal(B[2]))\n",
    "        v[:,v1_index] = v1*cosTh1+sinTh1*cosFi1*v1[2]*B\\\n",
    "        +A*sinTh1*sinFi1*np.array([np.negative(v1[1]),v1[0],np.zeros(v1[0].size)],dtype=f)\n",
    "\n",
    "        #v2ベクトルの更新\n",
    "        Fi = 2*np.pi*np.random.rand(v2.size).astype(f)\n",
    "        v[:,v2_index] = np.array([\n",
    "            sinTh2*np.cos(Fi),\n",
    "            sinTh2*np.sin(Fi),\n",
    "            np.sign(v2)*cosTh2,\n",
    "        ],dtype=f)\n",
    "        return v\n",
    "\n",
    "    def positionUpdate(self,p,v,L):\n",
    "        return p+v*L\n",
    "\n",
    "    #光子の１ステップにおけるエネルギーの損失を計算\n",
    "    def wUpdate(self,w,ma,mt,rato):\n",
    "        return w*(1-rato*ma/mt)\n",
    "    \n",
    "    def russianRoulette(self,w,f=\"float32\"):\n",
    "        ## 確率的に光子を生き返らせます。\n",
    "        m = 10\n",
    "        ra = np.random.rand(w.size).astype(f)\n",
    "        index = np.where(ra>(1/m))[0].tolist()\n",
    "        w[index] = 0\n",
    "        index = np.where(ra<=(1/m))[0].tolist()\n",
    "        w[index] = w[index]*m\n",
    "        return w\n",
    "\n",
    "    #光子の移動距離, uniformly distributed over the interval (0,1)\n",
    "    def stepLength(self,size,f=\"float32\"):\n",
    "        return -np.log(np.random.rand(size)).astype(f)\n",
    " \n",
    "    \n",
    "class SolidPlateModel():\n",
    "    def __init__(self,thickness,ma_list,ms_list,g_list,n_list,n_air,f = 'float32'):\n",
    "        thickness = [0]+thickness\n",
    "        b = 0; b_list = []\n",
    "        for i in  thickness:\n",
    "            b += i\n",
    "            b_list.append(b)\n",
    "        self.f = f\n",
    "        self.borderposit = np.array(b_list).astype(f)\n",
    "        self.ref_index =np.array([n_air]+n_list+[n_air]).astype(f)\n",
    "        self.ms = np.array(ms_list).astype(f)\n",
    "        self.ma = np.array(ma_list).astype(f)\n",
    "        self.g = np.array(g_list).astype(f)\n",
    "    \n",
    "    # 境界への入射角を定義\n",
    "    def getIncidentAngle(self,v):\n",
    "        return np.arccos(abs(v[2]))\n",
    "    \n",
    "    # 境界上のベクトル更新\n",
    "    def boundaryVectorUpdate(self,v,at,vl_index,vt_index):\n",
    "        #反射するとき\n",
    "        if vl_index !=[]:\n",
    "            v[2,vl_index] = -v[2,vl_index]\n",
    "        #透過するときのベクトルを更新\n",
    "        if vt_index !=[]:\n",
    "            v[:2,vt_index] = ni[vt_index]*v[:2,vt_index]/nt[vt_index]\n",
    "            v[2,vt_index] = np.sign(v[2,vt_index])*np.cos(at)\n",
    "        return v\n",
    "\n",
    "    def getDistanceBoundary(self,p,v):\n",
    "        index_positive = np.where(v[2]>0)[0]\n",
    "        index_negative = np.where(v[2]<0)[0]\n",
    "        index_zero = np.where(v[2]==0)[0]\n",
    "\n",
    "        index_border = self.getBorderIndex(p)\n",
    "\n",
    "        border = self.borderposit\n",
    "        tilearray = np.tile(border,(p[2].size,1))\n",
    "\n",
    "        shallow = (tilearray*self.create01Array(index_border,m=border.size).T).max(1)\n",
    "        deep = (tilearray*self.create01Array(index_border+1,m=border.size).T).max(1)\n",
    "\n",
    "        S = np.empty_like(p[2])\n",
    "        S[index_negative] = (shallow[index_negative] - p[2,index_negative])/v[2,index_negative]\n",
    "        S[index_positive] = (deep[index_positive] - p[2,index_positive])/v[2,index_positive]\n",
    "        S[index_zero]=10000\n",
    "        return abs(S)\n",
    "    \n",
    "    def getOpticalProperties(self,p):\n",
    "        ma_array = self.ma; ms_array = self.ms; g_array = self.g\n",
    "        index = self.getBorderIndex(p)\n",
    "        data = np.empty((3,p[2].size))\n",
    "        p_size = p[2].size\n",
    "        A = self.create01Array(index,m=ma_array.size).T\n",
    "        data[0] = (np.tile(ma_array,(p_size,1))*A).max(1)\n",
    "        data[1] = (np.tile(ms_array,(p_size,1))*A).max(1)\n",
    "        data[2] = (np.tile(g_array,(p_size,1))*A).max(1)\n",
    "        return data\n",
    "                   \n",
    "    def getBorderIndex(self,p):\n",
    "        border = self.borderposit\n",
    "        d = np.sign(np.tile(border,(p[2].size,1))-np.tile(p[2],(border.size,1)).T).astype(int)\n",
    "        return np.where(d[:,:-1] != d[:,1:])[1]\n",
    "                   \n",
    "    #屈折率ni,ntの取得\n",
    "    def getNiNt(self,p,v):\n",
    "        ind_negative = np.where(v[2]<0)[0]\n",
    "        ind_positive = np.where(v[2]>0)[0]\n",
    "        pz = p[2]\n",
    "        n = self.ref_index\n",
    "        border = self.borderposit\n",
    "        index = np.argmin(np.abs(np.tile(border,(pz.size,1))-np.tile(pz,(border.size,1)).T),axis = 1)\n",
    "        n_array = np.tile(n,(index.size,1)).astype('int16').T\n",
    "        shallow = (n_array*self.create01Array(index,m=border.size+1)).max(0)\n",
    "        deep = (n_array*self.create01Array(index+1,m=border.size+1)).max(0)\n",
    "\n",
    "        ni = np.empty_like(pz)\n",
    "        nt = np.empty_like(pz)\n",
    "        ni[ind_positive] = shallow[ind_positive]\n",
    "        ni[ind_negative] = deep[ind_negative]\n",
    "        nt[ind_positive] = deep[ind_positive]\n",
    "        nt[ind_negative] = shallow[ind_negative]\n",
    "        return ni,nt\n",
    "    \n",
    "    #任意の位置(indexの行)が１でそれ以外は0の行列を作る\n",
    "    def create01Array(self,index,m=3):\n",
    "        n = index.size\n",
    "        array_0_1 = np.zeros(m*n,dtype = bool)\n",
    "        array_0_1[np.add(index,m*np.arange(n))] = 1\n",
    "        return array_0_1.reshape(n,m).T \n",
    "    \n",
    "    # 境界判別と光子移動距離の更新\n",
    "    def boundaryJudgment(self,p,v,s):\n",
    "        ma,ms,g = self.getOpticalProperties(p)\n",
    "        db = self.getDistanceBoundary(p,v)\n",
    "        mt = ma+ms\n",
    "        s = s/mt\n",
    "        pb_index = np.where((s-db)>=0)[0]\n",
    "        s[pb_index] = db[pb_index]\n",
    "        return pb_index,s,ma,mt,g\n",
    "    \n",
    "    def borderOut(self,p,v,w):\n",
    "        margin = 1e-10\n",
    "        border = self.borderposit\n",
    "        del_index = np.where(((p[2]<=border[0]+margin)&(v[2]<0))|((p[2]>=border[-1]-margin)&(v[2]>0)))[0]\n",
    "        result = list([p[:,del_index],v[:,del_index],w[del_index]])\n",
    "        v = np.delete(v, del_index, axis = 1)\n",
    "        p = np.delete(p, del_index, axis = 1)\n",
    "        w = np.delete(w, del_index)\n",
    "        return p,v,w,result    "
   ]
  },
  {
   "cell_type": "code",
   "execution_count": 317,
   "metadata": {},
   "outputs": [
    {
     "name": "stdout",
     "output_type": "stream",
     "text": [
      "消失\n"
     ]
    },
    {
     "ename": "IndexError",
     "evalue": "index 586 is out of bounds for axis 1 with size 581",
     "output_type": "error",
     "traceback": [
      "\u001b[0;31m---------------------------------------------------------------------------\u001b[0m",
      "\u001b[0;31mIndexError\u001b[0m                                Traceback (most recent call last)",
      "\u001b[0;32m<ipython-input-317-ff5ed92cdd9b>\u001b[0m in \u001b[0;36m<module>\u001b[0;34m\u001b[0m\n\u001b[1;32m     13\u001b[0m \u001b[0mn_count\u001b[0m \u001b[0;34m=\u001b[0m \u001b[0;34m[\u001b[0m\u001b[0;34m]\u001b[0m\u001b[0;34m\u001b[0m\u001b[0;34m\u001b[0m\u001b[0m\n\u001b[1;32m     14\u001b[0m \u001b[0;32mwhile\u001b[0m\u001b[0;34m(\u001b[0m\u001b[0mw\u001b[0m\u001b[0;34m!=\u001b[0m\u001b[0;34m[\u001b[0m\u001b[0;34m]\u001b[0m\u001b[0;34m)\u001b[0m\u001b[0;34m:\u001b[0m\u001b[0;34m\u001b[0m\u001b[0;34m\u001b[0m\u001b[0m\n\u001b[0;32m---> 15\u001b[0;31m     \u001b[0mp\u001b[0m\u001b[0;34m,\u001b[0m\u001b[0mv\u001b[0m\u001b[0;34m,\u001b[0m\u001b[0mw\u001b[0m\u001b[0;34m,\u001b[0m\u001b[0mresult\u001b[0m \u001b[0;34m=\u001b[0m \u001b[0mmonte\u001b[0m\u001b[0;34m.\u001b[0m\u001b[0mstepMovement\u001b[0m\u001b[0;34m(\u001b[0m\u001b[0mp\u001b[0m\u001b[0;34m,\u001b[0m\u001b[0mv\u001b[0m\u001b[0;34m,\u001b[0m\u001b[0mw\u001b[0m\u001b[0;34m,\u001b[0m\u001b[0mf\u001b[0m\u001b[0;34m=\u001b[0m\u001b[0mf_bit\u001b[0m\u001b[0;34m)\u001b[0m\u001b[0;34m\u001b[0m\u001b[0;34m\u001b[0m\u001b[0m\n\u001b[0m\u001b[1;32m     16\u001b[0m     \u001b[0mn_count\u001b[0m\u001b[0;34m.\u001b[0m\u001b[0mappend\u001b[0m\u001b[0;34m(\u001b[0m\u001b[0mresult\u001b[0m\u001b[0;34m[\u001b[0m\u001b[0;36m0\u001b[0m\u001b[0;34m]\u001b[0m\u001b[0;34m[\u001b[0m\u001b[0;36m0\u001b[0m\u001b[0;34m]\u001b[0m\u001b[0;34m.\u001b[0m\u001b[0mshape\u001b[0m\u001b[0;34m[\u001b[0m\u001b[0;36m0\u001b[0m\u001b[0;34m]\u001b[0m\u001b[0;34m)\u001b[0m\u001b[0;34m\u001b[0m\u001b[0;34m\u001b[0m\u001b[0m\n\u001b[1;32m     17\u001b[0m     \u001b[0mp_result\u001b[0m \u001b[0;34m=\u001b[0m \u001b[0mnp\u001b[0m\u001b[0;34m.\u001b[0m\u001b[0mconcatenate\u001b[0m\u001b[0;34m(\u001b[0m\u001b[0;34m[\u001b[0m\u001b[0mp_result\u001b[0m\u001b[0;34m,\u001b[0m \u001b[0mresult\u001b[0m\u001b[0;34m[\u001b[0m\u001b[0;36m0\u001b[0m\u001b[0;34m]\u001b[0m\u001b[0;34m]\u001b[0m\u001b[0;34m,\u001b[0m\u001b[0maxis\u001b[0m \u001b[0;34m=\u001b[0m \u001b[0;36m1\u001b[0m\u001b[0;34m)\u001b[0m\u001b[0;34m\u001b[0m\u001b[0;34m\u001b[0m\u001b[0m\n",
      "\u001b[0;32m<ipython-input-316-c0636c91a0de>\u001b[0m in \u001b[0;36mstepMovement\u001b[0;34m(self, p, v, w, f)\u001b[0m\n\u001b[1;32m     67\u001b[0m         \u001b[0;32mif\u001b[0m \u001b[0mpb_index\u001b[0m \u001b[0;34m!=\u001b[0m \u001b[0;34m[\u001b[0m\u001b[0;34m]\u001b[0m\u001b[0;34m:\u001b[0m\u001b[0;34m\u001b[0m\u001b[0;34m\u001b[0m\u001b[0m\n\u001b[1;32m     68\u001b[0m             \u001b[0;31m#境界上光子のベクトルの更新\u001b[0m\u001b[0;34m\u001b[0m\u001b[0;34m\u001b[0m\u001b[0;34m\u001b[0m\u001b[0m\n\u001b[0;32m---> 69\u001b[0;31m             \u001b[0mv\u001b[0m\u001b[0;34m[\u001b[0m\u001b[0;34m:\u001b[0m\u001b[0;34m,\u001b[0m\u001b[0mpb_index\u001b[0m\u001b[0;34m]\u001b[0m \u001b[0;34m=\u001b[0m \u001b[0mself\u001b[0m\u001b[0;34m.\u001b[0m\u001b[0mupdateOnBoundary\u001b[0m\u001b[0;34m(\u001b[0m\u001b[0mv\u001b[0m\u001b[0;34m[\u001b[0m\u001b[0;34m:\u001b[0m\u001b[0;34m,\u001b[0m\u001b[0mpb_index\u001b[0m\u001b[0;34m]\u001b[0m\u001b[0;34m,\u001b[0m\u001b[0mp\u001b[0m\u001b[0;34m[\u001b[0m\u001b[0;34m:\u001b[0m\u001b[0;34m,\u001b[0m\u001b[0mpb_index\u001b[0m\u001b[0;34m]\u001b[0m\u001b[0;34m,\u001b[0m\u001b[0mf\u001b[0m\u001b[0;34m)\u001b[0m\u001b[0;34m\u001b[0m\u001b[0;34m\u001b[0m\u001b[0m\n\u001b[0m\u001b[1;32m     70\u001b[0m             \u001b[0;31m#境界を超えない光子の位置,ベクトルを更新\u001b[0m\u001b[0;34m\u001b[0m\u001b[0;34m\u001b[0m\u001b[0;34m\u001b[0m\u001b[0m\n\u001b[1;32m     71\u001b[0m             \u001b[0mpn_index\u001b[0m \u001b[0;34m=\u001b[0m \u001b[0mnp\u001b[0m\u001b[0;34m.\u001b[0m\u001b[0mdelete\u001b[0m\u001b[0;34m(\u001b[0m\u001b[0mnp\u001b[0m\u001b[0;34m.\u001b[0m\u001b[0marange\u001b[0m\u001b[0;34m(\u001b[0m\u001b[0mp\u001b[0m\u001b[0;34m[\u001b[0m\u001b[0;36m2\u001b[0m\u001b[0;34m]\u001b[0m\u001b[0;34m.\u001b[0m\u001b[0msize\u001b[0m\u001b[0;34m)\u001b[0m\u001b[0;34m,\u001b[0m\u001b[0mpb_index\u001b[0m\u001b[0;34m)\u001b[0m\u001b[0;34m\u001b[0m\u001b[0;34m\u001b[0m\u001b[0m\n",
      "\u001b[0;31mIndexError\u001b[0m: index 586 is out of bounds for axis 1 with size 581"
     ]
    }
   ],
   "source": [
    "thickness=[0.2]\n",
    "ms = [90]\n",
    "ma = [10]\n",
    "g = [0.9]\n",
    "n = [1.5]\n",
    "n_air = 1\n",
    "model = SolidPlateModel(thickness,ma,ms,g,n,n_air)\n",
    "monte = MonteCalroPh(model)\n",
    "nPh = 50000\n",
    "f_bit = \"float32\"\n",
    "p,v,w, = monte.generateInisalData(nPh,f_bit)\n",
    "p_result = np.empty((3,1)).astype(f_bit)\n",
    "n_count = []\n",
    "while(w!=[]):\n",
    "    p,v,w,result = monte.stepMovement(p,v,w,f=f_bit)\n",
    "    n_count.append(result[0][0].shape[0])\n",
    "    p_result = np.concatenate([p_result, result[0]],axis = 1)\n"
   ]
  },
  {
   "cell_type": "code",
   "execution_count": 319,
   "metadata": {},
   "outputs": [
    {
     "data": {
      "image/png": "[encoded data removed]",
      "text/plain": [
       "<Figure size 432x288 with 1 Axes>"
      ]
     },
     "metadata": {
      "needs_background": "light"
     },
     "output_type": "display_data"
    }
   ],
   "source": [
    "plt.plot(n_count)\n",
    "#plt.yscale('log')\n",
    "plt.show()"
   ]
  },
  {
   "cell_type": "code",
   "execution_count": 248,
   "metadata": {},
   "outputs": [
    {
     "data": {
      "text/plain": [
       "array([0., 0., 0., ..., 0., 0., 0.])"
      ]
     },
     "execution_count": 248,
     "metadata": {},
     "output_type": "execute_result"
    }
   ],
   "source": [
    "result[0][0][0]"
   ]
  },
  {
   "cell_type": "code",
   "execution_count": 229,
   "metadata": {},
   "outputs": [
    {
     "data": {
      "text/plain": [
       "2.0"
      ]
     },
     "execution_count": 229,
     "metadata": {},
     "output_type": "execute_result"
    }
   ],
   "source": [
    "0.02*100"
   ]
  },
  {
   "cell_type": "code",
   "execution_count": 230,
   "metadata": {},
   "outputs": [
    {
     "data": {
      "text/plain": [
       "array([[ 0.54620683,  0.5153535 , -0.04685309, ...,  0.3182276 ,\n",
       "        -0.8302996 , -0.92567354],\n",
       "       [-0.07498167, -0.55990505,  0.17159592, ...,  0.23590067,\n",
       "         0.16577472,  0.36135143],\n",
       "       [-0.83428764, -0.64878124, -0.98405266, ...,  0.918195  ,\n",
       "         0.5320915 , -0.11204332]], dtype=float32)"
      ]
     },
     "execution_count": 230,
     "metadata": {},
     "output_type": "execute_result"
    }
   ],
   "source": [
    "v"
   ]
  },
  {
   "cell_type": "code",
   "execution_count": 297,
   "metadata": {
    "scrolled": true
   },
   "outputs": [
    {
     "data": {
      "text/plain": [
       "array([[0.  , 0.  , 0.  , ..., 0.  , 0.  , 0.  ],\n",
       "       [0.  , 0.  , 0.  , ..., 0.  , 0.  , 0.  ],\n",
       "       [0.02, 0.02, 0.02, ..., 0.02, 0.02, 0.02]])"
      ]
     },
     "execution_count": 297,
     "metadata": {},
     "output_type": "execute_result"
    }
   ],
   "source": [
    "pp,vv,ww = result\n",
    "pp"
   ]
  },
  {
   "cell_type": "code",
   "execution_count": 232,
   "metadata": {
    "scrolled": true
   },
   "outputs": [
    {
     "data": {
      "text/plain": [
       "array([[[0., 0., 0., ..., 0., 0., 0.]],\n",
       "\n",
       "       [[0., 0., 0., ..., 0., 0., 0.]],\n",
       "\n",
       "       [[1., 1., 1., ..., 1., 1., 1.]]], dtype=float32)"
      ]
     },
     "execution_count": 232,
     "metadata": {},
     "output_type": "execute_result"
    }
   ],
   "source": [
    "vv"
   ]
  },
  {
   "cell_type": "code",
   "execution_count": 298,
   "metadata": {},
   "outputs": [
    {
     "data": {
      "text/plain": [
       "array([[2.  , 0.  , 0.  , ..., 0.  , 0.  , 0.  ],\n",
       "       [ inf, 0.  , 0.  , ..., 0.  , 0.  , 0.  ],\n",
       "       [0.  , 0.02, 0.02, ..., 0.02, 0.02, 0.02]])"
      ]
     },
     "execution_count": 298,
     "metadata": {},
     "output_type": "execute_result"
    }
   ],
   "source": [
    "p_result = np.empty((3,1)).astype(f_bit)\n",
    "p_result = np.concatenate([p_result, result[0]],axis = 1)\n",
    "p_result"
   ]
  },
  {
   "cell_type": "code",
   "execution_count": 234,
   "metadata": {},
   "outputs": [
    {
     "data": {
      "text/plain": [
       "(6692,)"
      ]
     },
     "execution_count": 234,
     "metadata": {},
     "output_type": "execute_result"
    }
   ],
   "source": [
    "        v_result = np.empty((3,1)).astype(f_bit)\n",
    "        p_result = np.empty((3,1)).astype(f_bit)\n",
    "        w_result = np.empty(1).astype(f_bit)\n",
    "        count = 0\n",
    "        counter = 2\n",
    "\n",
    "        # Let's MonteCalro!\n",
    "        while(v != []):\n",
    "            p,v,w,result = self.stepMovement(p,v,w,f_bit)\n",
    "            if result[0][0].tolist() != []:\n",
    "                v_result = np.concatenate([v_result, result[0]],axis = 1)\n",
    "                p_result = np.concatenate([p_result, result[1]],axis = 1)\n",
    "                w_result = np.concatenate([w_result, result[2]])"
   ]
  },
  {
   "cell_type": "code",
   "execution_count": null,
   "metadata": {},
   "outputs": [],
   "source": [
    "\n",
    "\n",
    "def saveFile(v,p,add,w,fname = \"test.csv\"):\n",
    "    ## 結果保存用の関数です。\n",
    "    ## 計算結果は、csv形式で保存されます。\n",
    "    ## x,y,ux,uy,uz,wの順で保存されます。\n",
    "    \n",
    "    start_ = time.time()\n",
    "    hnit = ((add[0:2]-ConstPixelDims[0]/2)*ConstPixelSpacing[0]+ConstPixelSpacing[0]/2+p[0:2]).astype(\"float32\")\n",
    "    list_sample = np.array([hnit[0],hnit[1],v[0],v[1],v[2],w]).T\n",
    "    f = open(fname,'w')\n",
    "    try:\n",
    "        for i in range(len(list_sample)):\n",
    "            for j in range (len(list_sample[i])-1):\n",
    "                sub_list = round(list_sample[i][j],6)\n",
    "                f.write(str(sub_list))\n",
    "                f.write(',')\n",
    "            sub_list = round(list_sample[i][len(list_sample[i])-1],6)\n",
    "            f.write(str(sub_list))\n",
    "            f.write('\\n')\n",
    "            if list_sample[i][4] == 0:\n",
    "                break\n",
    "        time.sleep(1.0)\n",
    "    finally:\n",
    "        f.close\n",
    "    fig = plt.figure(figsize=(10,6),dpi=200)\n",
    "    ax = fig.add_subplot(111)\n",
    "    ax.set_aspect('equal')\n",
    "    y = hnit[1]\n",
    "    x = hnit[0]\n",
    "    H = ax.hist2d(x,y, bins=2**10,cmap=\"plasma\",norm=matplotlib.colors.LogNorm())\n",
    "    ax.set_title('hist map')\n",
    "    ax.set_xlabel('X [mm]')\n",
    "    ax.set_ylabel('Y [mm]')\n",
    "    fig.colorbar(H[3],ax=ax)\n",
    "    plt.show()\n",
    "    calTime(time.time(), start_)\n",
    "    print(\"File name: %s\"%fname)\n",
    "    \n",
    "\n",
    "def gaussianBeam(nPh,w=0.54):\n",
    "    #TEM00のビームを生成します\n",
    "    r = np.linspace(-w*2,w*2,100)\n",
    "    #Ir = 2*np.exp(-2*r**2/(w**2))/(np.pi*(w**2))\n",
    "    Ir = np.exp(-2*r**2/(w**2))\n",
    "    normd = stats.norm(0, w/2)\n",
    "    x = normd.rvs(nPh)\n",
    "    y = normd.rvs(nPh)\n",
    "    z = np.zeros(nPh)\n",
    "\n",
    "    fig, ax1 = plt.subplots()\n",
    "    ax1.set_title('Input laser light distribution')\n",
    "    ax1.hist(x, bins=100, color=\"C0\")\n",
    "    ax1.set_ylabel('Number of photon')\n",
    "    ax2 = ax1.twinx()\n",
    "    ax2.plot(r, Ir, color=\"k\")\n",
    "    ax2.set_xlabel('X [mm]')\n",
    "    ax2.set_ylabel('Probability density')\n",
    "    plt.show()\n",
    "\n",
    "    fig = plt.figure(figsize=(10,6),dpi=70)\n",
    "    ax = fig.add_subplot(111)\n",
    "    ax.set_aspect('equal')\n",
    "    H = ax.hist2d(x,y, bins=100,cmap=\"plasma\")\n",
    "    ax.set_title('Histogram for laser light intensity')\n",
    "    ax.set_xlabel('X [mm]')\n",
    "    ax.set_ylabel('Y [mm]')\n",
    "    fig.colorbar(H[3],ax=ax)\n",
    "    plt.show()\n",
    "    return x,y\n",
    "\n"
   ]
  }
 ],
 "metadata": {
  "kernelspec": {
   "display_name": "Python 3",
   "language": "python",
   "name": "python3"
  },
  "language_info": {
   "codemirror_mode": {
    "name": "ipython",
    "version": 3
   },
   "file_extension": ".py",
   "mimetype": "text/x-python",
   "name": "python",
   "nbconvert_exporter": "python",
   "pygments_lexer": "ipython3",
   "version": "3.7.6"
  },
  "toc": {
   "base_numbering": 1,
   "nav_menu": {},
   "number_sections": true,
   "sideBar": true,
   "skip_h1_title": false,
   "title_cell": "Table of Contents",
   "title_sidebar": "Contents",
   "toc_cell": false,
   "toc_position": {},
   "toc_section_display": true,
   "toc_window_display": false
  }
 },
 "nbformat": 4,
 "nbformat_minor": 4
}
