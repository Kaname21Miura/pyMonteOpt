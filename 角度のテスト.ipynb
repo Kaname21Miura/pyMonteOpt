{
 "cells": [
  {
   "cell_type": "markdown",
   "metadata": {},
   "source": [
    "### フルネルの式 0.01°"
   ]
  },
  {
   "cell_type": "code",
   "execution_count": 1,
   "metadata": {},
   "outputs": [
    {
     "data": {
      "text/plain": [
       "0.027777777777777755"
      ]
     },
     "execution_count": 1,
     "metadata": {},
     "output_type": "execute_result"
    }
   ],
   "source": [
    "import numpy as np\n",
    "ni = 1\n",
    "nt = 1.4\n",
    "ai = 0.01/180\n",
    "at = np.arcsin(np.sin(ai)*ni/nt)\n",
    "Rfres = ((np.sin(ai-at)/np.sin(ai+at))**2+(np.tan(ai-at)/np.tan(ai+at))**2)/2\n",
    "Rfres"
   ]
  },
  {
   "cell_type": "markdown",
   "metadata": {},
   "source": [
    "### Wang の photon weight 初期条件"
   ]
  },
  {
   "cell_type": "code",
   "execution_count": 2,
   "metadata": {},
   "outputs": [
    {
     "data": {
      "text/plain": [
       "0.027777777777777766"
      ]
     },
     "execution_count": 2,
     "metadata": {},
     "output_type": "execute_result"
    }
   ],
   "source": [
    "Rsp = ((ni-nt)/(ni+nt))**2\n",
    "Rsp"
   ]
  },
  {
   "cell_type": "markdown",
   "metadata": {},
   "source": [
    "### 透過判別でどれだけ減るか"
   ]
  },
  {
   "cell_type": "code",
   "execution_count": 3,
   "metadata": {},
   "outputs": [
    {
     "data": {
      "text/plain": [
       "0.0276518"
      ]
     },
     "execution_count": 3,
     "metadata": {},
     "output_type": "execute_result"
    }
   ],
   "source": [
    "np.count_nonzero(Rfres>=np.random.rand(int(1e7)))/1e7"
   ]
  },
  {
   "cell_type": "markdown",
   "metadata": {},
   "source": [
    "### フルネルの式 30°"
   ]
  },
  {
   "cell_type": "code",
   "execution_count": 4,
   "metadata": {},
   "outputs": [
    {
     "data": {
      "text/plain": [
       "0.02778833340245436"
      ]
     },
     "execution_count": 4,
     "metadata": {},
     "output_type": "execute_result"
    }
   ],
   "source": [
    "ai = 30/180\n",
    "at = np.arcsin(np.sin(ai)*ni/nt)\n",
    "Rfres = ((np.sin(ai-at)/np.sin(ai+at))**2+(np.tan(ai-at)/np.tan(ai+at))**2)/2\n",
    "Rfres"
   ]
  },
  {
   "cell_type": "markdown",
   "metadata": {},
   "source": [
    "# コードのチェック"
   ]
  },
  {
   "cell_type": "code",
   "execution_count": 1,
   "metadata": {},
   "outputs": [],
   "source": [
    "from pymopt.voxel import VoxelPlateModel\n",
    "\n",
    "from scipy import stats\n",
    "import numpy as np\n",
    "import pandas as pa\n",
    "import time\n",
    "\n",
    "import matplotlib.pyplot as plt\n",
    "import seaborn as sns\n",
    "sns.set_style(\"ticks\", {'grid.linestyle': '--'})\n",
    "import warnings\n",
    "warnings.filterwarnings('ignore')"
   ]
  },
  {
   "cell_type": "code",
   "execution_count": 2,
   "metadata": {},
   "outputs": [],
   "source": [
    "def radialDistance(p,w,nn,dr,nPh):\n",
    "    alpha = np.array([(i)*dr for i in range(nn+1)])\n",
    "    da = np.array([2*np.pi*(i+0.5)*dr**2 for i in range(nn)])\n",
    "    r = np.sqrt(p[0]**2+p[1]**2)\n",
    "    Rdr = []\n",
    "    for i in range(nn):\n",
    "        index = np.where((alpha[i]<r)&(alpha[i+1]>=r))[0]\n",
    "        Rdr.append(w[index].sum())\n",
    "    Rdr = np.array(Rdr)/(da*nPh)\n",
    "    return alpha[:-1],Rdr\n",
    "\n",
    "def AngularyResolved(v,w,nn,nPh):\n",
    "    da = np.pi/(2*nn)\n",
    "    alpha = np.array([(i+0.5)*da for i in range(nn+1)])\n",
    "    alpha2 = np.array([(i)*da for i in range(nn+1)])\n",
    "    do = 4*np.pi*np.sin(alpha)*np.sin(da/2)\n",
    "    at = np.arccos(np.sign(v[2])*(v[2]))\n",
    "    Rda = []\n",
    "    for i in range(nn):\n",
    "        index = np.where((alpha2[i]<at)&(alpha2[i+1]>=at))[0]\n",
    "        Rda.append(w[index].sum())\n",
    "    Rda = np.array(Rda)/(do[:-1]*nPh)\n",
    "    return alpha[:-1],Rda"
   ]
  },
  {
   "cell_type": "code",
   "execution_count": 3,
   "metadata": {},
   "outputs": [
    {
     "name": "stdout",
     "output_type": "stream",
     "text": [
      "Memory area size for voxel storage: 1.061 Mbyte\n",
      "\n",
      "###### Start ######\n",
      "\n",
      "Progress: 5.421 [％]\n",
      "Calculation time: 0 minutes 0.624 seconds.\n",
      "\n",
      "Progress: 13.595 [％]\n",
      "Calculation time: 0 minutes 1.274 seconds.\n",
      "\n",
      "Progress: 24.5 [％]\n",
      "Calculation time: 0 minutes 2.370 seconds.\n",
      "\n",
      "Progress: 37.217 [％]\n",
      "Calculation time: 0 minutes 4.190 seconds.\n",
      "\n",
      "Progress: 50.309 [％]\n",
      "Calculation time: 0 minutes 6.973 seconds.\n",
      "\n",
      "Progress: 62.324 [％]\n",
      "Calculation time: 0 minutes 11.401 seconds.\n",
      "\n",
      "Progress: 99.727 [％]\n",
      "Calculation time: 0 minutes 14.178 seconds.\n",
      "\n",
      "\n",
      "###### Finish ######\n",
      "Maximum step number: 219\n",
      "######\n",
      "Mean Rd 0.220924\n",
      "Mean Tt 0.000000\n",
      "\n",
      "Calculation time: 0 minutes 14.381 seconds.\n",
      "14.396759748458862 sec\n"
     ]
    }
   ],
   "source": [
    "nPh = 500000\n",
    "params = {\n",
    "    'thickness':[10],\n",
    "    'ms':[90],\n",
    "    'ma':[10],\n",
    "    'g':[0.],\n",
    "    'n':[1.5],\n",
    "    'n_air':1.,\n",
    "    'xy_size':[10,10],\n",
    "    'voxel_space':0.1,\n",
    "}\n",
    "\n",
    "model = VoxelPlateModel(\n",
    "    nPh = nPh,\n",
    "    beam_angle = 30/180,\n",
    "    initial_refrect_by_angle = False\n",
    ")\n",
    "\n",
    "model.build(**params)\n",
    "start = time.time()\n",
    "model = model.start()\n",
    "print('%s sec'%(time.time()-start))\n",
    "\n",
    "rez = model.get_result()\n",
    "p_result = rez[\"p\"]\n",
    "v_result = rez[\"v\"]\n",
    "w_result = rez[\"w\"]\n",
    "\n",
    "Tt_index = np.where(v_result[2]>0)[0]\n",
    "Rd_index = np.where(v_result[2]<0)[0]"
   ]
  },
  {
   "cell_type": "code",
   "execution_count": 4,
   "metadata": {},
   "outputs": [
    {
     "name": "stdout",
     "output_type": "stream",
     "text": [
      "Memory area size for voxel storage: 1.061 Mbyte\n",
      "\n",
      "###### Start ######\n",
      "\n",
      "Progress: 9.229 [％]\n",
      "Calculation time: 0 minutes 0.567 seconds.\n",
      "\n",
      "Progress: 17.034 [％]\n",
      "Calculation time: 0 minutes 1.130 seconds.\n",
      "\n",
      "Progress: 27.498 [％]\n",
      "Calculation time: 0 minutes 2.098 seconds.\n",
      "\n",
      "Progress: 39.604 [％]\n",
      "Calculation time: 0 minutes 3.961 seconds.\n",
      "\n",
      "Progress: 52.235 [％]\n",
      "Calculation time: 0 minutes 6.772 seconds.\n",
      "\n",
      "Progress: 63.738 [％]\n",
      "Calculation time: 0 minutes 10.667 seconds.\n",
      "\n",
      "Progress: 99.739 [％]\n",
      "Calculation time: 0 minutes 13.625 seconds.\n",
      "\n",
      "\n",
      "###### Finish ######\n",
      "Maximum step number: 197\n",
      "######\n",
      "Mean Rd 0.260629\n",
      "Mean Tt 0.000000\n",
      "\n",
      "Calculation time: 0 minutes 13.739 seconds.\n",
      "13.789403200149536 sec\n"
     ]
    }
   ],
   "source": [
    "nPh = 500000\n",
    "params = {\n",
    "    'thickness':[10],\n",
    "    'ms':[90],\n",
    "    'ma':[10],\n",
    "    'g':[0.],\n",
    "    'n':[1.5],\n",
    "    'n_air':1.,\n",
    "    'xy_size':[10,10],\n",
    "    'voxel_space':0.1,\n",
    "}\n",
    "\n",
    "model = VoxelPlateModel(\n",
    "    nPh = nPh,\n",
    "    beam_angle = 30/180,\n",
    "    initial_refrect_by_angle = True\n",
    ")\n",
    "\n",
    "model.build(**params)\n",
    "start = time.time()\n",
    "model = model.start()\n",
    "print('%s sec'%(time.time()-start))\n",
    "\n",
    "rez2 = model.get_result()\n",
    "p_result2 = rez2[\"p\"]\n",
    "v_result2 = rez2[\"v\"]\n",
    "w_result2 = rez2[\"w\"]\n",
    "\n",
    "Tt_index2 = np.where(v_result2[2]>0)[0]\n",
    "Rd_index2 = np.where(v_result2[2]<0)[0]"
   ]
  },
  {
   "cell_type": "code",
   "execution_count": 5,
   "metadata": {},
   "outputs": [
    {
     "name": "stdout",
     "output_type": "stream",
     "text": [
      "Memory area size for voxel storage: 1.061 Mbyte\n",
      "\n",
      "###### Start ######\n",
      "\n",
      "Progress: 5.359 [％]\n",
      "Calculation time: 0 minutes 0.615 seconds.\n",
      "\n",
      "Progress: 13.509 [％]\n",
      "Calculation time: 0 minutes 1.273 seconds.\n",
      "\n",
      "Progress: 24.346 [％]\n",
      "Calculation time: 0 minutes 2.394 seconds.\n",
      "\n",
      "Progress: 37.153 [％]\n",
      "Calculation time: 0 minutes 4.246 seconds.\n",
      "\n",
      "Progress: 50.085 [％]\n",
      "Calculation time: 0 minutes 7.144 seconds.\n",
      "\n",
      "Progress: 62.18 [％]\n",
      "Calculation time: 0 minutes 11.704 seconds.\n",
      "\n",
      "Progress: 99.73 [％]\n",
      "Calculation time: 0 minutes 14.920 seconds.\n",
      "\n",
      "\n",
      "###### Finish ######\n",
      "Maximum step number: 175\n",
      "######\n",
      "Mean Rd 0.219889\n",
      "Mean Tt 0.000000\n",
      "\n",
      "Calculation time: 0 minutes 15.058 seconds.\n",
      "15.077224016189575 sec\n"
     ]
    }
   ],
   "source": [
    "nPh = 500000\n",
    "params = {\n",
    "    'thickness':[10],\n",
    "    'ms':[90],\n",
    "    'ma':[10],\n",
    "    'g':[0.],\n",
    "    'n':[1.5],\n",
    "    'n_air':1.,\n",
    "    'xy_size':[10,10],\n",
    "    'voxel_space':0.1,\n",
    "}\n",
    "\n",
    "model = VoxelPlateModel(\n",
    "    nPh = nPh,\n",
    "    beam_angle = 0/180,\n",
    "    initial_refrect_by_angle = False\n",
    ")\n",
    "\n",
    "model.build(**params)\n",
    "start = time.time()\n",
    "model = model.start()\n",
    "print('%s sec'%(time.time()-start))\n",
    "\n",
    "rez3 = model.get_result()\n",
    "p_result3 = rez3[\"p\"]\n",
    "v_result3 = rez3[\"v\"]\n",
    "w_result3 = rez3[\"w\"]\n",
    "\n",
    "Tt_index3 = np.where(v_result3[2]>0)[0]\n",
    "Rd_index3 = np.where(v_result3[2]<0)[0]"
   ]
  },
  {
   "cell_type": "code",
   "execution_count": 6,
   "metadata": {},
   "outputs": [
    {
     "name": "stdout",
     "output_type": "stream",
     "text": [
      "Refrected\n"
     ]
    },
    {
     "data": {
      "image/png": "[encoded data removed]",
      "text/plain": [
       "<Figure size 450x360 with 1 Axes>"
      ]
     },
     "metadata": {},
     "output_type": "display_data"
    }
   ],
   "source": [
    "print('Refrected')\n",
    "nn = 50\n",
    "alpha,Rda = AngularyResolved(v_result[:,Rd_index],w_result[Rd_index],nn,nPh)\n",
    "alpha,Rda2 = AngularyResolved(v_result2[:,Rd_index2],w_result2[Rd_index2],nn,nPh)\n",
    "alpha,Rda3 = AngularyResolved(v_result3[:,Rd_index3],w_result3[Rd_index3],nn,nPh)\n",
    "\n",
    "plt.figure(figsize=(5,4),dpi=90)\n",
    "plt.plot(alpha/np.pi,Rda,'s',label = 'Subtract reflectance from the initial photon weight')\n",
    "plt.plot(alpha/np.pi,Rda2,'o',label = 'Invert vector with initial photon weight set to 1')\n",
    "plt.plot(alpha/np.pi,Rda3,'x',label = 'Zero degree incident')\n",
    "plt.xlabel('Exit Angle α [rad/π]')\n",
    "plt.ylabel('Rd(α) [/sr]')\n",
    "plt.legend()\n",
    "plt.yscale('log')\n",
    "#plt.xlim(0,0.5)\n",
    "#plt.ylim(0,0.025)\n",
    "plt.show()"
   ]
  },
  {
   "cell_type": "code",
   "execution_count": 9,
   "metadata": {},
   "outputs": [
    {
     "data": {
      "text/plain": [
       "0.10664873190514193"
      ]
     },
     "execution_count": 9,
     "metadata": {},
     "output_type": "execute_result"
    }
   ],
   "source": [
    "np.arctan(10/93.41)"
   ]
  },
  {
   "cell_type": "code",
   "execution_count": 7,
   "metadata": {},
   "outputs": [
    {
     "data": {
      "image/png": "[encoded data removed]",
      "text/plain": [
       "<Figure size 500x400 with 1 Axes>"
      ]
     },
     "metadata": {},
     "output_type": "display_data"
    }
   ],
   "source": [
    "nn = 30\n",
    "dr = 0.1/nn\n",
    "\n",
    "alphaRd,Rd = radialDistance(p_result[:,Rd_index],w_result[Rd_index],nn,dr,nPh = nPh)\n",
    "alphaRd,Rd2 = radialDistance(p_result2[:,Rd_index2],w_result2[Rd_index2],nn,dr,nPh = nPh)\n",
    "alphaRd,Rd3 = radialDistance(p_result3[:,Rd_index3],w_result3[Rd_index3],nn,dr,nPh = nPh)\n",
    "\n",
    "plt.figure(figsize=(5,4),dpi=100)\n",
    "plt.plot(alphaRd,Rd,'s',label = 'Subtract reflectance from the initial photon weight')\n",
    "plt.plot(alphaRd,Rd2,'o',label = 'Invert vector with initial photon weight set to 1')\n",
    "plt.plot(alphaRd,Rd3,'x',label = 'Zero degree incident')\n",
    "plt.yscale('log')\n",
    "plt.xlabel('r [cm]')\n",
    "plt.ylabel('Rd $[cm^{-2}]$')\n",
    "plt.legend()\n",
    "plt.show()\n"
   ]
  },
  {
   "cell_type": "markdown",
   "metadata": {},
   "source": [
    "# 光学系のテスト"
   ]
  },
  {
   "cell_type": "code",
   "execution_count": 2,
   "metadata": {
    "scrolled": true
   },
   "outputs": [
    {
     "name": "stdout",
     "output_type": "stream",
     "text": [
      "Memory area size for voxel storage: 8.242 Mbyte\n",
      "\n",
      "###### Start ######\n",
      "\n",
      "Progress: 3.189 [％]\n",
      "Calculation time: 0 minutes 5.208 seconds.\n",
      "\n",
      "Progress: 6.835 [％]\n",
      "Calculation time: 0 minutes 11.295 seconds.\n",
      "\n",
      "Progress: 15.054 [％]\n",
      "Calculation time: 0 minutes 24.101 seconds.\n",
      "\n"
     ]
    },
    {
     "ename": "KeyboardInterrupt",
     "evalue": "",
     "output_type": "error",
     "traceback": [
      "\u001b[0;31m---------------------------------------------------------------------------\u001b[0m",
      "\u001b[0;31mKeyboardInterrupt\u001b[0m                         Traceback (most recent call last)",
      "\u001b[0;32m<ipython-input-2-ea4afdcfea32>\u001b[0m in \u001b[0;36m<module>\u001b[0;34m\u001b[0m\n\u001b[1;32m     40\u001b[0m \u001b[0mmodel\u001b[0m\u001b[0;34m.\u001b[0m\u001b[0mbuild\u001b[0m\u001b[0;34m(\u001b[0m\u001b[0;34m**\u001b[0m\u001b[0mparams\u001b[0m\u001b[0;34m)\u001b[0m\u001b[0;34m\u001b[0m\u001b[0;34m\u001b[0m\u001b[0m\n\u001b[1;32m     41\u001b[0m \u001b[0mstart\u001b[0m \u001b[0;34m=\u001b[0m \u001b[0mtime\u001b[0m\u001b[0;34m.\u001b[0m\u001b[0mtime\u001b[0m\u001b[0;34m(\u001b[0m\u001b[0;34m)\u001b[0m\u001b[0;34m\u001b[0m\u001b[0;34m\u001b[0m\u001b[0m\n\u001b[0;32m---> 42\u001b[0;31m \u001b[0mmodel\u001b[0m \u001b[0;34m=\u001b[0m \u001b[0mmodel\u001b[0m\u001b[0;34m.\u001b[0m\u001b[0mstart\u001b[0m\u001b[0;34m(\u001b[0m\u001b[0;34m)\u001b[0m\u001b[0;34m\u001b[0m\u001b[0;34m\u001b[0m\u001b[0m\n\u001b[0m\u001b[1;32m     43\u001b[0m \u001b[0mprint\u001b[0m\u001b[0;34m(\u001b[0m\u001b[0;34m'%s sec'\u001b[0m\u001b[0;34m%\u001b[0m\u001b[0;34m(\u001b[0m\u001b[0mtime\u001b[0m\u001b[0;34m.\u001b[0m\u001b[0mtime\u001b[0m\u001b[0;34m(\u001b[0m\u001b[0;34m)\u001b[0m\u001b[0;34m-\u001b[0m\u001b[0mstart\u001b[0m\u001b[0;34m)\u001b[0m\u001b[0;34m)\u001b[0m\u001b[0;34m\u001b[0m\u001b[0;34m\u001b[0m\u001b[0m\n\u001b[1;32m     44\u001b[0m \u001b[0;34m\u001b[0m\u001b[0m\n",
      "\u001b[0;32m~/Documents/GitHub/pyMonteOpt/pymopt/voxel/_classes.py\u001b[0m in \u001b[0;36mstart\u001b[0;34m(self)\u001b[0m\n\u001b[1;32m    103\u001b[0m         \u001b[0;32mif\u001b[0m \u001b[0mself\u001b[0m\u001b[0;34m.\u001b[0m\u001b[0mgenerate_initial\u001b[0m\u001b[0;34m:\u001b[0m\u001b[0;34m\u001b[0m\u001b[0;34m\u001b[0m\u001b[0m\n\u001b[1;32m    104\u001b[0m             \u001b[0mself\u001b[0m\u001b[0;34m.\u001b[0m\u001b[0m_generate_initial_coodinate\u001b[0m\u001b[0;34m(\u001b[0m\u001b[0mself\u001b[0m\u001b[0;34m.\u001b[0m\u001b[0mnPh\u001b[0m\u001b[0;34m)\u001b[0m\u001b[0;34m\u001b[0m\u001b[0;34m\u001b[0m\u001b[0m\n\u001b[0;32m--> 105\u001b[0;31m         \u001b[0msuper\u001b[0m\u001b[0;34m(\u001b[0m\u001b[0;34m)\u001b[0m\u001b[0;34m.\u001b[0m\u001b[0mstart\u001b[0m\u001b[0;34m(\u001b[0m\u001b[0;34m)\u001b[0m\u001b[0;34m\u001b[0m\u001b[0;34m\u001b[0m\u001b[0m\n\u001b[0m\u001b[1;32m    106\u001b[0m         \u001b[0;32mreturn\u001b[0m \u001b[0mself\u001b[0m\u001b[0;34m\u001b[0m\u001b[0;34m\u001b[0m\u001b[0m\n\u001b[1;32m    107\u001b[0m \u001b[0;34m\u001b[0m\u001b[0m\n",
      "\u001b[0;32m~/Documents/GitHub/pyMonteOpt/pymopt/utils/montecalro.py\u001b[0m in \u001b[0;36mstart\u001b[0;34m(self)\u001b[0m\n\u001b[1;32m     38\u001b[0m         \u001b[0mstart_\u001b[0m \u001b[0;34m=\u001b[0m \u001b[0mtime\u001b[0m\u001b[0;34m.\u001b[0m\u001b[0mtime\u001b[0m\u001b[0;34m(\u001b[0m\u001b[0;34m)\u001b[0m\u001b[0;34m\u001b[0m\u001b[0;34m\u001b[0m\u001b[0m\n\u001b[1;32m     39\u001b[0m \u001b[0;34m\u001b[0m\u001b[0m\n\u001b[0;32m---> 40\u001b[0;31m         \u001b[0mcount\u001b[0m \u001b[0;34m=\u001b[0m \u001b[0mself\u001b[0m\u001b[0;34m.\u001b[0m\u001b[0mmonteCycle\u001b[0m\u001b[0;34m(\u001b[0m\u001b[0mstart_\u001b[0m\u001b[0;34m)\u001b[0m\u001b[0;34m\u001b[0m\u001b[0;34m\u001b[0m\u001b[0m\n\u001b[0m\u001b[1;32m     41\u001b[0m         \u001b[0mself\u001b[0m\u001b[0;34m.\u001b[0m\u001b[0m_end_process\u001b[0m\u001b[0;34m(\u001b[0m\u001b[0;34m)\u001b[0m\u001b[0;34m\u001b[0m\u001b[0;34m\u001b[0m\u001b[0m\n\u001b[1;32m     42\u001b[0m \u001b[0;34m\u001b[0m\u001b[0m\n",
      "\u001b[0;32m~/Documents/GitHub/pyMonteOpt/pymopt/utils/montecalro.py\u001b[0m in \u001b[0;36mmonteCycle\u001b[0;34m(self, start_)\u001b[0m\n\u001b[1;32m     55\u001b[0m         \u001b[0;31m# Let's MonteCalro!\u001b[0m\u001b[0;34m\u001b[0m\u001b[0;34m\u001b[0m\u001b[0;34m\u001b[0m\u001b[0m\n\u001b[1;32m     56\u001b[0m         \u001b[0;32mwhile\u001b[0m \u001b[0mw_size\u001b[0m \u001b[0;34m!=\u001b[0m \u001b[0;36m0\u001b[0m\u001b[0;34m:\u001b[0m\u001b[0;34m\u001b[0m\u001b[0;34m\u001b[0m\u001b[0m\n\u001b[0;32m---> 57\u001b[0;31m             \u001b[0mw_size\u001b[0m \u001b[0;34m=\u001b[0m \u001b[0mself\u001b[0m\u001b[0;34m.\u001b[0m\u001b[0mstepMovement\u001b[0m\u001b[0;34m(\u001b[0m\u001b[0;34m)\u001b[0m\u001b[0;34m\u001b[0m\u001b[0;34m\u001b[0m\u001b[0m\n\u001b[0m\u001b[1;32m     58\u001b[0m             \u001b[0mcount\u001b[0m\u001b[0;34m+=\u001b[0m\u001b[0;36m1\u001b[0m\u001b[0;34m\u001b[0m\u001b[0;34m\u001b[0m\u001b[0m\n\u001b[1;32m     59\u001b[0m             \u001b[0;32mif\u001b[0m \u001b[0mcount\u001b[0m\u001b[0;34m%\u001b[0m\u001b[0mcounter\u001b[0m\u001b[0;34m==\u001b[0m\u001b[0;36m0\u001b[0m\u001b[0;34m:\u001b[0m\u001b[0;34m\u001b[0m\u001b[0;34m\u001b[0m\u001b[0m\n",
      "\u001b[0;32m~/Documents/GitHub/pyMonteOpt/pymopt/voxel/_classes.py\u001b[0m in \u001b[0;36mstepMovement\u001b[0;34m(self)\u001b[0m\n\u001b[1;32m    518\u001b[0m         \u001b[0mself\u001b[0m\u001b[0;34m.\u001b[0m\u001b[0mv\u001b[0m\u001b[0;34m,\u001b[0m\u001b[0mself\u001b[0m\u001b[0;34m.\u001b[0m\u001b[0mp\u001b[0m\u001b[0;34m,\u001b[0m\u001b[0mself\u001b[0m\u001b[0;34m.\u001b[0m\u001b[0madd\u001b[0m\u001b[0;34m,\u001b[0m\u001b[0mindex\u001b[0m \u001b[0;34m=\u001b[0m \u001b[0mself\u001b[0m\u001b[0;34m.\u001b[0m\u001b[0m_boundary_judgment\u001b[0m\u001b[0;34m(\u001b[0m\u001b[0mself\u001b[0m\u001b[0;34m.\u001b[0m\u001b[0mv\u001b[0m\u001b[0;34m,\u001b[0m\u001b[0mself\u001b[0m\u001b[0;34m.\u001b[0m\u001b[0mp\u001b[0m\u001b[0;34m,\u001b[0m\u001b[0mself\u001b[0m\u001b[0;34m.\u001b[0m\u001b[0madd\u001b[0m\u001b[0;34m)\u001b[0m\u001b[0;34m\u001b[0m\u001b[0;34m\u001b[0m\u001b[0m\n\u001b[1;32m    519\u001b[0m \u001b[0;34m\u001b[0m\u001b[0m\n\u001b[0;32m--> 520\u001b[0;31m         \u001b[0mself\u001b[0m\u001b[0;34m.\u001b[0m\u001b[0mp\u001b[0m\u001b[0;34m,\u001b[0m\u001b[0mself\u001b[0m\u001b[0;34m.\u001b[0m\u001b[0mv\u001b[0m\u001b[0;34m,\u001b[0m\u001b[0mself\u001b[0m\u001b[0;34m.\u001b[0m\u001b[0mw\u001b[0m\u001b[0;34m,\u001b[0m\u001b[0mself\u001b[0m\u001b[0;34m.\u001b[0m\u001b[0madd\u001b[0m \u001b[0;34m=\u001b[0m \u001b[0mself\u001b[0m\u001b[0;34m.\u001b[0m\u001b[0m_border_out\u001b[0m\u001b[0;34m(\u001b[0m\u001b[0mself\u001b[0m\u001b[0;34m.\u001b[0m\u001b[0mp\u001b[0m\u001b[0;34m,\u001b[0m\u001b[0mself\u001b[0m\u001b[0;34m.\u001b[0m\u001b[0mv\u001b[0m\u001b[0;34m,\u001b[0m\u001b[0mself\u001b[0m\u001b[0;34m.\u001b[0m\u001b[0mw\u001b[0m\u001b[0;34m,\u001b[0m\u001b[0mself\u001b[0m\u001b[0;34m.\u001b[0m\u001b[0madd\u001b[0m\u001b[0;34m,\u001b[0m\u001b[0mindex\u001b[0m\u001b[0;34m)\u001b[0m\u001b[0;34m\u001b[0m\u001b[0;34m\u001b[0m\u001b[0m\n\u001b[0m\u001b[1;32m    521\u001b[0m \u001b[0;34m\u001b[0m\u001b[0m\n\u001b[1;32m    522\u001b[0m         \u001b[0mG\u001b[0m \u001b[0;34m=\u001b[0m \u001b[0mself\u001b[0m\u001b[0;34m.\u001b[0m\u001b[0mmodel\u001b[0m\u001b[0;34m.\u001b[0m\u001b[0mgetAnisotropyCoeff\u001b[0m\u001b[0;34m(\u001b[0m\u001b[0mself\u001b[0m\u001b[0;34m.\u001b[0m\u001b[0madd\u001b[0m\u001b[0;34m)\u001b[0m\u001b[0;34m\u001b[0m\u001b[0;34m\u001b[0m\u001b[0m\n",
      "\u001b[0;32m~/Documents/GitHub/pyMonteOpt/pymopt/voxel/_classes.py\u001b[0m in \u001b[0;36m_border_out\u001b[0;34m(self, p, v, w, add, index)\u001b[0m\n\u001b[1;32m    399\u001b[0m         \u001b[0mself\u001b[0m\u001b[0;34m.\u001b[0m\u001b[0mw_result\u001b[0m \u001b[0;34m=\u001b[0m \u001b[0mnp\u001b[0m\u001b[0;34m.\u001b[0m\u001b[0mconcatenate\u001b[0m\u001b[0;34m(\u001b[0m\u001b[0;34m[\u001b[0m\u001b[0mself\u001b[0m\u001b[0;34m.\u001b[0m\u001b[0mw_result\u001b[0m\u001b[0;34m,\u001b[0m\u001b[0mw\u001b[0m\u001b[0;34m[\u001b[0m\u001b[0mindex\u001b[0m\u001b[0;34m]\u001b[0m\u001b[0;34m]\u001b[0m\u001b[0;34m)\u001b[0m\u001b[0;34m\u001b[0m\u001b[0;34m\u001b[0m\u001b[0m\n\u001b[1;32m    400\u001b[0m \u001b[0;34m\u001b[0m\u001b[0m\n\u001b[0;32m--> 401\u001b[0;31m         \u001b[0mp\u001b[0m \u001b[0;34m=\u001b[0m \u001b[0mnp\u001b[0m\u001b[0;34m.\u001b[0m\u001b[0mdelete\u001b[0m\u001b[0;34m(\u001b[0m\u001b[0mp\u001b[0m\u001b[0;34m,\u001b[0m\u001b[0mindex\u001b[0m\u001b[0;34m,\u001b[0m \u001b[0maxis\u001b[0m \u001b[0;34m=\u001b[0m \u001b[0;36m1\u001b[0m\u001b[0;34m)\u001b[0m\u001b[0;34m\u001b[0m\u001b[0;34m\u001b[0m\u001b[0m\n\u001b[0m\u001b[1;32m    402\u001b[0m         \u001b[0mv\u001b[0m \u001b[0;34m=\u001b[0m \u001b[0mnp\u001b[0m\u001b[0;34m.\u001b[0m\u001b[0mdelete\u001b[0m\u001b[0;34m(\u001b[0m\u001b[0mv\u001b[0m\u001b[0;34m,\u001b[0m\u001b[0mindex\u001b[0m\u001b[0;34m,\u001b[0m \u001b[0maxis\u001b[0m \u001b[0;34m=\u001b[0m \u001b[0;36m1\u001b[0m\u001b[0;34m)\u001b[0m\u001b[0;34m\u001b[0m\u001b[0;34m\u001b[0m\u001b[0m\n\u001b[1;32m    403\u001b[0m         \u001b[0madd\u001b[0m \u001b[0;34m=\u001b[0m \u001b[0mnp\u001b[0m\u001b[0;34m.\u001b[0m\u001b[0mdelete\u001b[0m\u001b[0;34m(\u001b[0m\u001b[0madd\u001b[0m\u001b[0;34m,\u001b[0m\u001b[0mindex\u001b[0m\u001b[0;34m,\u001b[0m \u001b[0maxis\u001b[0m \u001b[0;34m=\u001b[0m \u001b[0;36m1\u001b[0m\u001b[0;34m)\u001b[0m\u001b[0;34m\u001b[0m\u001b[0;34m\u001b[0m\u001b[0m\n",
      "\u001b[0;32m<__array_function__ internals>\u001b[0m in \u001b[0;36mdelete\u001b[0;34m(*args, **kwargs)\u001b[0m\n",
      "\u001b[0;32m~/opt/anaconda3/lib/python3.8/site-packages/numpy/lib/function_base.py\u001b[0m in \u001b[0;36mdelete\u001b[0;34m(arr, obj, axis)\u001b[0m\n\u001b[1;32m   4390\u001b[0m     \u001b[0;32melse\u001b[0m\u001b[0;34m:\u001b[0m\u001b[0;34m\u001b[0m\u001b[0;34m\u001b[0m\u001b[0m\n\u001b[1;32m   4391\u001b[0m         \u001b[0m_obj\u001b[0m \u001b[0;34m=\u001b[0m \u001b[0mobj\u001b[0m\u001b[0;34m\u001b[0m\u001b[0;34m\u001b[0m\u001b[0m\n\u001b[0;32m-> 4392\u001b[0;31m         \u001b[0mobj\u001b[0m \u001b[0;34m=\u001b[0m \u001b[0mnp\u001b[0m\u001b[0;34m.\u001b[0m\u001b[0masarray\u001b[0m\u001b[0;34m(\u001b[0m\u001b[0mobj\u001b[0m\u001b[0;34m)\u001b[0m\u001b[0;34m\u001b[0m\u001b[0;34m\u001b[0m\u001b[0m\n\u001b[0m\u001b[1;32m   4393\u001b[0m         \u001b[0;32mif\u001b[0m \u001b[0mobj\u001b[0m\u001b[0;34m.\u001b[0m\u001b[0msize\u001b[0m \u001b[0;34m==\u001b[0m \u001b[0;36m0\u001b[0m \u001b[0;32mand\u001b[0m \u001b[0;32mnot\u001b[0m \u001b[0misinstance\u001b[0m\u001b[0;34m(\u001b[0m\u001b[0m_obj\u001b[0m\u001b[0;34m,\u001b[0m \u001b[0mnp\u001b[0m\u001b[0;34m.\u001b[0m\u001b[0mndarray\u001b[0m\u001b[0;34m)\u001b[0m\u001b[0;34m:\u001b[0m\u001b[0;34m\u001b[0m\u001b[0;34m\u001b[0m\u001b[0m\n\u001b[1;32m   4394\u001b[0m             \u001b[0mobj\u001b[0m \u001b[0;34m=\u001b[0m \u001b[0mobj\u001b[0m\u001b[0;34m.\u001b[0m\u001b[0mastype\u001b[0m\u001b[0;34m(\u001b[0m\u001b[0mintp\u001b[0m\u001b[0;34m)\u001b[0m\u001b[0;34m\u001b[0m\u001b[0;34m\u001b[0m\u001b[0m\n",
      "\u001b[0;32m~/opt/anaconda3/lib/python3.8/site-packages/numpy/core/_asarray.py\u001b[0m in \u001b[0;36masarray\u001b[0;34m(a, dtype, order)\u001b[0m\n\u001b[1;32m     81\u001b[0m \u001b[0;34m\u001b[0m\u001b[0m\n\u001b[1;32m     82\u001b[0m     \"\"\"\n\u001b[0;32m---> 83\u001b[0;31m     \u001b[0;32mreturn\u001b[0m \u001b[0marray\u001b[0m\u001b[0;34m(\u001b[0m\u001b[0ma\u001b[0m\u001b[0;34m,\u001b[0m \u001b[0mdtype\u001b[0m\u001b[0;34m,\u001b[0m \u001b[0mcopy\u001b[0m\u001b[0;34m=\u001b[0m\u001b[0;32mFalse\u001b[0m\u001b[0;34m,\u001b[0m \u001b[0morder\u001b[0m\u001b[0;34m=\u001b[0m\u001b[0morder\u001b[0m\u001b[0;34m)\u001b[0m\u001b[0;34m\u001b[0m\u001b[0;34m\u001b[0m\u001b[0m\n\u001b[0m\u001b[1;32m     84\u001b[0m \u001b[0;34m\u001b[0m\u001b[0m\n\u001b[1;32m     85\u001b[0m \u001b[0;34m\u001b[0m\u001b[0m\n",
      "\u001b[0;31mKeyboardInterrupt\u001b[0m: "
     ]
    }
   ],
   "source": [
    "from pymopt.voxel import VoxelPlateModel\n",
    "\n",
    "from scipy import stats\n",
    "import numpy as np\n",
    "import pandas as pa\n",
    "import time\n",
    "\n",
    "import matplotlib.pyplot as plt\n",
    "import seaborn as sns\n",
    "sns.set_style(\"ticks\", {'grid.linestyle': '--'})\n",
    "import warnings\n",
    "warnings.filterwarnings('ignore')\n",
    "\n",
    "lamda = 850\n",
    "intra_p = 0.2\n",
    "ms = 0.016*(lamda*1e-3)**-2.4*1e3*intra_p\n",
    "\n",
    "nPh = 5e6\n",
    "params = {\n",
    "    'thickness':[200],\n",
    "    'ms':[ms],\n",
    "    'ma':[0.0042232],\n",
    "    'g':[0.607],\n",
    "    'n':[1.3276],\n",
    "    'n_air':1.,\n",
    "    'xy_size':[200,200],\n",
    "    'voxel_space':1,\n",
    "}\n",
    "\n",
    "model = VoxelPlateModel(\n",
    "    nPh = nPh,\n",
    "    beam_angle = 'lens_f',\n",
    "    wavelength = lamda,\n",
    "    beam_posision = 10,\n",
    "    lens_curvature_radius = 51.68,\n",
    "    grass_type = 'N-BK7',\n",
    "    initial_refrect_by_angle = True,\n",
    ")\n",
    "\n",
    "model.build(**params)\n",
    "start = time.time()\n",
    "model = model.start()\n",
    "print('%s sec'%(time.time()-start))\n",
    "\n",
    "rez3 = model.get_result()\n",
    "p_result3 = rez3[\"p\"]\n",
    "v_result3 = rez3[\"v\"]\n",
    "w_result3 = rez3[\"w\"]\n",
    "\n",
    "Tt_index3 = np.where(v_result3[2]>0)[0]\n",
    "Rd_index3 = np.where(v_result3[2]<0)[0]"
   ]
  },
  {
   "cell_type": "code",
   "execution_count": null,
   "metadata": {},
   "outputs": [],
   "source": [
    "save_path = '../result/210625_anglyint_850nm_nPh5e6_intra'\n",
    "model.save_result(save_path,coment='test')"
   ]
  },
  {
   "cell_type": "code",
   "execution_count": null,
   "metadata": {},
   "outputs": [],
   "source": [
    "model.beam_angle"
   ]
  },
  {
   "cell_type": "code",
   "execution_count": null,
   "metadata": {},
   "outputs": [],
   "source": [
    "from pymopt.optics import SideOBD\n",
    "\n",
    "sobd = SideOBD()\n",
    "sobd.set_monte_data(model.get_result())\n",
    "#obd.load_file(save_path)\n",
    "opt_params ={\n",
    "    'start':-2.04,'end':62.96,'split':0.25,'wavelength':800,\n",
    "    'outerD_1':50,'efl_1':100,'bfl_1':93.41,\n",
    "    'ct_1':10,'et_1':3.553,'r_1':51.68,\n",
    "    'substrate_1':'N-BK7',\n",
    "    'outerD_2' : 50,'efl_2' : 50,'bfl_2' : 43.28,\n",
    "    'ct_2':12,'et_2':3.01,'r_2':39.24,\n",
    "    'substrate_2':'N-SF11',\n",
    "    'slit_outerD':50,'slit_D':20,'slit_width':2,'slit_thickness':5,\n",
    "    'd_pd':3,\n",
    "    #'distance_2slits':37,'pd_poit_correction':0,\n",
    "}\n",
    "sobd.set_params(opt_params)\n",
    "sobd.start()\n",
    "res = sobd.get_result()"
   ]
  },
  {
   "cell_type": "code",
   "execution_count": null,
   "metadata": {},
   "outputs": [],
   "source": [
    "plt.plot(res.Z,res[\"log(int)\"])\n",
    "plt.show()"
   ]
  },
  {
   "cell_type": "code",
   "execution_count": null,
   "metadata": {},
   "outputs": [],
   "source": [
    "plt.plot(res.Z,res[\"int\"])\n",
    "plt.show()"
   ]
  },
  {
   "cell_type": "code",
   "execution_count": null,
   "metadata": {},
   "outputs": [],
   "source": []
  }
 ],
 "metadata": {
  "kernelspec": {
   "display_name": "Python 3",
   "language": "python",
   "name": "python3"
  },
  "language_info": {
   "codemirror_mode": {
    "name": "ipython",
    "version": 3
   },
   "file_extension": ".py",
   "mimetype": "text/x-python",
   "name": "python",
   "nbconvert_exporter": "python",
   "pygments_lexer": "ipython3",
   "version": "3.8.5"
  }
 },
 "nbformat": 4,
 "nbformat_minor": 4
}
