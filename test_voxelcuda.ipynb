{
 "cells": [
  {
   "cell_type": "code",
   "execution_count": 1,
   "id": "cb3e70eb",
   "metadata": {},
   "outputs": [],
   "source": [
    "from pymopt.voxelcuda import VoxelPlateModel\n",
    "\n",
    "from scipy import stats\n",
    "import numpy as np\n",
    "import pandas as pa\n",
    "import time\n",
    "\n",
    "import matplotlib.pyplot as plt\n",
    "import seaborn as sns\n",
    "sns.set_style(\"ticks\", {'grid.linestyle': '--'})\n",
    "import warnings\n",
    "warnings.filterwarnings('ignore')"
   ]
  },
  {
   "cell_type": "code",
   "execution_count": 2,
   "id": "3ce0a455",
   "metadata": {},
   "outputs": [],
   "source": [
    "def radialDistance(p,w,nn,dr):\n",
    "    alpha = np.array([(i)*dr for i in range(nn+1)])\n",
    "    da = np.array([2*np.pi*(i+0.5)*dr**2 for i in range(nn)])\n",
    "    r = np.sqrt(p[0]**2+p[1]**2)\n",
    "    Rdr = []\n",
    "    for i in range(nn):\n",
    "        index = np.where((alpha[i]<r)&(alpha[i+1]>=r))[0]\n",
    "        Rdr.append(w[index].sum())\n",
    "    Rdr = np.array(Rdr)/(da*nPh)\n",
    "    return alpha[:-1],Rdr\n",
    "\n",
    "def AngularyResolved(v,w,nn):\n",
    "    da = np.pi/(2*nn)\n",
    "    alpha = np.array([(i+0.5)*da for i in range(nn+1)])\n",
    "    alpha2 = np.array([(i)*da for i in range(nn+1)])\n",
    "    do = 4*np.pi*np.sin(alpha)*np.sin(da/2)\n",
    "    at = np.arccos(np.sign(v[2])*(v[2]))\n",
    "    Rda = []\n",
    "    for i in range(nn):\n",
    "        index = np.where((alpha2[i]<at)&(alpha2[i+1]>=at))[0]\n",
    "        Rda.append(w[index].sum())\n",
    "    Rda = np.array(Rda)/(do[:-1]*nPh)\n",
    "    return alpha[:-1],Rda"
   ]
  },
  {
   "cell_type": "markdown",
   "id": "804264dc",
   "metadata": {},
   "source": [
    "# Computation Results of single-solidmodel and mcml"
   ]
  },
  {
   "cell_type": "markdown",
   "id": "7b2b3efd",
   "metadata": {},
   "source": [
    "## Total diffuse reflectance and total transmittance"
   ]
  },
  {
   "cell_type": "markdown",
   "id": "58d19cab",
   "metadata": {},
   "source": [
    "### slab of turbid medium"
   ]
  },
  {
   "cell_type": "code",
   "execution_count": 16,
   "id": "a46b064a",
   "metadata": {
    "scrolled": true
   },
   "outputs": [
    {
     "name": "stdout",
     "output_type": "stream",
     "text": [
      "Memory area size for voxel storage: 1.008 Mbyte\n",
      "\n",
      "###### Start ######\n",
      "\n",
      "\n",
      "###### End ######\n",
      "######\n",
      "Mean Rd 0.096539\n",
      "Mean Td 0.666651\n",
      "\n",
      "Calculation time: 0 minutes 0.006 seconds.\n",
      "Memory area size for voxel storage: 1.008 Mbyte\n",
      "\n",
      "###### Start ######\n",
      "\n",
      "\n",
      "###### End ######\n",
      "######\n",
      "Mean Rd 0.095231\n",
      "Mean Td 0.664575\n",
      "\n",
      "Calculation time: 0 minutes 0.006 seconds.\n",
      "Memory area size for voxel storage: 1.008 Mbyte\n",
      "\n",
      "###### Start ######\n",
      "\n",
      "\n",
      "###### End ######\n",
      "######\n",
      "Mean Rd 0.100886\n",
      "Mean Td 0.658882\n",
      "\n",
      "Calculation time: 0 minutes 0.007 seconds.\n",
      "Memory area size for voxel storage: 1.008 Mbyte\n",
      "\n",
      "###### Start ######\n",
      "\n",
      "\n",
      "###### End ######\n",
      "######\n",
      "Mean Rd 0.104925\n",
      "Mean Td 0.649938\n",
      "\n",
      "Calculation time: 0 minutes 0.006 seconds.\n",
      "Memory area size for voxel storage: 1.008 Mbyte\n",
      "\n",
      "###### Start ######\n",
      "\n",
      "\n",
      "###### End ######\n",
      "######\n",
      "Mean Rd 0.092784\n",
      "Mean Td 0.664579\n",
      "\n",
      "Calculation time: 0 minutes 0.006 seconds.\n",
      "Memory area size for voxel storage: 1.008 Mbyte\n",
      "\n",
      "###### Start ######\n",
      "\n",
      "\n",
      "###### End ######\n",
      "######\n",
      "Mean Rd 0.099937\n",
      "Mean Td 0.655076\n",
      "\n",
      "Calculation time: 0 minutes 0.006 seconds.\n",
      "Memory area size for voxel storage: 1.008 Mbyte\n",
      "\n",
      "###### Start ######\n",
      "\n",
      "\n",
      "###### End ######\n",
      "######\n",
      "Mean Rd 0.095569\n",
      "Mean Td 0.662297\n",
      "\n",
      "Calculation time: 0 minutes 0.006 seconds.\n",
      "Memory area size for voxel storage: 1.008 Mbyte\n",
      "\n",
      "###### Start ######\n",
      "\n",
      "\n",
      "###### End ######\n",
      "######\n",
      "Mean Rd 0.095695\n",
      "Mean Td 0.661516\n",
      "\n",
      "Calculation time: 0 minutes 0.006 seconds.\n",
      "Memory area size for voxel storage: 1.008 Mbyte\n",
      "\n",
      "###### Start ######\n",
      "\n",
      "\n",
      "###### End ######\n",
      "######\n",
      "Mean Rd 0.092813\n",
      "Mean Td 0.668746\n",
      "\n",
      "Calculation time: 0 minutes 0.007 seconds.\n",
      "Memory area size for voxel storage: 1.008 Mbyte\n",
      "\n",
      "###### Start ######\n",
      "\n",
      "\n",
      "###### End ######\n",
      "######\n",
      "Mean Rd 0.095216\n",
      "Mean Td 0.663099\n",
      "\n",
      "Calculation time: 0 minutes 0.005 seconds.\n"
     ]
    }
   ],
   "source": [
    "\n",
    "nPh = 5000\n",
    "params = {\n",
    "    'thickness':[0.02],\n",
    "    'ms':[90],\n",
    "    'ma':[10],\n",
    "    'g':[0.75],\n",
    "    'n':[1.],\n",
    "    'n_air':1.,\n",
    "    'x_size':5,'y_size':5,\n",
    "    'voxel_space':0.01,\n",
    "}\n",
    "\n",
    "n_times = 10\n",
    "\n",
    "Rd=[];Tt=[]\n",
    "for i in range(n_times):\n",
    "    model = VoxelPlateModel(nPh = nPh)\n",
    "    model.build(**params)\n",
    "    model = model.start(i)\n",
    "    RdTt = model.getRdTtValues()\n",
    "    Rd.append(RdTt['Rd'])\n",
    "    Tt.append(RdTt['Tt'])"
   ]
  },
  {
   "cell_type": "code",
   "execution_count": 17,
   "id": "406c7c1a",
   "metadata": {},
   "outputs": [
    {
     "name": "stdout",
     "output_type": "stream",
     "text": [
      "Mean Rd 0.096959, sd_error 0.001149\n",
      "Mean Tt 0.661536, sd_error 0.001682\n"
     ]
    }
   ],
   "source": [
    "print('Mean Rd %0.6f, sd_error %0.6f'%(np.mean(Rd),np.std(Rd)/np.sqrt(len(Rd))))\n",
    "print('Mean Tt %0.6f, sd_error %0.6f'%(np.mean(Tt),np.std(Tt)/np.sqrt(len(Tt))))"
   ]
  },
  {
   "cell_type": "markdown",
   "id": "aaddc60e",
   "metadata": {},
   "source": [
    "### Semi-infinite turbid medium that has mismatched refractive index with the ambient medium"
   ]
  },
  {
   "cell_type": "code",
   "execution_count": 12,
   "id": "7ba3e178",
   "metadata": {},
   "outputs": [
    {
     "name": "stdout",
     "output_type": "stream",
     "text": [
      "Memory area size for voxel storage: 1.061 Mbyte\n",
      "\n",
      "###### Start ######\n",
      "\n",
      "\n",
      "###### End ######\n",
      "######\n",
      "Mean Rd 0.216193\n",
      "Mean Td 0.000000\n",
      "\n",
      "Calculation time: 0 minutes 0.010 seconds.\n",
      "Memory area size for voxel storage: 1.061 Mbyte\n",
      "\n",
      "###### Start ######\n",
      "\n",
      "\n",
      "###### End ######\n",
      "######\n",
      "Mean Rd 0.220656\n",
      "Mean Td 0.000000\n",
      "\n",
      "Calculation time: 0 minutes 0.010 seconds.\n",
      "Memory area size for voxel storage: 1.061 Mbyte\n",
      "\n",
      "###### Start ######\n",
      "\n",
      "\n",
      "###### End ######\n",
      "######\n",
      "Mean Rd 0.221302\n",
      "Mean Td 0.000000\n",
      "\n",
      "Calculation time: 0 minutes 0.010 seconds.\n",
      "Memory area size for voxel storage: 1.061 Mbyte\n",
      "\n",
      "###### Start ######\n",
      "\n",
      "\n",
      "###### End ######\n",
      "######\n",
      "Mean Rd 0.219405\n",
      "Mean Td 0.000000\n",
      "\n",
      "Calculation time: 0 minutes 0.009 seconds.\n",
      "Memory area size for voxel storage: 1.061 Mbyte\n",
      "\n",
      "###### Start ######\n",
      "\n",
      "\n",
      "###### End ######\n",
      "######\n",
      "Mean Rd 0.217548\n",
      "Mean Td 0.000000\n",
      "\n",
      "Calculation time: 0 minutes 0.011 seconds.\n",
      "Memory area size for voxel storage: 1.061 Mbyte\n",
      "\n",
      "###### Start ######\n",
      "\n",
      "\n",
      "###### End ######\n",
      "######\n",
      "Mean Rd 0.223544\n",
      "Mean Td 0.000000\n",
      "\n",
      "Calculation time: 0 minutes 0.010 seconds.\n",
      "Memory area size for voxel storage: 1.061 Mbyte\n",
      "\n",
      "###### Start ######\n",
      "\n",
      "\n",
      "###### End ######\n",
      "######\n",
      "Mean Rd 0.219009\n",
      "Mean Td 0.000000\n",
      "\n",
      "Calculation time: 0 minutes 0.010 seconds.\n",
      "Memory area size for voxel storage: 1.061 Mbyte\n",
      "\n",
      "###### Start ######\n",
      "\n",
      "\n",
      "###### End ######\n",
      "######\n",
      "Mean Rd 0.220057\n",
      "Mean Td 0.000000\n",
      "\n",
      "Calculation time: 0 minutes 0.010 seconds.\n",
      "Memory area size for voxel storage: 1.061 Mbyte\n",
      "\n",
      "###### Start ######\n",
      "\n",
      "\n",
      "###### End ######\n",
      "######\n",
      "Mean Rd 0.214272\n",
      "Mean Td 0.000000\n",
      "\n",
      "Calculation time: 0 minutes 0.010 seconds.\n",
      "Memory area size for voxel storage: 1.061 Mbyte\n",
      "\n",
      "###### Start ######\n",
      "\n",
      "\n",
      "###### End ######\n",
      "######\n",
      "Mean Rd 0.219985\n",
      "Mean Td 0.000000\n",
      "\n",
      "Calculation time: 0 minutes 0.010 seconds.\n"
     ]
    }
   ],
   "source": [
    "nPh = 5000\n",
    "params = {\n",
    "    'thickness':[10],\n",
    "    'ms':[90],\n",
    "    'ma':[10],\n",
    "    'g':[0.],\n",
    "    'n':[1.5],\n",
    "    'n_air':1.,\n",
    "    'x_size':10,'y_size':10,\n",
    "    'voxel_space':0.1,\n",
    "}\n",
    "\n",
    "n_times = 10\n",
    "\n",
    "Rd=[];Tt=[]\n",
    "for i in range(n_times):\n",
    "    model = VoxelPlateModel(nPh = nPh)\n",
    "    model.build(**params)\n",
    "    model = model.start(i)\n",
    "    RdTt = model.getRdTtValues()\n",
    "    Rd.append(RdTt['Rd'])\n",
    "    Tt.append(RdTt['Tt'])"
   ]
  },
  {
   "cell_type": "code",
   "execution_count": 13,
   "id": "47378042",
   "metadata": {},
   "outputs": [
    {
     "name": "stdout",
     "output_type": "stream",
     "text": [
      "Mean Rd 0.219197, sd_error 0.000793\n",
      "Mean Tt 0.000000, sd_error 0.000000\n"
     ]
    }
   ],
   "source": [
    "print('Mean Rd %0.6f, sd_error %0.6f'%(np.mean(Rd),np.std(Rd)/np.sqrt(len(Rd))))\n",
    "print('Mean Tt %0.6f, sd_error %0.6f'%(np.mean(Tt),np.std(Tt)/np.sqrt(len(Tt))))"
   ]
  },
  {
   "cell_type": "markdown",
   "id": "2507d474",
   "metadata": {},
   "source": [
    "## Angularly resolved diffuse reflectance and transmittance"
   ]
  },
  {
   "cell_type": "code",
   "execution_count": 20,
   "id": "4d5daac1",
   "metadata": {},
   "outputs": [
    {
     "name": "stdout",
     "output_type": "stream",
     "text": [
      "Memory area size for voxel storage: 352.352 Mbyte\n",
      "\n",
      "###### Start ######\n",
      "\n",
      "\n",
      "###### End ######\n",
      "######\n",
      "Mean Rd 0.098583\n",
      "Mean Td 0.658905\n",
      "\n",
      "Calculation time: 0 minutes 0.583 seconds.\n"
     ]
    }
   ],
   "source": [
    "nPh = 500000\n",
    "params = {\n",
    "    'thickness':[0.02],\n",
    "    'ms':[90],\n",
    "    'ma':[10],\n",
    "    'g':[0.75],\n",
    "    'n':[1.],\n",
    "    'n_air':1.,\n",
    "    'x_size':4,'y_size':4,\n",
    "    'voxel_space':0.001,\n",
    "}\n",
    "\n",
    "model = VoxelPlateModel(nPh = nPh)\n",
    "model.build(**params)\n",
    "model = model.start()\n",
    "\n",
    "rez = model.get_result()\n",
    "v_result = rez[\"v\"]\n",
    "w_result = rez[\"w\"]\n",
    "Tt_index = np.where(v_result[2]>0)[0]\n",
    "Rd_index = np.where(v_result[2]<0)[0]"
   ]
  },
  {
   "cell_type": "code",
   "execution_count": 21,
   "id": "efea3fce",
   "metadata": {},
   "outputs": [
    {
     "name": "stdout",
     "output_type": "stream",
     "text": [
      "Trancemittance\n"
     ]
    },
    {
     "data": {
      "image/png": "[encoded data removed]",
      "text/plain": [
       "<Figure size 450x360 with 1 Axes>"
      ]
     },
     "metadata": {},
     "output_type": "display_data"
    }
   ],
   "source": [
    "print('Trancemittance')\n",
    "nn = 30\n",
    "alpha,Tta = AngularyResolved(v_result[:,Tt_index],w_result[Tt_index],nn)\n",
    "\n",
    "plt.figure(figsize=(5,4),dpi=90)\n",
    "plt.plot(alpha/np.pi,Tta,'.')\n",
    "plt.xlabel('Exit Angle α [rad/π]')\n",
    "plt.ylabel('Tt(α) [/sr]')\n",
    "plt.xlim(0,0.5)\n",
    "plt.ylim(0,0.8)\n",
    "plt.show()"
   ]
  },
  {
   "cell_type": "code",
   "execution_count": 22,
   "id": "69f42166",
   "metadata": {},
   "outputs": [
    {
     "name": "stdout",
     "output_type": "stream",
     "text": [
      "Refrected\n"
     ]
    },
    {
     "data": {
      "image/png": "[encoded data removed]",
      "text/plain": [
       "<Figure size 450x360 with 1 Axes>"
      ]
     },
     "metadata": {},
     "output_type": "display_data"
    }
   ],
   "source": [
    "print('Refrected')\n",
    "nn = 30\n",
    "alpha,Rda = AngularyResolved(v_result[:,Rd_index],w_result[Rd_index],nn)\n",
    "\n",
    "plt.figure(figsize=(5,4),dpi=90)\n",
    "plt.plot(alpha/np.pi,Rda,'.')\n",
    "plt.xlabel('Exit Angle α [rad/π]')\n",
    "plt.ylabel('Rd(α) [/sr]')\n",
    "#plt.xlim(0,0.5)\n",
    "#plt.ylim(0,0.025)\n",
    "plt.show()"
   ]
  },
  {
   "cell_type": "code",
   "execution_count": null,
   "id": "0478cdd6",
   "metadata": {},
   "outputs": [],
   "source": []
  },
  {
   "cell_type": "code",
   "execution_count": 24,
   "id": "5cf86ef2",
   "metadata": {},
   "outputs": [
    {
     "name": "stdout",
     "output_type": "stream",
     "text": [
      "Memory area size for voxel storage: 8.242 Mbyte\n",
      "\n",
      "###### Start ######\n",
      "\n",
      "\n",
      "###### End ######\n",
      "######\n",
      "Mean Rd 0.746213\n",
      "Mean Td 0.000000\n",
      "\n",
      "Calculation time: 0 minutes 2.090 seconds.\n"
     ]
    }
   ],
   "source": [
    "nPh = 1000000\n",
    "params = {\n",
    "    'thickness':[20],\n",
    "    'ms':[100],\n",
    "    'ma':[0.1],\n",
    "    'g':[0.9],\n",
    "    'n':[1.],\n",
    "    'n_air':1.,\n",
    "    'x_size':20,'y_size':20,\n",
    "    'voxel_space':0.1,\n",
    "}\n",
    "\n",
    "model = VoxelPlateModel(nPh = nPh)\n",
    "model.build(**params)\n",
    "model = model.start()\n",
    "\n",
    "rezA = model.get_result()\n",
    "p_resultA = rezA[\"p\"]\n",
    "v_resultA = rezA[\"v\"]\n",
    "w_resultA = rezA[\"w\"]\n",
    "Tt_indexA = np.where(v_resultA[2]>0)[0]\n",
    "Rd_indexA = np.where(v_resultA[2]<0)[0]"
   ]
  },
  {
   "cell_type": "code",
   "execution_count": 26,
   "id": "2adab23b",
   "metadata": {},
   "outputs": [
    {
     "name": "stdout",
     "output_type": "stream",
     "text": [
      "Memory area size for voxel storage: 8.242 Mbyte\n",
      "\n",
      "###### Start ######\n",
      "\n",
      "\n",
      "###### End ######\n",
      "######\n",
      "Mean Rd 0.753743\n",
      "Mean Td 0.000000\n",
      "\n",
      "Calculation time: 0 minutes 0.630 seconds.\n"
     ]
    }
   ],
   "source": [
    "\n",
    "params = {\n",
    "    'thickness':[20],\n",
    "    'ms':[10],\n",
    "    'ma':[0.1],\n",
    "    'g':[0.],\n",
    "    'n':[1.],\n",
    "    'n_air':1.,\n",
    "    'x_size':20,'y_size':20,\n",
    "    'voxel_space':0.1,\n",
    "}\n",
    "\n",
    "model = VoxelPlateModel(nPh = nPh)\n",
    "model.build(**params)\n",
    "model = model.start()\n",
    "\n",
    "rezB = model.get_result()\n",
    "p_resultB = rezB[\"p\"]\n",
    "v_resultB = rezB[\"v\"]\n",
    "w_resultB = rezB[\"w\"]\n",
    "Tt_indexB = np.where(v_resultB[2]>0)[0]\n",
    "Rd_indexB = np.where(v_resultB[2]<0)[0]"
   ]
  },
  {
   "cell_type": "code",
   "execution_count": 27,
   "id": "8b8b3ff2",
   "metadata": {},
   "outputs": [],
   "source": [
    "nn = 200\n",
    "dr = 0.005\n",
    "\n",
    "\n",
    "alphaA,RdrA = radialDistance(p_resultA[:,Rd_indexA],w_resultA[Rd_indexA],nn,dr)\n",
    "alphaB,RdrB = radialDistance(p_resultB[:,Rd_indexB],w_resultB[Rd_indexB],nn,dr)"
   ]
  },
  {
   "cell_type": "code",
   "execution_count": 28,
   "id": "b7d974a1",
   "metadata": {},
   "outputs": [
    {
     "data": {
      "image/png": "[encoded data removed]",
      "text/plain": [
       "<Figure size 450x360 with 1 Axes>"
      ]
     },
     "metadata": {},
     "output_type": "display_data"
    }
   ],
   "source": [
    "\n",
    "plt.figure(figsize=(5,4),dpi=90)\n",
    "plt.plot(alphaA,RdrA,'-',c = 'red',label = 'A: g = 0.9')\n",
    "plt.plot(alphaB,RdrB,'-',c = 'blue',label = \"B: g = 0.0\")\n",
    "plt.yscale('log')\n",
    "plt.xlim(0,1)\n",
    "plt.legend()\n",
    "plt.xlabel('r [cm]')\n",
    "plt.ylabel('Rd $[cm^{-2}]$')\n",
    "plt.show()"
   ]
  },
  {
   "cell_type": "code",
   "execution_count": 29,
   "id": "bddb8789",
   "metadata": {},
   "outputs": [
    {
     "data": {
      "image/png": "[encoded data removed]",
      "text/plain": [
       "<Figure size 450x360 with 1 Axes>"
      ]
     },
     "metadata": {},
     "output_type": "display_data"
    }
   ],
   "source": [
    "plt.figure(figsize=(5,4),dpi=90)\n",
    "plt.plot(alphaA,(RdrB-RdrA)/RdrA,'-',c = 'red',label = '(B-A) / A')\n",
    "plt.xlim(0,1)\n",
    "plt.ylim(-0.5,2)\n",
    "plt.legend()\n",
    "plt.xlabel('r [cm]')\n",
    "plt.ylabel('Relative Error')\n",
    "plt.show()"
   ]
  },
  {
   "cell_type": "markdown",
   "id": "e88a0e05",
   "metadata": {},
   "source": [
    "# Multi-layered Tissues"
   ]
  },
  {
   "cell_type": "markdown",
   "id": "843f8f34",
   "metadata": {},
   "source": [
    "## Refrective and transmittnace rate"
   ]
  },
  {
   "cell_type": "code",
   "execution_count": 30,
   "id": "8cb44264",
   "metadata": {},
   "outputs": [
    {
     "name": "stdout",
     "output_type": "stream",
     "text": [
      "Memory area size for voxel storage: 6.787 Mbyte\n",
      "\n",
      "###### Start ######\n",
      "\n",
      "\n",
      "###### End ######\n",
      "######\n",
      "Mean Rd 0.238467\n",
      "Mean Td 0.096367\n",
      "\n",
      "Calculation time: 0 minutes 0.560 seconds.\n",
      "0.6167573928833008 sec\n"
     ]
    }
   ],
   "source": [
    "nPh = 1000000\n",
    "params = {\n",
    "    'thickness':[0.1,0.1,0.2],\n",
    "    'ms':[100,10,10],\n",
    "    'ma':[1,1,2],\n",
    "    'g':[0.9,0,0.7],\n",
    "    'n':[1.37,1.37,1.37],\n",
    "    'n_air':1.,\n",
    "    'x_size':4,'y_size':4,\n",
    "    'voxel_space':0.01,\n",
    "}\n",
    "model = VoxelPlateModel(nPh = nPh)\n",
    "model.build(**params)\n",
    "\n",
    "start = time.time()\n",
    "model = model.start()\n",
    "print('%s sec'%(time.time()-start))\n",
    "\n",
    "rez = model.get_result()\n",
    "p_result = rez[\"p\"]\n",
    "v_result = rez[\"v\"]\n",
    "w_result = rez[\"w\"]\n",
    "\n",
    "Tt_index = np.where(v_result[2]>0)[0]\n",
    "Rd_index = np.where(v_result[2]<0)[0]"
   ]
  },
  {
   "cell_type": "code",
   "execution_count": 31,
   "id": "ea550743",
   "metadata": {},
   "outputs": [
    {
     "data": {
      "image/png": "[encoded data removed]",
      "text/plain": [
       "<Figure size 500x400 with 1 Axes>"
      ]
     },
     "metadata": {},
     "output_type": "display_data"
    },
    {
     "data": {
      "image/png": "[encoded data removed]",
      "text/plain": [
       "<Figure size 500x400 with 1 Axes>"
      ]
     },
     "metadata": {},
     "output_type": "display_data"
    }
   ],
   "source": [
    "nn = 100\n",
    "dr = 0.005\n",
    "\n",
    "alphaRd,Rd = radialDistance(p_result[:,Rd_index],w_result[Rd_index],nn,dr)\n",
    "alphaTt,Tt = radialDistance(p_result[:,Tt_index],w_result[Tt_index],nn,dr)\n",
    "\n",
    "plt.figure(figsize=(5,4),dpi=100)\n",
    "plt.plot(alphaRd,Rd,'-',c = 'red')\n",
    "plt.yscale('log')\n",
    "plt.xlim(0,0.5)\n",
    "plt.ylim(10**-2,10**2)\n",
    "plt.xlabel('r [cm]')\n",
    "plt.ylabel('Rd $[cm^{-2}]$')\n",
    "plt.show()\n",
    "\n",
    "plt.figure(figsize=(5,4),dpi=100)\n",
    "plt.plot(alphaTt,Tt,'-',c = 'blue')\n",
    "plt.yscale('log')\n",
    "plt.xlim(0,0.5)\n",
    "plt.ylim(10**-2,1)\n",
    "plt.xlabel('r [cm]')\n",
    "plt.ylabel('Tt $[cm^{-2}]$')\n",
    "plt.show()"
   ]
  },
  {
   "cell_type": "code",
   "execution_count": null,
   "id": "896628bf",
   "metadata": {},
   "outputs": [],
   "source": []
  }
 ],
 "metadata": {
  "kernelspec": {
   "display_name": "Python 3",
   "language": "python",
   "name": "python3"
  },
  "language_info": {
   "codemirror_mode": {
    "name": "ipython",
    "version": 3
   },
   "file_extension": ".py",
   "mimetype": "text/x-python",
   "name": "python",
   "nbconvert_exporter": "python",
   "pygments_lexer": "ipython3",
   "version": "3.8.11"
  }
 },
 "nbformat": 4,
 "nbformat_minor": 5
}
