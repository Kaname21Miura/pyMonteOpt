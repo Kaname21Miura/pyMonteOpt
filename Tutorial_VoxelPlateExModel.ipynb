{
 "cells": [
  {
   "cell_type": "code",
   "execution_count": 1,
   "id": "1604148f",
   "metadata": {},
   "outputs": [],
   "source": [
    "from pymopt.voxel import VoxelPlateExModel\n",
    "\n",
    "import numpy as np\n",
    "import time"
   ]
  },
  {
   "cell_type": "code",
   "execution_count": 2,
   "id": "491dcb3a",
   "metadata": {},
   "outputs": [],
   "source": [
    "folder_path = 'result'\n",
    "coment='intralipid 2%'\n",
    "file_name =  'intralipid_2%_nPh1e3'\n",
    "optsave_path = './opt_result/intralipid_2%'\n",
    "deg = 0\n",
    "lamda = 850\n",
    "intra_p = 0.2\n",
    "\n",
    "nPh = 1e3\n",
    "w_beam = 0\n",
    "\n",
    "save_path = './'+folder_path+'/'+file_name"
   ]
  },
  {
   "cell_type": "code",
   "execution_count": 3,
   "id": "f9cf3cd7",
   "metadata": {},
   "outputs": [
    {
     "name": "stdout",
     "output_type": "stream",
     "text": [
      "n =  1.3276037619281376\n",
      "µs =  4.726553266617733\n",
      "g =  0.6070000000000002\n",
      "µa =  0.0041986\n"
     ]
    }
   ],
   "source": [
    "I_soybean = 1.451\n",
    "I_water = 1.311\n",
    "J = 1.154*1e4\n",
    "K=-1.132*1e9\n",
    "n = I_soybean*intra_p/10+I_water*(1-intra_p/10)+J/lamda**2+K/lamda**4\n",
    "print(\"n = \",n)\n",
    "ms = 0.016*(lamda*1e-3)**-2.4*1e3*intra_p\n",
    "print(\"µs = \",ms)\n",
    "g=1.1-0.58*lamda*1e-3\n",
    "print(\"g = \",g)\n",
    "ma = 0.0041986 #水の吸収https://omlc.org/spectra/water/data/kou93b.txt\n",
    "print(\"µa = \",ma)\n",
    "params = {\n",
    "    'x_size':10,'y_size':20,#X-Yはintralipidの領域を示す\n",
    "    'voxel_space':0.1,\n",
    "    'thickness':[1,10],\n",
    "    'n':[1.5,n],\n",
    "    'n_air':1.,\n",
    "    'ma':[1e-5,ma],\n",
    "    'ms':[1e-5,ms],\n",
    "    'g':[0.9,g],\n",
    "}"
   ]
  },
  {
   "cell_type": "code",
   "execution_count": 4,
   "id": "6b9d45dd",
   "metadata": {
    "scrolled": true
   },
   "outputs": [
    {
     "name": "stdout",
     "output_type": "stream",
     "text": [
      "Memory area size for voxel storage: 3.304 Mbyte\n",
      "\n",
      "###### Start ######\n",
      "\n",
      "Time:  2021-11-25T19:23:03.906066\n",
      "Progress: 1.2 [％]\n",
      "Calculation time: 0 minutes 0.067 seconds.\n",
      "\n",
      "Time:  2021-11-25T19:23:04.059667\n",
      "Progress: 5.4 [％]\n",
      "Calculation time: 0 minutes 0.221 seconds.\n",
      "\n",
      "Time:  2021-11-25T19:23:04.368880\n",
      "Progress: 12.7 [％]\n",
      "Calculation time: 0 minutes 0.531 seconds.\n",
      "\n",
      "Time:  2021-11-25T19:23:05.006119\n",
      "Progress: 25.1 [％]\n",
      "Calculation time: 0 minutes 1.167 seconds.\n",
      "\n",
      "Time:  2021-11-25T19:23:05.588815\n",
      "Progress: 38.1 [％]\n",
      "Calculation time: 0 minutes 1.750 seconds.\n",
      "\n",
      "Time:  2021-11-25T19:23:06.442555\n",
      "Progress: 52.9 [％]\n",
      "Calculation time: 0 minutes 2.604 seconds.\n",
      "\n",
      "Time:  2021-11-25T19:23:07.876357\n",
      "Progress: 68.6 [％]\n",
      "Calculation time: 0 minutes 4.037 seconds.\n",
      "\n",
      "Time:  2021-11-25T19:23:10.667011\n",
      "Progress: 85.4 [％]\n",
      "Calculation time: 0 minutes 6.828 seconds.\n",
      "\n",
      "Time:  2021-11-25T19:23:13.113568\n",
      "Progress: 96.6 [％]\n",
      "Calculation time: 0 minutes 9.275 seconds.\n",
      "\n",
      "Time:  2021-11-25T19:23:14.346531\n",
      "Progress: 99.4 [％]\n",
      "Calculation time: 0 minutes 10.508 seconds.\n",
      "\n",
      "Time:  2021-11-25T19:23:15.578567\n",
      "Progress: 99.9 [％]\n",
      "Calculation time: 0 minutes 11.740 seconds.\n",
      "\n",
      "Time:  2021-11-25T19:23:17.228537\n",
      "Progress: 99.9 [％]\n",
      "Calculation time: 0 minutes 13.390 seconds.\n",
      "\n",
      "Time:  2021-11-25T19:23:20.534785\n",
      "Progress: 99.9 [％]\n",
      "Calculation time: 0 minutes 16.696 seconds.\n",
      "\n",
      "\n",
      "###### Finish ######\n",
      "Maximum step number: 10324\n",
      "######\n",
      "Mean Rd 0.660735\n",
      "Mean Tt 0.205910\n",
      "\n",
      "Calculation time: 0 minutes 18.441 seconds.\n",
      "Monte Carlo results saved in \n",
      "-> ./result/intralipid_2%_nPh1e3_LID.pkl.bz2\n",
      "\n",
      "Calculation conditions are saved in\n",
      "-> ./result/intralipid_2%_nPh1e3_info.json\n",
      "\n",
      "Calculation time: 0 minutes 0.007 seconds.\n"
     ]
    }
   ],
   "source": [
    "\n",
    "model = VoxelPlateExModel(\n",
    "    nPh = nPh,\n",
    "    wavelength = lamda,\n",
    "    first_layer_clear=True\n",
    ")\n",
    "\n",
    "model.build(**params)\n",
    "\n",
    "start = time.time()\n",
    "model = model.start()\n",
    "\n",
    "model.save_result(save_path,coment=coment)\n",
    "rez = model.get_result()"
   ]
  },
  {
   "cell_type": "code",
   "execution_count": null,
   "id": "ba1eecf7",
   "metadata": {},
   "outputs": [],
   "source": []
  }
 ],
 "metadata": {
  "kernelspec": {
   "display_name": "Python 3 (ipykernel)",
   "language": "python",
   "name": "python3"
  },
  "language_info": {
   "codemirror_mode": {
    "name": "ipython",
    "version": 3
   },
   "file_extension": ".py",
   "mimetype": "text/x-python",
   "name": "python",
   "nbconvert_exporter": "python",
   "pygments_lexer": "ipython3",
   "version": "3.8.11"
  }
 },
 "nbformat": 4,
 "nbformat_minor": 5
}
