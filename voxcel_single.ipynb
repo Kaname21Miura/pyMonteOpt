{
 "cells": [
  {
   "cell_type": "code",
   "execution_count": 1,
   "metadata": {},
   "outputs": [],
   "source": [
    "import time\n",
    "#import cupy as cu\n",
    "import numpy as np\n",
    "import pandas as pa\n",
    "import itertools\n",
    "from pymopt.utils import _deprecate_positional_args\n",
    "#import readDICOM as dcm\n",
    "import matplotlib.pyplot as plt\n",
    "import seaborn as sns\n",
    "sns.set_style(\"ticks\", {'grid.linestyle': '--'})\n",
    "from scipy import stats\n",
    "import warnings\n",
    "warnings.filterwarnings('ignore')\n",
    "import os\n",
    "workspace = os.getcwd()\n",
    "def calTime(end, start):\n",
    "    elapsed_time = end - start\n",
    "    q, mod = divmod(elapsed_time, 60)\n",
    "    if q < 60:\n",
    "        print('Calculation time: %d minutes %d seconds.' % (q, mod))\n",
    "    else:\n",
    "        q2, mod2 = divmod(q, 60)\n",
    "        print('Calculation time: %d h %d minutes.' % (q2, mod2))"
   ]
  },
  {
   "cell_type": "code",
   "execution_count": 2,
   "metadata": {},
   "outputs": [],
   "source": [
    "class MonteCalro:\n",
    "    def __init__(self):\n",
    "        self.nPh = 1000\n",
    "        self.f_bit = 'float32'\n",
    "        self.vectorTh = 0.99999\n",
    "        \n",
    "        self.v_result = np.empty((3,1)).astype(self.f_bit)\n",
    "        self.p_result = np.empty((3,1)).astype(self.f_bit)\n",
    "        self.add_result = np.empty((3,1)).astype(self.f_bit)\n",
    "        self.w_result = np.empty(1).astype(self.f_bit)\n",
    "        \n",
    "        self.p = np.empty((3,1)).astype(self.f_bit)\n",
    "        self.v = np.empty((3,1)).astype(self.f_bit)\n",
    "        self.w = np.empty(1).astype(self.f_bit)\n",
    "    \n",
    "    def start(self):\n",
    "        print(\"\")\n",
    "        print(\"###### Start ######\")\n",
    "        print(\"\")\n",
    "        \n",
    "        start_ = time.time()\n",
    "        \n",
    "        count = self.monteCycle(start_)\n",
    "        self.endProcess()\n",
    "\n",
    "        #結果の表示\n",
    "        print(\"\")\n",
    "        print(\"###### Finish ######\")\n",
    "        print(\"Maximum step number: %s\"%count)\n",
    "        self.getRdTtRate()\n",
    "        self.calTime(time.time(), start_)\n",
    "        return self\n",
    "        \n",
    "    def monteCycle(self,start_):\n",
    "        count = 0\n",
    "        counter = 2\n",
    "        w_size = 1\n",
    "        # Let's MonteCalro!\n",
    "        while w_size != 0:\n",
    "            w_size = self.stepMovement()\n",
    "            count+=1\n",
    "            if count%counter==0:\n",
    "                counter*=2\n",
    "                print(\"Progress: %s [％]\"%round((1-w_size/self.nPh)*100,3))\n",
    "                self.calTime(time.time(), start_)\n",
    "                print()\n",
    "        return count\n",
    "        \n",
    "    \n",
    "    def endProcess(self):\n",
    "        pass\n",
    "    \n",
    "    def vectorUpdate(self,v,G):\n",
    "        index = np.where(G==0.0)[0]\n",
    "        cosTh = np.empty_like(G)\n",
    "        if list(index) != []:\n",
    "            rand_ = np.random.rand(G.size).astype(self.f_bit)\n",
    "            cosTh[index] = 2*rand_[index]-1\n",
    "            index = np.where(G!=0)[0]\n",
    "            if list(index) != []:\n",
    "                cosTh[index] = ((1+G[index]**2\\\n",
    "                                 -((1-G[index]**2)/(1-G[index]+2*G[index]*rand_[index]))**2)/(2*G[index]))\n",
    "        else:\n",
    "            cosTh = (1+G**2-((1-G**2)/(1-G+2*G*np.random.rand(G.size).astype(self.f_bit)))**2)/(2*G)\n",
    "        sinTh = np.sqrt(1-cosTh**2)\n",
    "\n",
    "        #cos(fai)とsin(fai)と求める\n",
    "        Fi = 2*np.pi*np.random.rand(G.size).astype(self.f_bit)\n",
    "        cosFi = np.cos(Fi)\n",
    "        sinFi = np.sin(Fi)\n",
    "\n",
    "        #Zが１かそれ以外で分離\n",
    "        th = self.vectorTh\n",
    "        v1_index = np.where(np.abs(v[2])<=th)[0]\n",
    "        v2_index = np.where(np.abs(v[2])>th)[0]\n",
    "\n",
    "        #Z方向ベクトルが0.99999以下\n",
    "        cosTh1 = cosTh[v1_index]; sinTh1 = sinTh[v1_index]\n",
    "        cosFi1 = cosFi[v1_index]; sinFi1 = sinFi[v1_index]\n",
    "        v1 = v[:,v1_index]\n",
    "        B = np.sqrt(1-v1[2]**2)\n",
    "        A = np.array([\n",
    "            sinTh1*(v1[0]*v1[2]*cosFi1-v1[1]*sinFi1)/B,\n",
    "            sinTh1*(v1[1]*v1[2]*cosFi1+v1[0]*sinFi1)/B,\n",
    "            -sinTh1*cosFi1*B,\n",
    "        ])\n",
    "        v[:,v1_index] = A+v1*cosTh1\n",
    "\n",
    "        #Z方向ベクトルが0.99999以上\n",
    "        cosTh2 = cosTh[v2_index]; sinTh2 = sinTh[v2_index]\n",
    "        cosFi2 = cosFi[v2_index]; sinFi2 = sinFi[v2_index]\n",
    "        v[:,v2_index] = np.array([\n",
    "            sinTh2*cosFi2,\n",
    "            sinTh2*sinFi2,\n",
    "            np.sign(v[2,v2_index])*cosTh2,\n",
    "        ],dtype=self.f_bit)\n",
    "\n",
    "        v = v/np.linalg.norm(v,axis=0)\n",
    "        return v\n",
    "\n",
    "    def positionUpdate(self,p,v,L):\n",
    "        return p+v*L\n",
    "\n",
    "    #光子の１ステップにおけるエネルギーの損失を計算\n",
    "    def wUpdate(self,w,ma,mt,rato,p):\n",
    "        dw = w*rato*ma/mt\n",
    "        if self.fluence != False:\n",
    "            self.fluence.saveFluesnce(p,dw)\n",
    "        return w-dw\n",
    "            \n",
    "    def russianRoulette(self,w):\n",
    "        ## 確率的に光子を生き返らせます。\n",
    "        m = 10\n",
    "        ra = np.random.rand(w.size).astype(self.f_bit)\n",
    "        index = np.where(ra>(1/m))[0].tolist()\n",
    "        w[index] = 0\n",
    "        index = np.where(ra<=(1/m))[0].tolist()\n",
    "        w[index] = w[index]*m\n",
    "        return w\n",
    "\n",
    "    #光子の移動距離, uniformly distributed over the interval (0,1)\n",
    "    def stepLength(self,size):\n",
    "        return -np.log(np.random.rand(size)).astype(self.f_bit)\n",
    "    \n",
    "    #任意の位置(indexの行)が１でそれ以外は0の行列を作る\n",
    "    def create01Array(self,index,m=3):\n",
    "        n = index.size\n",
    "        array_0_1 = np.zeros(m*n,dtype = bool)\n",
    "        array_0_1[index+m*np.arange(n)] = 1\n",
    "        return array_0_1.reshape(n,m).T\n",
    "    \n",
    "    @classmethod\n",
    "    def _get_param_names(cls):\n",
    "        \"\"\"Get parameter names for the estimator\"\"\"\n",
    "        # fetch the constructor or the original constructor before\n",
    "        # deprecation wrapping if any\n",
    "        init = getattr(cls.__init__, 'deprecated_original', cls.__init__)\n",
    "        if init is object.__init__:\n",
    "            # No explicit constructor to introspect\n",
    "            return []\n",
    "\n",
    "        # introspect the constructor arguments to find the model parameters\n",
    "        # to represent\n",
    "        init_signature = inspect.signature(init)\n",
    "        # Consider the constructor parameters excluding 'self'\n",
    "        parameters = [p for p in init_signature.parameters.values()\n",
    "                      if p.name != 'self' and p.kind != p.VAR_KEYWORD]\n",
    "        for p in parameters:\n",
    "            if p.kind == p.VAR_POSITIONAL:\n",
    "                raise RuntimeError(\"monte method should always \"\n",
    "                                   \"specify their parameters in the signature\"\n",
    "                                   \" of their __init__ (no varargs).\"\n",
    "                                   \" %s with constructor %s doesn't \"\n",
    "                                   \" follow this convention.\"\n",
    "                                   % (cls, init_signature))\n",
    "        # Extract and sort argument names excluding 'self'\n",
    "        return sorted([p.name for p in parameters])\n",
    "    \n",
    "    def set_params(self,**params):\n",
    "        if not params:\n",
    "            # Simple optimization to gain speed (inspect is slow)\n",
    "            return self\n",
    "        valid_params = self.get_params(deep=True)\n",
    "\n",
    "        nested_params = defaultdict(dict)  # grouped by prefix\n",
    "        for key, value in params.items():\n",
    "            key, delim, sub_key = key.partition('__')\n",
    "            if key not in valid_params:\n",
    "                raise ValueError('Invalid parameter %s for estimator %s. '\n",
    "                                 'Check the list of available parameters '\n",
    "                                 'with `monte.get_params().keys()`.' %\n",
    "                                 (key, self))\n",
    "\n",
    "            if delim:\n",
    "                nested_params[key][sub_key] = value\n",
    "            else:\n",
    "                setattr(self, key, value)\n",
    "                valid_params[key] = value\n",
    "\n",
    "        for key, sub_params in nested_params.items():\n",
    "            valid_params[key].set_params(**sub_params)\n",
    "\n",
    "        return self\n",
    "    \n",
    "    def get_params(self, deep=True):\n",
    "        \n",
    "        out = dict()\n",
    "        for key in self._get_param_names():\n",
    "            try:\n",
    "                value = getattr(self, key)\n",
    "            except AttributeError:\n",
    "                warnings.warn('From version 0.24, get_params will raise an '\n",
    "                              'AttributeError if a parameter cannot be '\n",
    "                              'retrieved as an instance attribute. Previously '\n",
    "                              'it would return None.',\n",
    "                              FutureWarning)\n",
    "                value = None\n",
    "            if deep and hasattr(value, 'get_params'):\n",
    "                deep_items = value.get_params().items()\n",
    "                out.update((key + '__' + k, val) for k, val in deep_items)\n",
    "            out[key] = value\n",
    "        return out\n",
    "    \n",
    "    def calTime(self, end, start):\n",
    "        elapsed_time = end - start\n",
    "        q, mod = divmod(elapsed_time, 60)\n",
    "        if q < 60:\n",
    "            print('Calculation time: %d minutes %d seconds.' % (q, mod))\n",
    "        else:\n",
    "            q2, mod2 = divmod(q, 60)\n",
    "            print('Calculation time: %d h %d minutes.' % (q2, mod2))\n",
    "            \n",
    "    def getRdTtRate(self):\n",
    "        Tt_index = np.where(self.v_result[2]>0)[0]\n",
    "        Rd_index = np.where(self.v_result[2]<0)[0]\n",
    "        print('######')\n",
    "        print('Mean Rd %0.6f'%(self.w_result[Rd_index].sum()/self.nPh))\n",
    "        print('Mean Tt %0.6f'%(self.w_result[Tt_index].sum()/self.nPh))\n",
    "        print()"
   ]
  },
  {
   "cell_type": "code",
   "execution_count": 3,
   "metadata": {},
   "outputs": [],
   "source": [
    "class VoxcelModel:\n",
    "        \n",
    "    def built(self):\n",
    "        pass\n",
    "    def getAbsorptionCoeff(self,add):\n",
    "        x,y,z = add\n",
    "        index = self.voxcel_model[x,y,z]\n",
    "        return self.ma[index]\n",
    "    def getScatteringCoeff(self,add):\n",
    "        x,y,z = add\n",
    "        index = self.voxcel_model[x,y,z]\n",
    "        return self.ms[index]\n",
    "    def getAnisotropyCoeff(self,add):\n",
    "        x,y,z = add\n",
    "        index = self.voxcel_model[x,y,z]\n",
    "        return self.g[index]\n",
    "    def getReflectiveIndex(self,add):\n",
    "        x,y,z = add\n",
    "        index = self.voxcel_model[x,y,z]+1\n",
    "        return self.n[index]\n",
    "    \n",
    "class VoxcelPlateModel(VoxcelModel):\n",
    "        \n",
    "    def built(self,*,thickness,xy_size,space,ma,ms,g,n_list,n_air,f = 'float32'):\n",
    "        #-1はモデルの外側\n",
    "        self.voxcel_space = space\n",
    "        thickness = [0]+thickness\n",
    "        self.xy_size = xy_size\n",
    "        b = 0; b_list = []\n",
    "        for i in  thickness:\n",
    "            b += i\n",
    "            b_list.append(b)\n",
    "        \n",
    "        borderposit = np.array(b_list).astype(f)\n",
    "        nxy_box = np.round(self.xy_size/space).astype(int)\n",
    "        nz_box = np.round(borderposit/space).astype(int)\n",
    "        self.voxcel_model = np.zeros((nxy_box,nxy_box,nz_box[-1]),dtype = 'int8')\n",
    "        for i in range(nz_box.size-1):\n",
    "            self.voxcel_model[:,:,nz_box[i]:nz_box[i+1]] = i\n",
    "        \n",
    "        A = np.ones((nxy_box,nxy_box),dtype='int8')*-1\n",
    "        self.voxcel_model = np.concatenate([self.voxcel_model, np.array([A]).T],2)\n",
    "        self.voxcel_model = np.concatenate([np.array([A]).T,self.voxcel_model],2)\n",
    "        A = np.ones((nxy_box,nz_box[-1]+2),dtype='int8')*-1\n",
    "        self.voxcel_model = np.concatenate([self.voxcel_model, np.array([A])])\n",
    "        self.voxcel_model = np.concatenate([np.array([A]),self.voxcel_model])        \n",
    "        print(\"%d Mbyte\" % (self.voxcel_model.nbytes*1e-6))\n",
    "        \n",
    "        self.n =np.array([n_air]+n_list).astype(f)\n",
    "        self.ms = np.array(ms).astype(f)\n",
    "        self.ma = np.array(ma).astype(f)\n",
    "        self.g = np.array(g).astype(f)\n",
    "        "
   ]
  },
  {
   "cell_type": "code",
   "execution_count": 20,
   "metadata": {},
   "outputs": [],
   "source": [
    "        \n",
    "class VoxcelMonteCalro(MonteCalro):\n",
    "    #@_deprecate_positional_args\n",
    "    def __init__(self,*,nPh,model,fluence = False,f_bit='float32'):\n",
    "        super().__init__()\n",
    "        self.f_bit = f_bit\n",
    "        self.nPh = nPh\n",
    "        self.model = model\n",
    "        self.fluence = fluence\n",
    "        self.generateInisalCoodinate(self.nPh)\n",
    "        \n",
    "    def generateInisalCoodinate(self,nPh,f = 'float32'):\n",
    "        center_add_xy = int(self.model.voxcel_model.shape[0]/2)\n",
    "        self.add =  np.full((3, nPh),center_add_xy).astype(\"int16\")\n",
    "        self.add[2] = 1\n",
    "        self.p = np.zeros((3,nPh)).astype(f)\n",
    "        self.p[2] = -self.model.voxcel_space/2\n",
    "        self.v = np.zeros((3,nPh)).astype(f)\n",
    "        self.v[2] = 1\n",
    "        self.w = np.ones(nPh).astype(f)\n",
    "        self.w = self.initialWeight(self.w)\n",
    "        \n",
    "    def encooder(self):\n",
    "        space = model.voxcel_space\n",
    "        center_add_xy = int(self.model.voxcel_model.shape[0]/2)\n",
    "        \n",
    "        \n",
    "    def initialWeight(self,w):\n",
    "        Rsp = 0\n",
    "        n1 = self.model.n[0]\n",
    "        n2 = self.model.n[1]\n",
    "        if n1 != n2:\n",
    "            Rsp = ((n1-n2)/(n1+n2))**2\n",
    "        return w-Rsp\n",
    "    \n",
    "    @_deprecate_positional_args   \n",
    "    def built(self,**kwargs):\n",
    "        self.model.built(**kwargs)\n",
    "        self.generateInisalCoodinate(self.nPh)\n",
    "    \n",
    "    def photonVanishing(self,p,v,w,add):\n",
    "        #photn waight が0.0001以下\n",
    "        del_index = np.where(w<=0.0001)[0]\n",
    "        if list(del_index) != []:\n",
    "            w[del_index] = self.russianRoulette(w[del_index])\n",
    "            del_index = np.where(w==0)[0]\n",
    "            v = np.delete(v, del_index, axis = 1)\n",
    "            p = np.delete(p, del_index, axis = 1)\n",
    "            w = np.delete(w, del_index)\n",
    "            add = np.delete(add,del_index, axis = 1)\n",
    "        return p,v,w,add\n",
    "    \n",
    "    def borderOut(self,p,v,w,add,index):\n",
    "        self.v_result = np.concatenate([self.v_result, v[:,index]],axis = 1)\n",
    "        self.p_result = np.concatenate([self.p_result, p[:,index]],axis = 1)\n",
    "        self.add_result = np.concatenate([self.add_result, add[:,index]],axis = 1)\n",
    "        self.w_result = np.concatenate([self.w_result,w[index]])\n",
    "\n",
    "        p = np.delete(p,index, axis = 1)\n",
    "        v = np.delete(v,index, axis = 1)\n",
    "        add = np.delete(add,index, axis = 1)\n",
    "        \n",
    "        w = np.delete(w,index)\n",
    "        return p,v,w,add\n",
    "    \n",
    "    def borderAct(self,v,p,add,s,db):\n",
    "        l = self.model.voxcel_space\n",
    "        A = self.create01Array(np.argmin(db,axis=0),m=3)\n",
    "        B = ~A\n",
    "        ni = self.model.getReflectiveIndex(add)\n",
    "        sigAv = A*np.sign(v).astype(\"int16\")\n",
    "        ds = ((l/2-p*np.sign(v))/abs(v)).min(0)\n",
    "        \n",
    "        s -= ds\n",
    "        p = sigAv*l/2+B*(p+v*ds)\n",
    "        nt = self.model.getReflectiveIndex((add+sigAv))\n",
    "        pb_index = np.where(ni!=nt)[0]\n",
    "        pn_index = np.where(ni==nt)[0]\n",
    "        \n",
    "        if list(pb_index) != []:\n",
    "            p[:,pn_index] = -sigAv[:,pn_index]*l/2\n",
    "            add[:,pn_index] += sigAv[:,pn_index]\n",
    "            #透過判別\n",
    "            #入射角の計算\n",
    "            ai = np.abs(A[:,pb_index]*v[:,pb_index])\n",
    "            ai = np.arccos(abs(ai[ai!=0]))\n",
    "            sub_index = np.where((ai>np.arcsin(nt[pb_index]/ni[pb_index])))[0]\n",
    "            \n",
    "            #屈折角の計算\n",
    "            ##(ai,at)=(0,0)の時は透過させ方向ベクトルは変化させない\n",
    "            at = np.arcsin(ni[pb_index]*np.sin(ai)/nt[pb_index])\n",
    "            ind = np.where(ai!=0)[0]\n",
    "            Ra = np.random.rand(ai.size)\n",
    "            Ra[ind] = -((np.sin(ai[ind]-at[ind])/np.sin(ai[ind]+at[ind]))**2\\\n",
    "              +(np.tan(ai[ind]-at[ind])/np.tan(ai[ind]+at[ind]))**2)/2\n",
    "            \n",
    "            #全反射はRaを強制的に0以下にし反射させる\n",
    "            Ra[sub_index] = -1\n",
    "            #透過と反射のindexを取得\n",
    "            vl_index = pb_index[np.where(Ra<=0)[0]]#反射\n",
    "            sub_index = np.where(Ra>0)[0]\n",
    "            vt_index = pb_index[sub_index]#透過\n",
    "            at = at[sub_index]\n",
    "            v[:,vl_index] = B[:,vl_index]*v[:,vl_index]-A[:,vl_index]*v[:,vl_index]\n",
    "            v[:,vt_index] = (ni[vt_index]/nt[vt_index])*B[:,vt_index]*v[:,vt_index]\\\n",
    "            +np.sign(sigAv[:,vt_index])*np.cos(at)\n",
    "            add[:,vt_index] += sigAv[:,vt_index]\n",
    "            p[:,vt_index] = -sigAv[:,vt_index]*l/2\n",
    "        else:\n",
    "            p = -sigAv*l/2\n",
    "            add += sigAv\n",
    "        return v,p,add,s\n",
    "    \n",
    "    def RTInterface(self,v,p,add,s):\n",
    "        box_model = self.model.voxcel_model\n",
    "        l = self.model.voxcel_space\n",
    "        v_,p_,add_,s_ = v,p,add,s\n",
    "        index = np.arange(s.size)\n",
    "        out_index = []\n",
    "        pb_index = [0]\n",
    "        while True:\n",
    "            db = (l/2-p_*np.sign(v_))/np.abs(v_)\n",
    "            ma = self.model.getAbsorptionCoeff(add_)\n",
    "            ms = self.model.getScatteringCoeff(add_)\n",
    "            mt = ma+ms\n",
    "            s_ = s_/mt\n",
    "            pb_index = np.where(s_-db.min(0)>=0)[0]\n",
    "            pn_index = np.delete(np.arange(s_.size),pb_index)\n",
    "            if list(pb_index) != []:\n",
    "                v[:,index[pn_index]] = v_[:,pn_index]\n",
    "                p[:,index[pn_index]] = p_[:,pn_index]\\\n",
    "                +s_[pn_index]*v_[:,pn_index]\n",
    "                add[:,index[pn_index]] = add_[:,pn_index]\n",
    "                index = index[pb_index]\n",
    "                v_,p_,add_,s_ = self.borderAct(v_[:,pb_index],\n",
    "                                               p_[:,pb_index],\n",
    "                                               add_[:,pb_index],\n",
    "                                               s_[pb_index],\n",
    "                                               db[:,pb_index])\n",
    "                s_ = s_*mt[pb_index]\n",
    "                out_index_ = np.where(box_model[add_[0],add_[1],add_[2]] < 0)[0]\n",
    "                \n",
    "                if list(out_index_) != []:\n",
    "                    \n",
    "                    v[:,index[out_index_]] = v_[:,out_index_]\n",
    "                    p[:,index[out_index_]] = p_[:,out_index_]\n",
    "                    add[:,index[out_index_]] = add_[:,out_index_]\n",
    "                    out_index += list(index[out_index_])\n",
    "                    v_ = np.delete(v_,out_index_, axis = 1)\n",
    "                    p_ = np.delete(p_,out_index_, axis = 1)\n",
    "                    add_ = np.delete(add_,out_index_, axis = 1)\n",
    "                    s_ = np.delete(s_,out_index_)\n",
    "            else:\n",
    "                v = v_\n",
    "                p = p_+s_*v_\n",
    "                break\n",
    "        return v,p,add,out_index\n",
    "    \n",
    "    def stepMovement(self):\n",
    "        l = self.model.voxcel_space\n",
    "        \n",
    "        p,v,w = self.p,self.v,self.w\n",
    "        add = self.add\n",
    "        s = np.random.rand(w.size)\n",
    "        v,p,add,index = self.RTInterface(v,p,add,s)\n",
    "        p,v,w,add = self.borderOut(p,v,w,add,index)\n",
    "        G = self.model.getAnisotropyCoeff(add)\n",
    "        v = self.vectorUpdate(v,G)\n",
    "        ma = self.model.getAbsorptionCoeff(add)\n",
    "        ms = self.model.getScatteringCoeff(add)\n",
    "        w = self.wUpdate(w,ma,ma+ms,1,p)\n",
    "        self.p,self.v,self.w,self.add = self.photonVanishing(p,v,w,add)\n",
    "        return self.w.size"
   ]
  },
  {
   "cell_type": "code",
   "execution_count": 21,
   "metadata": {},
   "outputs": [
    {
     "name": "stdout",
     "output_type": "stream",
     "text": [
      "42 Mbyte\n"
     ]
    }
   ],
   "source": [
    "params = {\n",
    "    'thickness':[0.1,0.1,0.2],\n",
    "    'xy_size':10,\n",
    "    'space':0.01,\n",
    "    'ma':[1,1,2],\n",
    "    'ms':[100,10,10],\n",
    "    'g':[0.9,0,0.7],\n",
    "    'n_list':[1.37,1.37,1.37],\n",
    "    'n_air':1.,\n",
    "}\n",
    "\n",
    "model = VoxcelPlateModel()\n",
    "model.built(**params)\n",
    "\n",
    "monte = VoxcelMonteCalro(nPh = 100,model = model)\n",
    "\n"
   ]
  },
  {
   "cell_type": "code",
   "execution_count": 505,
   "metadata": {},
   "outputs": [
    {
     "data": {
      "text/plain": [
       "0.01"
      ]
     },
     "execution_count": 505,
     "metadata": {},
     "output_type": "execute_result"
    }
   ],
   "source": [
    "model.voxcel_space"
   ]
  },
  {
   "cell_type": "code",
   "execution_count": 519,
   "metadata": {},
   "outputs": [
    {
     "data": {
      "text/plain": [
       "(1002, 1000, 42)"
      ]
     },
     "execution_count": 519,
     "metadata": {},
     "output_type": "execute_result"
    }
   ],
   "source": [
    "model.voxcel_model.shape"
   ]
  },
  {
   "cell_type": "code",
   "execution_count": 7,
   "metadata": {},
   "outputs": [
    {
     "data": {
      "text/plain": [
       "array([nan], dtype=float32)"
      ]
     },
     "execution_count": 7,
     "metadata": {},
     "output_type": "execute_result"
    }
   ],
   "source": [
    "monte.w_result"
   ]
  },
  {
   "cell_type": "code",
   "execution_count": 516,
   "metadata": {},
   "outputs": [
    {
     "data": {
      "text/plain": [
       "array([0.9756271, 0.9756271, 0.9756271, 0.9756271, 0.9756271, 0.9756271,\n",
       "       0.9756271, 0.9756271, 0.9756271, 0.9756271, 0.9756271, 0.9756271,\n",
       "       0.9756271, 0.9756271, 0.9756271, 0.9756271, 0.9756271, 0.9756271,\n",
       "       0.9756271, 0.9756271, 0.9756271, 0.9756271, 0.9756271, 0.9756271,\n",
       "       0.9756271, 0.9756271, 0.9756271, 0.9756271, 0.9756271, 0.9756271,\n",
       "       0.9756271, 0.9756271, 0.9756271, 0.9756271, 0.9756271, 0.9756271,\n",
       "       0.9756271, 0.9756271, 0.9756271, 0.9756271, 0.9756271, 0.9756271,\n",
       "       0.9756271, 0.9756271, 0.9756271, 0.9756271, 0.9756271, 0.9756271,\n",
       "       0.9756271, 0.9756271, 0.9756271, 0.9756271, 0.9756271, 0.9756271,\n",
       "       0.9756271, 0.9756271, 0.9756271, 0.9756271, 0.9756271, 0.9756271,\n",
       "       0.9756271, 0.9756271, 0.9756271, 0.9756271, 0.9756271, 0.9756271,\n",
       "       0.9756271, 0.9756271, 0.9756271, 0.9756271, 0.9756271, 0.9756271,\n",
       "       0.9756271, 0.9756271, 0.9756271, 0.9756271, 0.9756271, 0.9756271,\n",
       "       0.9756271, 0.9756271, 0.9756271, 0.9756271, 0.9756271, 0.9756271,\n",
       "       0.9756271, 0.9756271, 0.9756271, 0.9756271, 0.9756271, 0.9756271,\n",
       "       0.9756271, 0.9756271, 0.9756271, 0.9756271, 0.9756271, 0.9756271,\n",
       "       0.9756271, 0.9756271, 0.9756271, 0.9756271], dtype=float32)"
      ]
     },
     "execution_count": 516,
     "metadata": {},
     "output_type": "execute_result"
    }
   ],
   "source": [
    "monte.w"
   ]
  },
  {
   "cell_type": "code",
   "execution_count": 22,
   "metadata": {},
   "outputs": [
    {
     "name": "stdout",
     "output_type": "stream",
     "text": [
      "\n",
      "###### Start ######\n",
      "\n",
      "[1.13875940e-03 1.14715082e-03 2.91497148e-03 4.98963335e-03\n",
      " 5.46736557e-03 2.17216953e-03 3.32046583e-03 2.71074943e-03\n",
      " 6.37633618e-03 2.89058033e-03 3.75598399e-03 5.88786289e-03\n",
      " 6.01757829e-03 4.83503962e-03 5.58562914e-04 7.72934534e-03\n",
      " 7.64418902e-03 7.71782384e-03 4.50669262e-03 4.83737818e-03\n",
      " 2.99484270e-03 7.62730451e-03 6.73218459e-03 1.39322089e-03\n",
      " 7.85536493e-03 6.88728959e-03 9.12020922e-03 5.12957168e-03\n",
      " 6.93326705e-03 7.90240406e-04 9.34807655e-03 5.19826393e-03\n",
      " 2.64897239e-03 7.54196718e-03 8.05627022e-03 7.51526838e-04\n",
      " 3.27874498e-03 9.18903249e-03 1.39254134e-03 4.94128274e-03\n",
      " 2.17793741e-03 2.83652127e-04 6.80611121e-03 1.49254130e-03\n",
      " 2.76146939e-03 4.12874647e-03 3.22303977e-03 9.31470094e-03\n",
      " 3.46125290e-03 7.17531728e-03 4.73277934e-03 6.57560319e-03\n",
      " 9.34570487e-04 8.49971594e-05 5.66650655e-03 8.59878923e-04\n",
      " 1.26984658e-03 2.60517609e-03 8.13111474e-03 1.87450711e-04\n",
      " 6.79256190e-03 4.84280453e-03 9.81827596e-03 1.49768397e-03\n",
      " 9.08610467e-03 9.07512312e-03 1.07779948e-03 9.62980426e-03\n",
      " 2.58588752e-03 9.16873922e-04 8.22362662e-03 1.85347305e-03\n",
      " 8.89565078e-03 7.06205260e-04 3.06927525e-03 3.59057138e-03\n",
      " 4.52297506e-03 2.17157394e-03 8.25610773e-03 5.82428220e-03\n",
      " 6.39334694e-03 4.67540158e-03 4.59166478e-03 1.98040695e-03\n",
      " 3.30808294e-03 9.84992459e-03 8.69801836e-03 3.17333975e-04\n",
      " 3.48576834e-04 9.26441496e-03 5.15484146e-03 1.36502751e-03\n",
      " 5.86614092e-03 6.49139466e-03 8.50118932e-03 6.68001669e-03\n",
      " 8.13632147e-03 7.48927989e-03 6.23399326e-03 5.54367219e-03]\n",
      "[0.01 0.01 0.01 0.01 0.01 0.01 0.01 0.01 0.01 0.01 0.01 0.01 0.01 0.01\n",
      " 0.01 0.01 0.01 0.01 0.01 0.01 0.01 0.01 0.01 0.01 0.01 0.01 0.01 0.01\n",
      " 0.01 0.01 0.01 0.01 0.01 0.01 0.01 0.01 0.01 0.01 0.01 0.01 0.01 0.01\n",
      " 0.01 0.01 0.01 0.01 0.01 0.01 0.01 0.01 0.01 0.01 0.01 0.01 0.01 0.01\n",
      " 0.01 0.01 0.01 0.01 0.01 0.01 0.01 0.01 0.01 0.01 0.01 0.01 0.01 0.01\n",
      " 0.01 0.01 0.01 0.01 0.01 0.01 0.01 0.01 0.01 0.01 0.01 0.01 0.01 0.01\n",
      " 0.01 0.01 0.01 0.01 0.01 0.01 0.01 0.01 0.01 0.01 0.01 0.01 0.01 0.01\n",
      " 0.01 0.01]\n",
      "[8.03896583e-03 9.99038203e-04 5.56438205e-03 5.95615899e-03\n",
      " 1.57708895e-03 3.03718102e-03 2.70887518e-04 4.51133783e-03\n",
      " 4.94270182e-03 3.18447482e-03 5.78547979e-03 5.70325836e-03\n",
      " 5.63165537e-03 8.69430243e-03 5.25303893e-03 6.92501715e-03\n",
      " 4.64196409e-03 1.76994484e-03 2.90836326e-03 2.15561901e-03\n",
      " 8.02393098e-03 4.23382247e-03 8.79072643e-03 9.83054882e-03\n",
      " 1.26761084e-03 9.24391844e-03 8.42111862e-03 6.68942688e-03\n",
      " 2.69269374e-03 6.81789692e-03 9.02553520e-03 6.91170875e-03\n",
      " 1.90040355e-03 9.73875415e-05 7.29073738e-04 5.29929750e-03\n",
      " 5.29231312e-04 8.06964471e-03 3.33869897e-03 9.89157340e-03\n",
      " 3.10505272e-03 7.23889308e-03 9.16734612e-03 4.22126690e-03\n",
      " 7.93566854e-03 8.00430566e-03 1.53182577e-03 4.71265487e-03\n",
      " 1.17673892e-03 2.07438010e-03 8.70564668e-03 3.81002748e-03\n",
      " 7.17550173e-04 9.19273525e-03 5.01359916e-04 7.80954738e-03\n",
      " 1.02600577e-03 4.19748745e-03 8.66514970e-03 7.99128227e-03\n",
      " 5.31261637e-03 1.70000496e-03 8.02791565e-03 7.66144803e-03\n",
      " 1.62244729e-03 5.23347461e-03 9.81449479e-03 2.01266149e-03\n",
      " 4.15392266e-03 7.37583363e-03 5.04485289e-03 6.45516893e-03\n",
      " 2.91573492e-03 6.36174555e-03 7.91085407e-03 4.87715085e-03\n",
      " 6.18457751e-03 4.86563332e-03 9.55793524e-03 5.68665604e-03\n",
      " 9.00872030e-03 9.17945639e-03 3.73058166e-03 6.62192602e-04\n",
      " 7.31434519e-03 4.30174744e-03 6.31080968e-03 6.10381180e-03\n",
      " 2.33071944e-03 8.64360627e-04 1.61623255e-03 1.95211114e-03\n",
      " 1.23586681e-03 6.99876442e-03 9.27289238e-03 7.95601467e-03\n",
      " 1.01712366e-03 6.71245609e-03 7.31881858e-03 9.57253581e-03]\n",
      "[0.00886437 0.00921607 0.00709826 0.005127   0.00456564 0.00791471\n",
      " 0.00668023 0.00734297 0.00362872 0.00731732 0.00686216 0.00413048\n",
      " 0.00407032 0.00584986 0.00957577 0.00227483 0.00310166 0.00797852\n",
      " 0.00617192 0.00572838 0.00700835 0.00241529 0.00326985 0.00916105\n",
      " 0.00218396 0.0031905  0.00088111 0.00487144 0.00309612 0.0092797\n",
      " 0.00066485 0.00674165 0.00579273 0.00262774 0.00195563 0.00957436\n",
      " 0.00672541 0.00166479 0.00928765 0.00533847 0.00784964 0.00973273\n",
      " 0.00320224 0.00860791 0.0073881  0.00508962 0.00691987 0.00104793\n",
      " 0.00661332 0.00283811 0.00619061 0.00345496 0.00910416 0.01003621\n",
      " 0.00516955 0.00919345 0.00889424 0.00748072 0.00189315 0.009917\n",
      " 0.0033414  0.00543769 0.0001977  0.008583   0.00093569 0.00092532\n",
      " 0.0096421  0.00037315 0.00754493 0.00911096 0.00177865 0.00945882\n",
      " 0.00115055 0.00939352 0.00695043 0.00641937 0.00621227 0.00791847\n",
      " 0.00176044 0.00422324 0.00470724 0.00541275 0.00546716 0.00825289\n",
      " 0.00681363 0.00015317 0.00132727 0.00969959 0.00966914 0.0007376\n",
      " 0.00503526 0.0086761  0.00425391 0.00352002 0.00163628 0.00361826\n",
      " 0.00285652 0.00252479 0.00383779 0.00447438]\n",
      "[0.00082916 0.00131399 0.00157278 0.00156134 0.00284445 0.00465018\n",
      " 0.00154031 0.00101558 0.00181854 0.00552088 0.0006695  0.00605342\n",
      " 0.00754001 0.00181799 0.00836068 0.00017006 0.00640485 0.0045531\n",
      " 0.00596511 0.00054757 0.00291469 0.00366472 0.00251503 0.00035507\n",
      " 0.006772   0.00197122 0.00783021 0.00068675 0.00430816 0.00017239\n",
      " 0.00163952 0.00326621 0.00176518 0.00096043 0.0077975  0.00146342\n",
      " 0.00430148 0.00376671 0.00050071 0.00414857 0.00498354 0.00012676\n",
      " 0.00347874 0.00763661 0.00433776 0.00418767 0.00348103 0.00509816]\n",
      "[0.01023278 0.01001394 0.01004461 0.01022071 0.01132604 0.01001841\n",
      " 0.00874016 0.01000456 0.01017951 0.01000623 0.01064399 0.01024992\n",
      " 0.01001498 0.01000207 0.01019831 0.00866068 0.00710683 0.00853655\n",
      " 0.01002615 0.01020663 0.01017924 0.0076831  0.00952595 0.01008925\n",
      " 0.01012982 0.01041766 0.01087939 0.01023852 0.01000476 0.01080687\n",
      " 0.01007968 0.0100128  0.0104184  0.01002843 0.01009487 0.0101138\n",
      " 0.00852285 0.01016555 0.01018189 0.01020645 0.01019426 0.01002746\n",
      " 0.01003254 0.01091719 0.01089843 0.01005604 0.0101906  0.0100405 ]\n",
      "Progress: 0.0 [％]\n",
      "Calculation time: 0 minutes 0 seconds.\n",
      "\n",
      "[8.23111056e-03 2.06023346e-03 9.81469782e-03 1.07884846e-03\n",
      " 7.02631253e-03 2.23927660e-03 6.26586417e-03 6.30212164e-03\n",
      " 3.43105263e-03 4.71067840e-03 6.64133516e-03 6.14001425e-03\n",
      " 8.89977795e-03 3.64787751e-03 2.41692182e-03 1.13225922e-03\n",
      " 4.38759627e-03 1.47423271e-03 8.40298681e-04 9.06777710e-03\n",
      " 6.61486421e-04 3.28946204e-03 3.38421269e-04 4.46701824e-03\n",
      " 6.16198121e-03 3.02623864e-03 9.84418262e-04 9.86922188e-03\n",
      " 3.81395288e-04 8.84425601e-03 7.11321937e-03 5.82634979e-04\n",
      " 3.42717894e-03 7.07134722e-03 3.02112414e-03 6.79779199e-03\n",
      " 9.11198117e-04 5.88595689e-03 1.54557592e-03 1.68052706e-03\n",
      " 3.14608846e-03 6.00937503e-03 5.38009555e-03 2.91620450e-04\n",
      " 3.78491312e-03 8.91022385e-03 5.28349426e-03 5.99161595e-03\n",
      " 3.70671100e-03 6.42520539e-03 4.78552073e-03 7.18709683e-03\n",
      " 1.69896332e-03 9.93020211e-05 3.22764442e-03 7.80994853e-04\n",
      " 5.74367323e-03 9.47936994e-03 1.26824341e-03 9.52489261e-03\n",
      " 9.23471445e-03 8.30765021e-03 4.50319426e-03 5.25954797e-04\n",
      " 3.45414187e-03 1.30855946e-03 2.54384397e-03 8.73534118e-03\n",
      " 8.24662094e-03 5.24079327e-03 6.26697405e-03 8.15768460e-04\n",
      " 3.96109648e-03 1.57958803e-03 9.36931614e-03 4.72874033e-03\n",
      " 9.14240196e-03 6.16844274e-03 9.57996735e-03 1.95950963e-03\n",
      " 7.36718155e-03 8.68832100e-03 8.88074791e-03 6.48557213e-03\n",
      " 6.38879901e-03 7.27599350e-03 3.84007860e-03 9.29402141e-03\n",
      " 5.48747180e-03 2.83634197e-03 1.96399999e-03 6.65746717e-03\n",
      " 7.83019487e-03 4.18459794e-03 4.74273050e-03 9.47973643e-03\n",
      " 2.85861163e-03 4.87945329e-03 4.11352819e-03 4.28396564e-03]\n",
      "[0.0093439  0.00893331 0.01006674 0.00859834 0.00820592 0.00537046\n",
      " 0.00722547 0.00898535 0.00830146 0.00454637 0.01070697 0.00429341\n",
      " 0.00333979 0.00966241 0.00396987 0.00823942 0.00070721 0.00660521\n",
      " 0.00406631 0.0098731  0.00723388 0.00365725 0.00771965 0.01002501\n",
      " 0.00334619 0.00916496 0.00336481 0.01067708 0.00600424 0.00963718\n",
      " 0.00952849 0.00688835 0.00878877 0.00912757 0.0023623  0.00919205\n",
      " 0.00428294 0.00642322 0.0102942  0.00556355 0.00526347 0.01001966\n",
      " 0.00667136 0.00306839 0.00682737 0.00590649 0.00661544 0.00511202]\n"
     ]
    },
    {
     "ename": "ValueError",
     "evalue": "operands could not be broadcast together with shapes (100,) (48,) ",
     "output_type": "error",
     "traceback": [
      "\u001b[0;31m---------------------------------------------------------------------------\u001b[0m",
      "\u001b[0;31mValueError\u001b[0m                                Traceback (most recent call last)",
      "\u001b[0;32m<ipython-input-22-51a24386888d>\u001b[0m in \u001b[0;36m<module>\u001b[0;34m\u001b[0m\n\u001b[0;32m----> 1\u001b[0;31m \u001b[0mmonte\u001b[0m\u001b[0;34m.\u001b[0m\u001b[0mstart\u001b[0m\u001b[0;34m(\u001b[0m\u001b[0;34m)\u001b[0m\u001b[0;34m\u001b[0m\u001b[0;34m\u001b[0m\u001b[0m\n\u001b[0m",
      "\u001b[0;32m<ipython-input-2-b7b55a22cbe8>\u001b[0m in \u001b[0;36mstart\u001b[0;34m(self)\u001b[0m\n\u001b[1;32m     21\u001b[0m         \u001b[0mstart_\u001b[0m \u001b[0;34m=\u001b[0m \u001b[0mtime\u001b[0m\u001b[0;34m.\u001b[0m\u001b[0mtime\u001b[0m\u001b[0;34m(\u001b[0m\u001b[0;34m)\u001b[0m\u001b[0;34m\u001b[0m\u001b[0;34m\u001b[0m\u001b[0m\n\u001b[1;32m     22\u001b[0m \u001b[0;34m\u001b[0m\u001b[0m\n\u001b[0;32m---> 23\u001b[0;31m         \u001b[0mcount\u001b[0m \u001b[0;34m=\u001b[0m \u001b[0mself\u001b[0m\u001b[0;34m.\u001b[0m\u001b[0mmonteCycle\u001b[0m\u001b[0;34m(\u001b[0m\u001b[0mstart_\u001b[0m\u001b[0;34m)\u001b[0m\u001b[0;34m\u001b[0m\u001b[0;34m\u001b[0m\u001b[0m\n\u001b[0m\u001b[1;32m     24\u001b[0m         \u001b[0mself\u001b[0m\u001b[0;34m.\u001b[0m\u001b[0mendProcess\u001b[0m\u001b[0;34m(\u001b[0m\u001b[0;34m)\u001b[0m\u001b[0;34m\u001b[0m\u001b[0;34m\u001b[0m\u001b[0m\n\u001b[1;32m     25\u001b[0m \u001b[0;34m\u001b[0m\u001b[0m\n",
      "\u001b[0;32m<ipython-input-2-b7b55a22cbe8>\u001b[0m in \u001b[0;36mmonteCycle\u001b[0;34m(self, start_)\u001b[0m\n\u001b[1;32m     38\u001b[0m         \u001b[0;31m# Let's MonteCalro!\u001b[0m\u001b[0;34m\u001b[0m\u001b[0;34m\u001b[0m\u001b[0;34m\u001b[0m\u001b[0m\n\u001b[1;32m     39\u001b[0m         \u001b[0;32mwhile\u001b[0m \u001b[0mw_size\u001b[0m \u001b[0;34m!=\u001b[0m \u001b[0;36m0\u001b[0m\u001b[0;34m:\u001b[0m\u001b[0;34m\u001b[0m\u001b[0;34m\u001b[0m\u001b[0m\n\u001b[0;32m---> 40\u001b[0;31m             \u001b[0mw_size\u001b[0m \u001b[0;34m=\u001b[0m \u001b[0mself\u001b[0m\u001b[0;34m.\u001b[0m\u001b[0mstepMovement\u001b[0m\u001b[0;34m(\u001b[0m\u001b[0;34m)\u001b[0m\u001b[0;34m\u001b[0m\u001b[0;34m\u001b[0m\u001b[0m\n\u001b[0m\u001b[1;32m     41\u001b[0m             \u001b[0mcount\u001b[0m\u001b[0;34m+=\u001b[0m\u001b[0;36m1\u001b[0m\u001b[0;34m\u001b[0m\u001b[0;34m\u001b[0m\u001b[0m\n\u001b[1;32m     42\u001b[0m             \u001b[0;32mif\u001b[0m \u001b[0mcount\u001b[0m\u001b[0;34m%\u001b[0m\u001b[0mcounter\u001b[0m\u001b[0;34m==\u001b[0m\u001b[0;36m0\u001b[0m\u001b[0;34m:\u001b[0m\u001b[0;34m\u001b[0m\u001b[0;34m\u001b[0m\u001b[0m\n",
      "\u001b[0;32m<ipython-input-20-a8ea59dfcf34>\u001b[0m in \u001b[0;36mstepMovement\u001b[0;34m(self)\u001b[0m\n\u001b[1;32m    164\u001b[0m         \u001b[0madd\u001b[0m \u001b[0;34m=\u001b[0m \u001b[0mself\u001b[0m\u001b[0;34m.\u001b[0m\u001b[0madd\u001b[0m\u001b[0;34m\u001b[0m\u001b[0;34m\u001b[0m\u001b[0m\n\u001b[1;32m    165\u001b[0m         \u001b[0ms\u001b[0m \u001b[0;34m=\u001b[0m \u001b[0mnp\u001b[0m\u001b[0;34m.\u001b[0m\u001b[0mrandom\u001b[0m\u001b[0;34m.\u001b[0m\u001b[0mrand\u001b[0m\u001b[0;34m(\u001b[0m\u001b[0mw\u001b[0m\u001b[0;34m.\u001b[0m\u001b[0msize\u001b[0m\u001b[0;34m)\u001b[0m\u001b[0;34m\u001b[0m\u001b[0;34m\u001b[0m\u001b[0m\n\u001b[0;32m--> 166\u001b[0;31m         \u001b[0mv\u001b[0m\u001b[0;34m,\u001b[0m\u001b[0mp\u001b[0m\u001b[0;34m,\u001b[0m\u001b[0madd\u001b[0m\u001b[0;34m,\u001b[0m\u001b[0mindex\u001b[0m \u001b[0;34m=\u001b[0m \u001b[0mself\u001b[0m\u001b[0;34m.\u001b[0m\u001b[0mRTInterface\u001b[0m\u001b[0;34m(\u001b[0m\u001b[0mv\u001b[0m\u001b[0;34m,\u001b[0m\u001b[0mp\u001b[0m\u001b[0;34m,\u001b[0m\u001b[0madd\u001b[0m\u001b[0;34m,\u001b[0m\u001b[0ms\u001b[0m\u001b[0;34m)\u001b[0m\u001b[0;34m\u001b[0m\u001b[0;34m\u001b[0m\u001b[0m\n\u001b[0m\u001b[1;32m    167\u001b[0m         \u001b[0mp\u001b[0m\u001b[0;34m,\u001b[0m\u001b[0mv\u001b[0m\u001b[0;34m,\u001b[0m\u001b[0mw\u001b[0m\u001b[0;34m,\u001b[0m\u001b[0madd\u001b[0m \u001b[0;34m=\u001b[0m \u001b[0mself\u001b[0m\u001b[0;34m.\u001b[0m\u001b[0mborderOut\u001b[0m\u001b[0;34m(\u001b[0m\u001b[0mp\u001b[0m\u001b[0;34m,\u001b[0m\u001b[0mv\u001b[0m\u001b[0;34m,\u001b[0m\u001b[0mw\u001b[0m\u001b[0;34m,\u001b[0m\u001b[0madd\u001b[0m\u001b[0;34m,\u001b[0m\u001b[0mindex\u001b[0m\u001b[0;34m)\u001b[0m\u001b[0;34m\u001b[0m\u001b[0;34m\u001b[0m\u001b[0m\n\u001b[1;32m    168\u001b[0m         \u001b[0mG\u001b[0m \u001b[0;34m=\u001b[0m \u001b[0mself\u001b[0m\u001b[0;34m.\u001b[0m\u001b[0mmodel\u001b[0m\u001b[0;34m.\u001b[0m\u001b[0mgetAnisotropyCoeff\u001b[0m\u001b[0;34m(\u001b[0m\u001b[0madd\u001b[0m\u001b[0;34m)\u001b[0m\u001b[0;34m\u001b[0m\u001b[0;34m\u001b[0m\u001b[0m\n",
      "\u001b[0;32m<ipython-input-20-a8ea59dfcf34>\u001b[0m in \u001b[0;36mRTInterface\u001b[0;34m(self, v, p, add, s)\u001b[0m\n\u001b[1;32m    126\u001b[0m             \u001b[0mprint\u001b[0m\u001b[0;34m(\u001b[0m\u001b[0ms_\u001b[0m\u001b[0;34m)\u001b[0m\u001b[0;34m\u001b[0m\u001b[0;34m\u001b[0m\u001b[0m\n\u001b[1;32m    127\u001b[0m             \u001b[0mprint\u001b[0m\u001b[0;34m(\u001b[0m\u001b[0mdb\u001b[0m\u001b[0;34m.\u001b[0m\u001b[0mmin\u001b[0m\u001b[0;34m(\u001b[0m\u001b[0;36m0\u001b[0m\u001b[0;34m)\u001b[0m\u001b[0;34m)\u001b[0m\u001b[0;34m\u001b[0m\u001b[0;34m\u001b[0m\u001b[0m\n\u001b[0;32m--> 128\u001b[0;31m             \u001b[0mpb_index\u001b[0m \u001b[0;34m=\u001b[0m \u001b[0mnp\u001b[0m\u001b[0;34m.\u001b[0m\u001b[0mwhere\u001b[0m\u001b[0;34m(\u001b[0m\u001b[0ms_\u001b[0m\u001b[0;34m-\u001b[0m\u001b[0mdb\u001b[0m\u001b[0;34m.\u001b[0m\u001b[0mmin\u001b[0m\u001b[0;34m(\u001b[0m\u001b[0;36m0\u001b[0m\u001b[0;34m)\u001b[0m\u001b[0;34m>=\u001b[0m\u001b[0;36m0\u001b[0m\u001b[0;34m)\u001b[0m\u001b[0;34m[\u001b[0m\u001b[0;36m0\u001b[0m\u001b[0;34m]\u001b[0m\u001b[0;34m\u001b[0m\u001b[0;34m\u001b[0m\u001b[0m\n\u001b[0m\u001b[1;32m    129\u001b[0m             \u001b[0mpn_index\u001b[0m \u001b[0;34m=\u001b[0m \u001b[0mnp\u001b[0m\u001b[0;34m.\u001b[0m\u001b[0mdelete\u001b[0m\u001b[0;34m(\u001b[0m\u001b[0mnp\u001b[0m\u001b[0;34m.\u001b[0m\u001b[0marange\u001b[0m\u001b[0;34m(\u001b[0m\u001b[0ms_\u001b[0m\u001b[0;34m.\u001b[0m\u001b[0msize\u001b[0m\u001b[0;34m)\u001b[0m\u001b[0;34m,\u001b[0m\u001b[0mpb_index\u001b[0m\u001b[0;34m)\u001b[0m\u001b[0;34m\u001b[0m\u001b[0;34m\u001b[0m\u001b[0m\n\u001b[1;32m    130\u001b[0m             \u001b[0;32mif\u001b[0m \u001b[0mlist\u001b[0m\u001b[0;34m(\u001b[0m\u001b[0mpb_index\u001b[0m\u001b[0;34m)\u001b[0m \u001b[0;34m!=\u001b[0m \u001b[0;34m[\u001b[0m\u001b[0;34m]\u001b[0m\u001b[0;34m:\u001b[0m\u001b[0;34m\u001b[0m\u001b[0;34m\u001b[0m\u001b[0m\n",
      "\u001b[0;31mValueError\u001b[0m: operands could not be broadcast together with shapes (100,) (48,) "
     ]
    }
   ],
   "source": [
    "monte.start()"
   ]
  },
  {
   "cell_type": "code",
   "execution_count": null,
   "metadata": {},
   "outputs": [],
   "source": [
    "import cython\n",
    "import numpy as np\n",
    "%load_ext Cython"
   ]
  },
  {
   "cell_type": "code",
   "execution_count": 91,
   "metadata": {},
   "outputs": [
    {
     "name": "stderr",
     "output_type": "stream",
     "text": [
      "\n",
      "Error compiling Cython file:\n",
      "------------------------------------------------------------\n",
      "...\n",
      "    n = 0\n",
      "    min_db = min(db)\n",
      "    for i in xrange(3):\n",
      "        if min_db == db[i]:\n",
      "            n = i\n",
      "    return float v,float p, int add        \n",
      "                ^\n",
      "------------------------------------------------------------\n",
      "\n",
      "/Users/kaname/.ipython/cython/_cython_magic_be205662a021167b8e511332aadf5f43.pyx:35:17: Syntax error in simple statement list\n"
     ]
    }
   ],
   "source": [
    "%%cython\n",
    "cimport numpy as cnp\n",
    "cnp.import_array()\n",
    "#SINGLE = cnp.float32\n",
    "#SHORT = cnp.int16\n",
    "ctypedef cnp.float32_t SINGLE_t\n",
    "ctypedef cnp.int16_t SHORT_t\n",
    "def borderAct(\n",
    "    cnp.ndarray[ndim=3, dtype = SINGLE_t] v,\n",
    "    cnp.ndarray[ndim=3, dtype = SINGLE_t] p,\n",
    "    cnp.ndarray[ndim=3, dtype = SHORT_t] add,\n",
    "    cnp.ndarray[ndim=3, dtype = SINGLE_t] db,\n",
    "    float l):\n",
    "    \n",
    "    cdef int array_size = v[0].size\n",
    "    v = v.T\n",
    "    p = p.T\n",
    "    add = add.T\n",
    "    db = db.T\n",
    "    for i in xrange(array_size):\n",
    "        \n",
    "        v[i],p[i],add[i] = RTInterface(\n",
    "            <float *> v[i].data,\n",
    "            <float *>p[i],\n",
    "            <float *>add[i],\n",
    "            <int *>db[i],\n",
    "            <float> l)\n",
    "        \n",
    "cdef RTInterface(\n",
    "    float *v,float *p,int *add,float *db,float l):\n",
    "    n = 0\n",
    "    min_db = min(db)\n",
    "    for i in xrange(3):\n",
    "        if min_db == db[i]:\n",
    "            n = i\n",
    "    return float v,float p, int add        \n",
    "    "
   ]
  },
  {
   "cell_type": "code",
   "execution_count": 80,
   "metadata": {},
   "outputs": [
    {
     "data": {
      "text/plain": [
       "2"
      ]
     },
     "execution_count": 80,
     "metadata": {},
     "output_type": "execute_result"
    }
   ],
   "source": [
    "a = [1,2,-1,0]\n",
    "min_a = min(a)\n",
    "n = 0\n",
    "for i in range(len(a)):\n",
    "    if min_a == a[i]:\n",
    "        n = i\n",
    "n"
   ]
  },
  {
   "cell_type": "code",
   "execution_count": null,
   "metadata": {},
   "outputs": [],
   "source": []
  },
  {
   "cell_type": "code",
   "execution_count": 62,
   "metadata": {},
   "outputs": [
    {
     "data": {
      "text/plain": [
       "array([[False,  True, False,  True, False,  True, False, False],\n",
       "       [False,  True, False,  True, False,  True, False, False],\n",
       "       [False,  True, False,  True, False,  True,  True,  True]])"
      ]
     },
     "execution_count": 62,
     "metadata": {},
     "output_type": "execute_result"
    }
   ],
   "source": [
    "def borderAct(v,p,add,db,l):\n",
    "    \n",
    "    ind = np.argmin(db,axis=0)\n",
    "    A = self.create01Array(ind,m=3)\n",
    "    B = ~A\n",
    "    ni = self.model.getReflectiveIndex(add)\n",
    "    sigAv = A*np.sign(v)\n",
    "    ds = (l/2-p[ind])/abs(v[ind])\n",
    "    db -= ds\n",
    "    p = sigAv*l/2+B*(p+v*ds)\n",
    "    nt = self.model.getReflectiveIndex(add+sigAv)\n",
    "    pb_index = np.where(ni!=nt)[0]\n",
    "\n",
    "    if list(pb_index) != []:\n",
    "        #透過判別\n",
    "        #入射角の計算\n",
    "        ai = np.arccos(abs(v[ind,pb_index]))\n",
    "        sub_index = np.where((ai>np.arcsin(nt[pb_index]/ni[pb_index])))[0]\n",
    "\n",
    "        #屈折角の計算\n",
    "        ##(ai,at)=(0,0)の時は透過させ方向ベクトルは変化させない\n",
    "        at = np.arcsin(ni[pb_index]*np.sin(ai)/nt[pb_index])\n",
    "        Ra = np.random.rand(ai.size)\\\n",
    "        -((np.sin(ai-at)/np.sin(ai+at))**2+(np.tan(ai-at)/np.tan(ai+at))**2)/2\n",
    "        #全反射はRaを強制的に0以下にし反射させる\n",
    "        Ra[sub_index] = -1\n",
    "        #透過と反射のindexを取得\n",
    "        vl_index = pb_index[np.where(Ra<=0)[0]]#反射\n",
    "        sub_index = np.where(Ra>0)[0]\n",
    "        vt_index = pb_index[sub_index]#透過\n",
    "        at = at[sub_index]\n",
    "        v[:,vl_index] = B[:,vl_index]*v[:,vl_index]-A[:,vl_index]*v[:,vl_index]\n",
    "        v[:,vt_index] = (ni[vt_index]/nt[vt_index])*B[:,vt_index]*v[:,vt_index]\\\n",
    "        +np.sign(sigAv[:,vt_index])*np.cos(at)\n",
    "        add[:,vt_index] = add[:,vt_index] +sigAv[:,vt_index]\n",
    "        p[:,vt_index] = -sigAv*l/2\n",
    "    return v,p,add,db\n"
   ]
  },
  {
   "cell_type": "code",
   "execution_count": 63,
   "metadata": {},
   "outputs": [
    {
     "name": "stdout",
     "output_type": "stream",
     "text": [
      "388 ns ± 17 ns per loop (mean ± std. dev. of 7 runs, 1000000 loops each)\n"
     ]
    }
   ],
   "source": [
    "%timeit ~a"
   ]
  },
  {
   "cell_type": "code",
   "execution_count": 60,
   "metadata": {},
   "outputs": [
    {
     "name": "stdout",
     "output_type": "stream",
     "text": [
      "1.8 µs ± 24.6 ns per loop (mean ± std. dev. of 7 runs, 1000000 loops each)\n"
     ]
    }
   ],
   "source": [
    "a = np.array([[1,0,1,0,1,0,1,1],[1,0,1,0,1,0,1,1],[1,0,1,0,1,0,1,1]]).astype(bool)\n",
    "%timeit 1-a"
   ]
  },
  {
   "cell_type": "code",
   "execution_count": 52,
   "metadata": {
    "scrolled": true
   },
   "outputs": [
    {
     "ename": "TypeError",
     "evalue": "numpy boolean subtract, the `-` operator, is not supported, use the bitwise_xor, the `^` operator, or the logical_xor function instead.",
     "output_type": "error",
     "traceback": [
      "\u001b[0;31m---------------------------------------------------------------------------\u001b[0m",
      "\u001b[0;31mTypeError\u001b[0m                                 Traceback (most recent call last)",
      "\u001b[0;32m<ipython-input-52-e003cbc13d9c>\u001b[0m in \u001b[0;36m<module>\u001b[0;34m\u001b[0m\n\u001b[0;32m----> 1\u001b[0;31m \u001b[0mget_ipython\u001b[0m\u001b[0;34m(\u001b[0m\u001b[0;34m)\u001b[0m\u001b[0;34m.\u001b[0m\u001b[0mrun_line_magic\u001b[0m\u001b[0;34m(\u001b[0m\u001b[0;34m'timeit'\u001b[0m\u001b[0;34m,\u001b[0m \u001b[0;34m'np.ones_like(a)-a'\u001b[0m\u001b[0;34m)\u001b[0m\u001b[0;34m\u001b[0m\u001b[0;34m\u001b[0m\u001b[0m\n\u001b[0m",
      "\u001b[0;32m~/opt/anaconda3/lib/python3.7/site-packages/IPython/core/interactiveshell.py\u001b[0m in \u001b[0;36mrun_line_magic\u001b[0;34m(self, magic_name, line, _stack_depth)\u001b[0m\n\u001b[1;32m   2315\u001b[0m                 \u001b[0mkwargs\u001b[0m\u001b[0;34m[\u001b[0m\u001b[0;34m'local_ns'\u001b[0m\u001b[0;34m]\u001b[0m \u001b[0;34m=\u001b[0m \u001b[0msys\u001b[0m\u001b[0;34m.\u001b[0m\u001b[0m_getframe\u001b[0m\u001b[0;34m(\u001b[0m\u001b[0mstack_depth\u001b[0m\u001b[0;34m)\u001b[0m\u001b[0;34m.\u001b[0m\u001b[0mf_locals\u001b[0m\u001b[0;34m\u001b[0m\u001b[0;34m\u001b[0m\u001b[0m\n\u001b[1;32m   2316\u001b[0m             \u001b[0;32mwith\u001b[0m \u001b[0mself\u001b[0m\u001b[0;34m.\u001b[0m\u001b[0mbuiltin_trap\u001b[0m\u001b[0;34m:\u001b[0m\u001b[0;34m\u001b[0m\u001b[0;34m\u001b[0m\u001b[0m\n\u001b[0;32m-> 2317\u001b[0;31m                 \u001b[0mresult\u001b[0m \u001b[0;34m=\u001b[0m \u001b[0mfn\u001b[0m\u001b[0;34m(\u001b[0m\u001b[0;34m*\u001b[0m\u001b[0margs\u001b[0m\u001b[0;34m,\u001b[0m \u001b[0;34m**\u001b[0m\u001b[0mkwargs\u001b[0m\u001b[0;34m)\u001b[0m\u001b[0;34m\u001b[0m\u001b[0;34m\u001b[0m\u001b[0m\n\u001b[0m\u001b[1;32m   2318\u001b[0m             \u001b[0;32mreturn\u001b[0m \u001b[0mresult\u001b[0m\u001b[0;34m\u001b[0m\u001b[0;34m\u001b[0m\u001b[0m\n\u001b[1;32m   2319\u001b[0m \u001b[0;34m\u001b[0m\u001b[0m\n",
      "\u001b[0;32m</Users/kaname/opt/anaconda3/lib/python3.7/site-packages/decorator.py:decorator-gen-60>\u001b[0m in \u001b[0;36mtimeit\u001b[0;34m(self, line, cell, local_ns)\u001b[0m\n",
      "\u001b[0;32m~/opt/anaconda3/lib/python3.7/site-packages/IPython/core/magic.py\u001b[0m in \u001b[0;36m<lambda>\u001b[0;34m(f, *a, **k)\u001b[0m\n\u001b[1;32m    185\u001b[0m     \u001b[0;31m# but it's overkill for just that one bit of state.\u001b[0m\u001b[0;34m\u001b[0m\u001b[0;34m\u001b[0m\u001b[0;34m\u001b[0m\u001b[0m\n\u001b[1;32m    186\u001b[0m     \u001b[0;32mdef\u001b[0m \u001b[0mmagic_deco\u001b[0m\u001b[0;34m(\u001b[0m\u001b[0marg\u001b[0m\u001b[0;34m)\u001b[0m\u001b[0;34m:\u001b[0m\u001b[0;34m\u001b[0m\u001b[0;34m\u001b[0m\u001b[0m\n\u001b[0;32m--> 187\u001b[0;31m         \u001b[0mcall\u001b[0m \u001b[0;34m=\u001b[0m \u001b[0;32mlambda\u001b[0m \u001b[0mf\u001b[0m\u001b[0;34m,\u001b[0m \u001b[0;34m*\u001b[0m\u001b[0ma\u001b[0m\u001b[0;34m,\u001b[0m \u001b[0;34m**\u001b[0m\u001b[0mk\u001b[0m\u001b[0;34m:\u001b[0m \u001b[0mf\u001b[0m\u001b[0;34m(\u001b[0m\u001b[0;34m*\u001b[0m\u001b[0ma\u001b[0m\u001b[0;34m,\u001b[0m \u001b[0;34m**\u001b[0m\u001b[0mk\u001b[0m\u001b[0;34m)\u001b[0m\u001b[0;34m\u001b[0m\u001b[0;34m\u001b[0m\u001b[0m\n\u001b[0m\u001b[1;32m    188\u001b[0m \u001b[0;34m\u001b[0m\u001b[0m\n\u001b[1;32m    189\u001b[0m         \u001b[0;32mif\u001b[0m \u001b[0mcallable\u001b[0m\u001b[0;34m(\u001b[0m\u001b[0marg\u001b[0m\u001b[0;34m)\u001b[0m\u001b[0;34m:\u001b[0m\u001b[0;34m\u001b[0m\u001b[0;34m\u001b[0m\u001b[0m\n",
      "\u001b[0;32m~/opt/anaconda3/lib/python3.7/site-packages/IPython/core/magics/execution.py\u001b[0m in \u001b[0;36mtimeit\u001b[0;34m(self, line, cell, local_ns)\u001b[0m\n\u001b[1;32m   1158\u001b[0m             \u001b[0;32mfor\u001b[0m \u001b[0mindex\u001b[0m \u001b[0;32min\u001b[0m \u001b[0mrange\u001b[0m\u001b[0;34m(\u001b[0m\u001b[0;36m0\u001b[0m\u001b[0;34m,\u001b[0m \u001b[0;36m10\u001b[0m\u001b[0;34m)\u001b[0m\u001b[0;34m:\u001b[0m\u001b[0;34m\u001b[0m\u001b[0;34m\u001b[0m\u001b[0m\n\u001b[1;32m   1159\u001b[0m                 \u001b[0mnumber\u001b[0m \u001b[0;34m=\u001b[0m \u001b[0;36m10\u001b[0m \u001b[0;34m**\u001b[0m \u001b[0mindex\u001b[0m\u001b[0;34m\u001b[0m\u001b[0;34m\u001b[0m\u001b[0m\n\u001b[0;32m-> 1160\u001b[0;31m                 \u001b[0mtime_number\u001b[0m \u001b[0;34m=\u001b[0m \u001b[0mtimer\u001b[0m\u001b[0;34m.\u001b[0m\u001b[0mtimeit\u001b[0m\u001b[0;34m(\u001b[0m\u001b[0mnumber\u001b[0m\u001b[0;34m)\u001b[0m\u001b[0;34m\u001b[0m\u001b[0;34m\u001b[0m\u001b[0m\n\u001b[0m\u001b[1;32m   1161\u001b[0m                 \u001b[0;32mif\u001b[0m \u001b[0mtime_number\u001b[0m \u001b[0;34m>=\u001b[0m \u001b[0;36m0.2\u001b[0m\u001b[0;34m:\u001b[0m\u001b[0;34m\u001b[0m\u001b[0;34m\u001b[0m\u001b[0m\n\u001b[1;32m   1162\u001b[0m                     \u001b[0;32mbreak\u001b[0m\u001b[0;34m\u001b[0m\u001b[0;34m\u001b[0m\u001b[0m\n",
      "\u001b[0;32m~/opt/anaconda3/lib/python3.7/site-packages/IPython/core/magics/execution.py\u001b[0m in \u001b[0;36mtimeit\u001b[0;34m(self, number)\u001b[0m\n\u001b[1;32m    167\u001b[0m         \u001b[0mgc\u001b[0m\u001b[0;34m.\u001b[0m\u001b[0mdisable\u001b[0m\u001b[0;34m(\u001b[0m\u001b[0;34m)\u001b[0m\u001b[0;34m\u001b[0m\u001b[0;34m\u001b[0m\u001b[0m\n\u001b[1;32m    168\u001b[0m         \u001b[0;32mtry\u001b[0m\u001b[0;34m:\u001b[0m\u001b[0;34m\u001b[0m\u001b[0;34m\u001b[0m\u001b[0m\n\u001b[0;32m--> 169\u001b[0;31m             \u001b[0mtiming\u001b[0m \u001b[0;34m=\u001b[0m \u001b[0mself\u001b[0m\u001b[0;34m.\u001b[0m\u001b[0minner\u001b[0m\u001b[0;34m(\u001b[0m\u001b[0mit\u001b[0m\u001b[0;34m,\u001b[0m \u001b[0mself\u001b[0m\u001b[0;34m.\u001b[0m\u001b[0mtimer\u001b[0m\u001b[0;34m)\u001b[0m\u001b[0;34m\u001b[0m\u001b[0;34m\u001b[0m\u001b[0m\n\u001b[0m\u001b[1;32m    170\u001b[0m         \u001b[0;32mfinally\u001b[0m\u001b[0;34m:\u001b[0m\u001b[0;34m\u001b[0m\u001b[0;34m\u001b[0m\u001b[0m\n\u001b[1;32m    171\u001b[0m             \u001b[0;32mif\u001b[0m \u001b[0mgcold\u001b[0m\u001b[0;34m:\u001b[0m\u001b[0;34m\u001b[0m\u001b[0;34m\u001b[0m\u001b[0m\n",
      "\u001b[0;32m<magic-timeit>\u001b[0m in \u001b[0;36minner\u001b[0;34m(_it, _timer)\u001b[0m\n",
      "\u001b[0;31mTypeError\u001b[0m: numpy boolean subtract, the `-` operator, is not supported, use the bitwise_xor, the `^` operator, or the logical_xor function instead."
     ]
    }
   ],
   "source": [
    "%timeit np.ones_like(a)-a"
   ]
  },
  {
   "cell_type": "code",
   "execution_count": 19,
   "metadata": {},
   "outputs": [],
   "source": [
    "import cython\n",
    "import numpy as np\n",
    "%load_ext Cython\n",
    "a = np.array([1,2,3])\n",
    "b = np.array([1,2,3])\n"
   ]
  },
  {
   "cell_type": "code",
   "execution_count": 41,
   "metadata": {},
   "outputs": [],
   "source": [
    "%%cython\n",
    "cimport numpy as cnp\n",
    "cpdef cy_fib(cnp.ndarray[ndim=1, dtype = cnp.int64_t] a,\n",
    "           cnp.ndarray[ndim=1, dtype = cnp.int64_t] b):\n",
    "    c = a*b\n",
    "    #c = [i*j for i,j in zip(a,b)]\n",
    "    return c"
   ]
  },
  {
   "cell_type": "code",
   "execution_count": 42,
   "metadata": {},
   "outputs": [
    {
     "data": {
      "text/plain": [
       "array([1, 4, 9])"
      ]
     },
     "execution_count": 42,
     "metadata": {},
     "output_type": "execute_result"
    }
   ],
   "source": [
    "cy_fib(a,b)"
   ]
  },
  {
   "cell_type": "code",
   "execution_count": 43,
   "metadata": {},
   "outputs": [
    {
     "name": "stdout",
     "output_type": "stream",
     "text": [
      "2.33 µs ± 38.1 ns per loop (mean ± std. dev. of 7 runs, 100000 loops each)\n"
     ]
    }
   ],
   "source": [
    "%timeit cy_fib(a,b)"
   ]
  },
  {
   "cell_type": "code",
   "execution_count": 40,
   "metadata": {},
   "outputs": [
    {
     "name": "stdout",
     "output_type": "stream",
     "text": [
      "464 ns ± 10.9 ns per loop (mean ± std. dev. of 7 runs, 1000000 loops each)\n"
     ]
    }
   ],
   "source": [
    "%timeit a*b"
   ]
  },
  {
   "cell_type": "code",
   "execution_count": 16,
   "metadata": {},
   "outputs": [
    {
     "name": "stdout",
     "output_type": "stream",
     "text": [
      "0 Mbyte\n"
     ]
    }
   ],
   "source": [
    "model = boxcelPlateModel()\n",
    "model.builtModel(thickness = [1,1],xy_size=10,space = 0.1,ma=[0.5,0.5],ms=[100,100],g=[0.9,0.8],n_list=[1.3,1.34],n_air=1)"
   ]
  },
  {
   "cell_type": "code",
   "execution_count": 17,
   "metadata": {},
   "outputs": [
    {
     "data": {
      "text/plain": [
       "10"
      ]
     },
     "execution_count": 17,
     "metadata": {},
     "output_type": "execute_result"
    }
   ],
   "source": [
    "model.xy_size"
   ]
  },
  {
   "cell_type": "code",
   "execution_count": null,
   "metadata": {},
   "outputs": [],
   "source": []
  }
 ],
 "metadata": {
  "kernelspec": {
   "display_name": "Python 3",
   "language": "python",
   "name": "python3"
  },
  "language_info": {
   "codemirror_mode": {
    "name": "ipython",
    "version": 3
   },
   "file_extension": ".py",
   "mimetype": "text/x-python",
   "name": "python",
   "nbconvert_exporter": "python",
   "pygments_lexer": "ipython3",
   "version": "3.7.6"
  },
  "toc": {
   "base_numbering": 1,
   "nav_menu": {},
   "number_sections": true,
   "sideBar": true,
   "skip_h1_title": false,
   "title_cell": "Table of Contents",
   "title_sidebar": "Contents",
   "toc_cell": false,
   "toc_position": {},
   "toc_section_display": true,
   "toc_window_display": false
  }
 },
 "nbformat": 4,
 "nbformat_minor": 4
}
