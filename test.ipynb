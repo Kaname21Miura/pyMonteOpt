{
 "cells": [
  {
   "cell_type": "code",
   "execution_count": 2,
   "metadata": {},
   "outputs": [
    {
     "name": "stdout",
     "output_type": "stream",
     "text": [
      "\n",
      "###### Start ######\n",
      "\n"
     ]
    },
    {
     "name": "stderr",
     "output_type": "stream",
     "text": [
      "/Users/kaname/Documents/GitHub/pyMonteOpt/pymopt/solid/_classes.py:288: RuntimeWarning: invalid value encountered in true_divide\n",
      "  -((np.sin(ai-at)/np.sin(ai+at))**2+(np.tan(ai-at)/np.tan(ai+at))**2)/2\n",
      "/Users/kaname/Documents/GitHub/pyMonteOpt/pymopt/solid/_classes.py:292: RuntimeWarning: invalid value encountered in less_equal\n",
      "  vl_index = pb_index[np.where(Ra<=0)[0]]#反射\n",
      "/Users/kaname/Documents/GitHub/pyMonteOpt/pymopt/solid/_classes.py:293: RuntimeWarning: invalid value encountered in greater\n",
      "  sub_index = np.where(Ra>0)[0]\n"
     ]
    },
    {
     "name": "stdout",
     "output_type": "stream",
     "text": [
      "Progress: 0.198 [％]\n",
      "Calculation time: 0 minutes 1 seconds.\n",
      "\n",
      "Progress: 0.694 [％]\n",
      "Calculation time: 0 minutes 3 seconds.\n",
      "\n",
      "Progress: 2.206 [％]\n",
      "Calculation time: 0 minutes 6 seconds.\n",
      "\n",
      "Progress: 9.14 [％]\n",
      "Calculation time: 0 minutes 14 seconds.\n",
      "\n",
      "Progress: 29.651 [％]\n",
      "Calculation time: 0 minutes 28 seconds.\n",
      "\n",
      "Progress: 59.525 [％]\n",
      "Calculation time: 0 minutes 46 seconds.\n",
      "\n",
      "Progress: 87.273 [％]\n",
      "Calculation time: 1 minutes 2 seconds.\n",
      "\n",
      "Progress: 99.18 [％]\n",
      "Calculation time: 1 minutes 10 seconds.\n",
      "\n",
      "Progress: 99.999 [％]\n",
      "Calculation time: 1 minutes 12 seconds.\n",
      "\n",
      "\n",
      "###### Finish ######\n",
      "Maximum step number: 547\n",
      "######\n",
      "Mean Rd 0.213360\n",
      "Mean Tt 0.074619\n",
      "\n",
      "Calculation time: 1 minutes 13 seconds.\n"
     ]
    }
   ],
   "source": [
    "from pymopt.solid import SolidPlateModel\n",
    "model = SolidPlateModel()\n",
    "params = {\n",
    "    'nPh':1000000,\n",
    "    'thickness':[0.1,0.1,0.2],\n",
    "    'ms':[100,10,10],\n",
    "    'ma':[1,1,2],\n",
    "    'g':[0.9,0,0.7],\n",
    "    'n':[1.37,1.37,1.37],\n",
    "    'n_air':1.,\n",
    "}\n",
    "model.setParams(params)\n",
    "mod = model.start()"
   ]
  },
  {
   "cell_type": "code",
   "execution_count": 3,
   "metadata": {},
   "outputs": [],
   "source": [
    "rez = mod.getResult()"
   ]
  },
  {
   "cell_type": "code",
   "execution_count": 4,
   "metadata": {},
   "outputs": [
    {
     "data": {
      "text/plain": [
       "{'p': array([[-2.2524665e-03, -1.6777912e-03,  4.0599660e-04, ...,\n",
       "         -1.0126315e-03,  4.9112022e-01, -4.8679200e-01],\n",
       "        [-2.6053784e-03,  6.9196423e-04, -4.8488998e-04, ...,\n",
       "         -1.7323944e-01, -1.4141344e+00, -1.1926163e+00],\n",
       "        [ 0.0000000e+00,  0.0000000e+00,  0.0000000e+00, ...,\n",
       "          0.0000000e+00,  0.0000000e+00,  0.0000000e+00]], dtype=float32),\n",
       " 'v': array([[-0.60295576, -0.62573296,  0.6072315 , ..., -0.1947119 ,\n",
       "          0.1996116 ,  0.35771766],\n",
       "        [-0.6974256 ,  0.25806838, -0.7252289 , ..., -0.06823889,\n",
       "         -0.3673438 ,  0.50849515],\n",
       "        [-0.38735276, -0.7361107 , -0.3245196 , ..., -0.9784839 ,\n",
       "         -0.9084128 , -0.78324383]], dtype=float32),\n",
       " 'w': array([9.6596748e-01, 9.6596748e-01, 9.6596748e-01, ..., 5.3694082e-04,\n",
       "        1.5867682e-04, 3.6461215e-04], dtype=float32)}"
      ]
     },
     "execution_count": 4,
     "metadata": {},
     "output_type": "execute_result"
    }
   ],
   "source": [
    "rez"
   ]
  }
 ],
 "metadata": {
  "kernelspec": {
   "display_name": "Python 3",
   "language": "python",
   "name": "python3"
  },
  "language_info": {
   "codemirror_mode": {
    "name": "ipython",
    "version": 3
   },
   "file_extension": ".py",
   "mimetype": "text/x-python",
   "name": "python",
   "nbconvert_exporter": "python",
   "pygments_lexer": "ipython3",
   "version": "3.7.6"
  },
  "toc": {
   "base_numbering": 1,
   "nav_menu": {},
   "number_sections": true,
   "sideBar": true,
   "skip_h1_title": false,
   "title_cell": "Table of Contents",
   "title_sidebar": "Contents",
   "toc_cell": false,
   "toc_position": {},
   "toc_section_display": true,
   "toc_window_display": false
  }
 },
 "nbformat": 4,
 "nbformat_minor": 4
}
